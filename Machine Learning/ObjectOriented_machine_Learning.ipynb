{
 "cells": [
  {
   "cell_type": "markdown",
   "metadata": {},
   "source": [
    "<h1><center>Object Oriented Programming</center></h1>"
   ]
  },
  {
   "cell_type": "markdown",
   "metadata": {},
   "source": [
    "<h2>Jupyter Notebook</h2>\n",
    "\n",
    "Jupyter notebooks can be very handy as it helps in combining code with the text. We can create presentations, or technical documents using notebook. Default jupyter notebook can be difficult to work with, particularly when large document with a lot of sections and subsections. Or even codes become difficult to read if the code includes lots of functions, loops etc.\n",
    "\n",
    "If you use jupyter notebook, please install the extension: nbextension. <a href=\"https://jupyter-contrib-nbextensions.readthedocs.io/en/latest/install.html\">check here for installations</a>\n",
    "\n",
    "After you install the extension, a new option will come up as shown Figure 1 (a). Click on it to and select the extension you want in your notebook as I have selected some in Figure 1(b). Once clicked, you can use those extensions.\n",
    "\n",
    "\n",
    "<img src=\"notebook.png\" width=\"1000\">"
   ]
  },
  {
   "cell_type": "markdown",
   "metadata": {},
   "source": [
    "<h2>Introduction</h2>"
   ]
  },
  {
   "cell_type": "markdown",
   "metadata": {},
   "source": [
    "<b>Object oriented programming</b> is a programming paradigm that structures coding such that properties or behavior are bundled as individual objects. Although, python is not completely an object oriented programming language, like JAVA, we can still structure our programming in this format\n",
    "\n",
    "We will proceed with OOP using an example. We use a data from Kaggle about user churn or leaving the service (in Telcon). The database contains different information for each user. We will create a class named User and a class named MachineAlgo for understanding object oriented programming.\n",
    "\n",
    "<img src=\"fig1.png\" width=\"500\">\n",
    "\n",
    "\n",
    "<center>Class and Objects (image from <a href=\"https://www.wikitechy.com/tutorials/python/python-object-class\">here</a>)</center>"
   ]
  },
  {
   "cell_type": "markdown",
   "metadata": {},
   "source": [
    "<h2>Data</h2>"
   ]
  },
  {
   "cell_type": "code",
   "execution_count": 9,
   "metadata": {},
   "outputs": [],
   "source": [
    "import pandas as pd \n",
    "import matplotlib.pyplot as plt\n",
    "import numpy as np\n",
    "from IPython.core.display import display, HTML"
   ]
  },
  {
   "cell_type": "code",
   "execution_count": 188,
   "metadata": {},
   "outputs": [
    {
     "name": "stdout",
     "output_type": "stream",
     "text": [
      "shape (7043, 21)\n",
      "   customerID  gender  SeniorCitizen  Partner  Dependents  tenure  \\\n",
      "0  7590-VHVEG       0              0        1           0       1   \n",
      "1  5575-GNVDE       1              0        0           0      34   \n",
      "2  3668-QPYBK       1              0        0           0       2   \n",
      "3  7795-CFOCW       1              0        0           0      45   \n",
      "4  9237-HQITU       0              0        0           0       2   \n",
      "\n",
      "   PhoneService  MultipleLines  InternetService  OnlineSecurity  ...  \\\n",
      "0             0              0                1               0  ...   \n",
      "1             1              0                1               1  ...   \n",
      "2             1              0                1               1  ...   \n",
      "3             0              0                1               1  ...   \n",
      "4             1              0                2               0  ...   \n",
      "\n",
      "   DeviceProtection  TechSupport  StreamingTV  StreamingMovies  Contract  \\\n",
      "0                 0            0            0                0         1   \n",
      "1                 1            0            0                0         2   \n",
      "2                 0            0            0                0         1   \n",
      "3                 1            1            0                0         2   \n",
      "4                 0            0            0                0         1   \n",
      "\n",
      "   PaperlessBilling  PaymentMethod  MonthlyCharges  TotalCharges Churn  \n",
      "0                 1              2           29.85         29.85     0  \n",
      "1                 0              3           56.95        1889.5     0  \n",
      "2                 1              3           53.85        108.15     1  \n",
      "3                 0              0           42.30       1840.75     0  \n",
      "4                 1              2           70.70        151.65     1  \n",
      "\n",
      "[5 rows x 21 columns]\n"
     ]
    }
   ],
   "source": [
    "data = pd.read_csv('churn.csv')\n",
    "print('shape',data.shape)\n",
    "print(data.head())"
   ]
  },
  {
   "cell_type": "markdown",
   "metadata": {},
   "source": [
    "<h2>Loops</h2>\n",
    "\n",
    "Loops are used for iterations. It is going over the values. For example, lets add the sum of MonthlyCharges of the 6th to 10th users. Since indexing starts from 0, 6th user will be represented by index 5. There are different types of loops in different languages, we will go through just the \"for\" loop here."
   ]
  },
  {
   "cell_type": "code",
   "execution_count": 190,
   "metadata": {},
   "outputs": [
    {
     "name": "stdout",
     "output_type": "stream",
     "text": [
      "5 99.65\n",
      "6 89.1\n",
      "7 29.75\n",
      "8 104.8\n",
      "9 56.15\n",
      "sum of monthly charges: 379.45\n"
     ]
    }
   ],
   "source": [
    "'''\n",
    "u is the counter \n",
    "range(x,y): is the range in which the u value should move (u changes from x to y-1), in the example, it will be from 5 to 9\n",
    "'''\n",
    "\n",
    "sum_charges = 0\n",
    "for u in range(5,10):\n",
    "    monthlyCharge = data.iloc[u]['MonthlyCharges']\n",
    "    print(u, monthlyCharge)\n",
    "    sum_charges = sum_charges + monthlyCharge       # short: sum_charges += monthlyCharge\n",
    "\n",
    "print('sum of monthly charges:',sum_charges)"
   ]
  },
  {
   "cell_type": "code",
   "execution_count": 198,
   "metadata": {},
   "outputs": [
    {
     "name": "stdout",
     "output_type": "stream",
     "text": [
      "5 , mod 7 of i (remainder when i is divided by 7): 5\n",
      "randomly printing: 500\n",
      "6 , mod 7 of i (remainder when i is divided by 7): 6\n",
      "randomly printing: 600\n",
      "7 , mod 7 of i (remainder when i is divided by 7): 0\n",
      "broken here\n"
     ]
    }
   ],
   "source": [
    "'''\n",
    "Stopping (breaking), passing and continuing the loop\n",
    "stopping: if some condition is satisfied, we can stop the loop (break will stop the current loop)\n",
    "EXAMPLE USE: if we are checking if \"V\" comes in \"DAVIS\", loop-> \"D\",\"A\",\"V\" (break here as V is in Davis and no longer we need to check for all the remaining letters) - save computational time\n",
    "'''\n",
    "\n",
    "for i in range(5,10):\n",
    "    print(i, ', mod 7 of i (remainder when i is divided by 7):',i%7)\n",
    "    if i%7 == 0:                        # if mod of i (remainder when i is divided by 7) is 0, stop the loop\n",
    "        print('broken here')\n",
    "        break                           # it breaks the loop here\n",
    "        \n",
    "    print('randomly printing:', i*100)  # the loop will not reach here as it was broken already"
   ]
  },
  {
   "cell_type": "code",
   "execution_count": 200,
   "metadata": {},
   "outputs": [
    {
     "name": "stdout",
     "output_type": "stream",
     "text": [
      "5 , mod 7 of i (remainder when i is divided by 7): 5\n",
      "randomly printing: 500\n",
      "6 , mod 7 of i (remainder when i is divided by 7): 6\n",
      "randomly printing: 600\n",
      "7 , mod 7 of i (remainder when i is divided by 7): 0\n",
      "passed here\n",
      "randomly printing: 700\n",
      "8 , mod 7 of i (remainder when i is divided by 7): 1\n",
      "randomly printing: 800\n",
      "9 , mod 7 of i (remainder when i is divided by 7): 2\n",
      "randomly printing: 900\n"
     ]
    }
   ],
   "source": [
    "'''\n",
    "passing the current loop does not break the loop but it will perform no further action in that loop\n",
    "EXAMPLE: suppose the code gives error in one index. Go through the next without stoppping the code (error handling)\n",
    "'''\n",
    "\n",
    "for i in range(5,10):\n",
    "    print(i, ', mod 7 of i (remainder when i is divided by 7):',i%7)\n",
    "    if i%7 == 0:                        # if mod of i (remainder when i is divided by 7) is 0, stop the loop\n",
    "        pass                            # do nothing (even if condition is satisfied): just a filler\n",
    "        print('passed here')\n",
    "        \n",
    "    print('randomly printing:', i*100)  # it will be printed as the loop was never broken"
   ]
  },
  {
   "cell_type": "code",
   "execution_count": 201,
   "metadata": {},
   "outputs": [
    {
     "name": "stdout",
     "output_type": "stream",
     "text": [
      "5 , mod 7 of i (remainder when i is divided by 7): 5\n",
      "randomly printing: 500\n",
      "6 , mod 7 of i (remainder when i is divided by 7): 6\n",
      "randomly printing: 600\n",
      "7 , mod 7 of i (remainder when i is divided by 7): 0\n",
      "continued here\n",
      "8 , mod 7 of i (remainder when i is divided by 7): 1\n",
      "randomly printing: 800\n",
      "9 , mod 7 of i (remainder when i is divided by 7): 2\n",
      "randomly printing: 900\n"
     ]
    }
   ],
   "source": [
    "'''\n",
    "continuing the current loop does not break the loop but it will perform no further action in that loop\n",
    "EXAMPLE: if going through users, I observe that userid is not mentioned, then ignore that user and move on\n",
    "'''\n",
    "for i in range(5,10):\n",
    "    print(i, ', mod 7 of i (remainder when i is divided by 7):',i%7)\n",
    "    if i%7 == 0:                        # if mod of i (remainder when i is divided by 7) is 0, stop the loop\n",
    "        print('continued here')\n",
    "        continue                        # does not break it\n",
    "        \n",
    "    print('randomly printing:', i*100)  # it will not be printed for the value i that was \"continued\", i.e. 7"
   ]
  },
  {
   "cell_type": "code",
   "execution_count": null,
   "metadata": {},
   "outputs": [],
   "source": [
    "# Another method for runnign the loops\n",
    "# both the methods would give the same results, depending on the need, you can use either\n",
    "\n",
    "a = ['a','b','c','d']\n",
    "\n",
    "#method 1: as discussed above\n",
    "for i in range(len(a)):\n",
    "    print(a[i])\n",
    "    \n",
    "# method 2: directly use the array\n",
    "for i in a:\n",
    "    print(i)"
   ]
  },
  {
   "cell_type": "markdown",
   "metadata": {},
   "source": [
    "<h2>Functions</h2>"
   ]
  },
  {
   "cell_type": "markdown",
   "metadata": {},
   "source": [
    "Functions are used to make the code modular. For example, if we have to write the same loop again and again, it would be easier to code (short and easy to follow), if we create a function which we can call. For example in ML, we do not write the whole code for linear regression, we just call a linear regression function written in python."
   ]
  },
  {
   "cell_type": "code",
   "execution_count": 205,
   "metadata": {},
   "outputs": [
    {
     "name": "stdout",
     "output_type": "stream",
     "text": [
      "379.45 307\n"
     ]
    }
   ],
   "source": [
    "'''\n",
    "Suppose we have to find sum the monthly charges of 6th to 10th and tenure of 120th to 130th user\n",
    "this method requires us to write two loops \n",
    "it is bad coding if we have big loops or big codes (it becomes difficult to read)\n",
    "'''\n",
    "\n",
    "sum_charges = 0\n",
    "sum_tenure  = 0\n",
    "\n",
    "for u in range(5,10):\n",
    "    sum_charges += data.iloc[u]['MonthlyCharges']\n",
    "    \n",
    "for u in range(119,130):\n",
    "    sum_tenure += data.iloc[u]['tenure']\n",
    "    \n",
    "print(sum_charges,sum_tenure)"
   ]
  },
  {
   "cell_type": "code",
   "execution_count": 207,
   "metadata": {},
   "outputs": [
    {
     "name": "stdout",
     "output_type": "stream",
     "text": [
      "379.45 307\n"
     ]
    },
    {
     "ename": "NameError",
     "evalue": "name 'value' is not defined",
     "output_type": "error",
     "traceback": [
      "\u001b[1;31m---------------------------------------------------------------------------\u001b[0m",
      "\u001b[1;31mNameError\u001b[0m                                 Traceback (most recent call last)",
      "\u001b[1;32m<ipython-input-207-dffc438b2ce8>\u001b[0m in \u001b[0;36m<module>\u001b[1;34m\u001b[0m\n\u001b[0;32m     17\u001b[0m \u001b[1;31m# value is defined inside the function, outside the function, the code does not know what value is\u001b[0m\u001b[1;33m\u001b[0m\u001b[1;33m\u001b[0m\u001b[1;33m\u001b[0m\u001b[0m\n\u001b[0;32m     18\u001b[0m \u001b[1;31m# the following line would give an error\u001b[0m\u001b[1;33m\u001b[0m\u001b[1;33m\u001b[0m\u001b[1;33m\u001b[0m\u001b[0m\n\u001b[1;32m---> 19\u001b[1;33m \u001b[0mprint\u001b[0m\u001b[1;33m(\u001b[0m\u001b[0mvalue\u001b[0m\u001b[1;33m)\u001b[0m\u001b[1;33m\u001b[0m\u001b[1;33m\u001b[0m\u001b[0m\n\u001b[0m",
      "\u001b[1;31mNameError\u001b[0m: name 'value' is not defined"
     ]
    }
   ],
   "source": [
    "'''\n",
    "instead, we can create a function that would give us the sum\n",
    "def find_sum(start,end,data,column_name) : start, end, data, column_name are the inputs to the function\n",
    "return (value) : returns the output of the function (note that the variable value cannot be accessed from outside)\n",
    "'''\n",
    "\n",
    "def find_sum(start,end,data,column_name):\n",
    "    value = 0\n",
    "    for u in range(start,end):\n",
    "        value += data.iloc[u][column_name]\n",
    "    return(value)\n",
    "\n",
    "sum_charges = find_sum(5,10,data,'MonthlyCharges')\n",
    "sum_tenure  = find_sum(119,130,data,'tenure')\n",
    "\n",
    "print(sum_charges, sum_tenure)\n",
    "\n",
    "# value is defined inside the function, outside the function, the code does not know what value is\n",
    "# the following line would give an error\n",
    "print(value)"
   ]
  },
  {
   "cell_type": "markdown",
   "metadata": {},
   "source": [
    "<h2>Definition of Class and Object</h2>\n",
    "\n",
    "1. <b>Class</b> is an idea as how something should be defined (like a template or a blue print). A class gives a structure to the individual agents in the environment. In this case, we define a class \"User\": it will define how data and some operations are performed for this Class.\n",
    "\n",
    "2. <b>Object</b> is an instance of a class. In this example, each individual user is an object. Class defines the structure of the object. Other examples include, Dog is a class, a dog named Max is an instance of Dog class, with attributes \"name: Max, gender: male, age:3\". Dog has a function Bark. Cat is a class, a cat named Luna is an instance of Cat class, with attributes \"name:Luna, gender:female,age:3\". Cat has a function Meow.\n",
    "\n",
    "PS: \"Max\" is the most common name for male dogs, \"Luna is the most common name for female cats <a href=\"https://www.rover.com/blog/dog-names/#top-list\">here</a>. "
   ]
  },
  {
   "cell_type": "markdown",
   "metadata": {},
   "source": [
    "<h2>Building User Class</h2>"
   ]
  },
  {
   "cell_type": "code",
   "execution_count": 93,
   "metadata": {},
   "outputs": [],
   "source": [
    "# building a Class that will define users\n",
    "class User():\n",
    "    '''\n",
    "    this is called a constructor variable\n",
    "    it initializes the object\n",
    "    for example, even though the user has multiple attributes, we show how to initialize\n",
    "    '''\n",
    "    def __init__(self,customerID,gender,SeniorCitizen,Partner,Dependents,tenure,PhoneService,MultipleLines,InternetService,OnlineSecurity,OnlineBackup,DeviceProtection,TechSupport,StreamingTV,StreamingMovies,Contract,PaperlessBilling,PaymentMethod,MonthlyCharges,TotalCharges,Churn):\n",
    "        self.customerID      = customerID\n",
    "        self.gender          = gender\n",
    "        self.SeniorCitizen   = SeniorCitizen\n",
    "        self.Partner         = Partner\n",
    "        self.Dependents      = Dependents\n",
    "        self.tenure          = tenure\n",
    "        self.PhoneService    = PhoneService\n",
    "        self.MultipleLines   = MultipleLines\n",
    "        self.InternetService = InternetService\n",
    "        self.OnlineSecurity  = OnlineSecurity\n",
    "        self.OnlineBackup    = OnlineBackup\n",
    "        self.DeviceProtection= DeviceProtection\n",
    "        self.TechSupport     = TechSupport\n",
    "        self.StreamingTV     = StreamingTV\n",
    "        self.StreamingMovies = StreamingMovies\n",
    "        self.Contract        = Contract\n",
    "        self.PaperlessBilling= PaperlessBilling\n",
    "        self.PaymentMethod   = PaymentMethod\n",
    "        self.MonthlyCharges  = MonthlyCharges\n",
    "        self.TotalCharges    = TotalCharges\n",
    "        self.Churn           = Churn\n",
    "        \n",
    "    '''\n",
    "    we also define a function specifically for this class (a random function)\n",
    "    checks if the user uses streaming services\n",
    "    self here indicates to the instance itself\n",
    "    '''\n",
    "    def check(self):\n",
    "        var = ''\n",
    "        if self.StreamingTV == 1 and self.StreamingMovies == 1:\n",
    "            print(\"printing within the function: both\")\n",
    "            var = \"both\"\n",
    "        else:\n",
    "            print(\"printing within the function: one or none\")\n",
    "            var = \"non or both\"\n",
    "            \n",
    "        return(var)"
   ]
  },
  {
   "cell_type": "code",
   "execution_count": 94,
   "metadata": {},
   "outputs": [
    {
     "name": "stdout",
     "output_type": "stream",
     "text": [
      "gender 0 monthly charges 29.85\n"
     ]
    }
   ],
   "source": [
    "# creating one instance of User class\n",
    "\n",
    "'''\n",
    "intializing the first user\n",
    "as we put a value when defining the user (line 8), it goes to the __init__ function in the class\n",
    "'''\n",
    "customerID      = data.iloc[0,0]\n",
    "gender          = data.iloc[0,1]\n",
    "SeniorCitizen   = data.iloc[0,2]\n",
    "Partner         = data.iloc[0,3]\n",
    "Dependents      = data.iloc[0,4]\n",
    "tenure          = data.iloc[0,5]\n",
    "PhoneService    = data.iloc[0,6]\n",
    "MultipleLines   = data.iloc[0,7]\n",
    "InternetService = data.iloc[0,8]\n",
    "OnlineSecurity  = data.iloc[0,9]\n",
    "OnlineBackup    = data.iloc[0,10]\n",
    "DeviceProtection= data.iloc[0,11]\n",
    "TechSupport     = data.iloc[0,12]\n",
    "StreamingTV     = data.iloc[0,13]\n",
    "StreamingMovies = data.iloc[0,14]\n",
    "Contract        = data.iloc[0,15]\n",
    "PaperlessBilling= data.iloc[0,16]\n",
    "PaymentMethod   = data.iloc[0,17]\n",
    "MonthlyCharges  = data.iloc[0,18]\n",
    "TotalCharges    = data.iloc[0,19]\n",
    "Churn           = data.iloc[0,20]\n",
    "\n",
    "# dont need to write self here (self is a keyword to represent an instance of class)\n",
    "user = User(customerID,gender,SeniorCitizen,Partner,Dependents,tenure,PhoneService,MultipleLines,InternetService,OnlineSecurity,OnlineBackup,DeviceProtection,TechSupport,StreamingTV,StreamingMovies,Contract,PaperlessBilling,PaymentMethod,MonthlyCharges,TotalCharges,Churn)    \n",
    "\n",
    "# accessing the attribute values\n",
    "print(\"gender\",user.gender, \"monthly charges\",user.MonthlyCharges)"
   ]
  },
  {
   "cell_type": "code",
   "execution_count": 95,
   "metadata": {},
   "outputs": [],
   "source": [
    "# creating a population of the users\n",
    "\n",
    "'''\n",
    "there are different structures we can use to create user population\n",
    "we show two methods of storing user information. first is in simple array, second is a dictionary\n",
    "'''\n",
    "users_array     = []\n",
    "users_dictinary = {}\n",
    "\n",
    "number_of_users = data.shape[0]\n",
    "number_of_attributes = data.shape[1]\n",
    "\n",
    "attributes      = data.columns\n",
    "\n",
    "for u in range(number_of_users):\n",
    "    customerID      = data.iloc[u,0]\n",
    "    gender          = data.iloc[u,1]\n",
    "    SeniorCitizen   = data.iloc[u,2]\n",
    "    Partner         = data.iloc[u,3]\n",
    "    Dependents      = data.iloc[u,4]\n",
    "    tenure          = data.iloc[u,5]\n",
    "    PhoneService    = data.iloc[u,6]\n",
    "    MultipleLines   = data.iloc[u,7]\n",
    "    InternetService = data.iloc[u,8]\n",
    "    OnlineSecurity  = data.iloc[u,9]\n",
    "    OnlineBackup    = data.iloc[u,10]\n",
    "    DeviceProtection= data.iloc[u,11]\n",
    "    TechSupport     = data.iloc[u,12]\n",
    "    StreamingTV     = data.iloc[u,13]\n",
    "    StreamingMovies = data.iloc[u,14]\n",
    "    Contract        = data.iloc[u,15]\n",
    "    PaperlessBilling= data.iloc[u,16]\n",
    "    PaymentMethod   = data.iloc[u,17]\n",
    "    MonthlyCharges  = data.iloc[u,18]\n",
    "    TotalCharges    = data.iloc[u,19]\n",
    "    Churn           = data.iloc[u,20]\n",
    "    \n",
    "    #creating one user at a time\n",
    "    user = User(customerID,gender,SeniorCitizen,Partner,Dependents,tenure,PhoneService,MultipleLines,InternetService,OnlineSecurity,OnlineBackup,DeviceProtection,TechSupport,StreamingTV,StreamingMovies,Contract,PaperlessBilling,PaymentMethod,MonthlyCharges,TotalCharges,Churn)    \n",
    "\n",
    "    # once all the attribute values are added to the object, we can add it to the population\n",
    "    \n",
    "    # first adding it to the array\n",
    "    users_array.append(user)\n",
    "    \n",
    "    # adding it to a dictionary, here we can use user id also as an identifier for that user\n",
    "    users_dictinary[user.customerID] = user"
   ]
  },
  {
   "cell_type": "code",
   "execution_count": 96,
   "metadata": {},
   "outputs": [
    {
     "data": {
      "text/plain": [
       "(7043,\n",
       " {'customerID': '7590-VHVEG',\n",
       "  'gender': 0,\n",
       "  'SeniorCitizen': 0,\n",
       "  'Partner': 1,\n",
       "  'Dependents': 0,\n",
       "  'tenure': 1,\n",
       "  'PhoneService': 0,\n",
       "  'MultipleLines': 0,\n",
       "  'InternetService': 1,\n",
       "  'OnlineSecurity': 0,\n",
       "  'OnlineBackup': 1,\n",
       "  'DeviceProtection': 0,\n",
       "  'TechSupport': 0,\n",
       "  'StreamingTV': 0,\n",
       "  'StreamingMovies': 0,\n",
       "  'Contract': 1,\n",
       "  'PaperlessBilling': 1,\n",
       "  'PaymentMethod': 2,\n",
       "  'MonthlyCharges': 29.85,\n",
       "  'TotalCharges': '29.85',\n",
       "  'Churn': 0})"
      ]
     },
     "execution_count": 96,
     "metadata": {},
     "output_type": "execute_result"
    }
   ],
   "source": [
    "# accessing the user information using both the population set\n",
    "len(users_array),users_array[0].__dict__"
   ]
  },
  {
   "cell_type": "code",
   "execution_count": 97,
   "metadata": {},
   "outputs": [
    {
     "data": {
      "text/plain": [
       "(7043,\n",
       " {'customerID': '7590-VHVEG',\n",
       "  'gender': 0,\n",
       "  'SeniorCitizen': 0,\n",
       "  'Partner': 1,\n",
       "  'Dependents': 0,\n",
       "  'tenure': 1,\n",
       "  'PhoneService': 0,\n",
       "  'MultipleLines': 0,\n",
       "  'InternetService': 1,\n",
       "  'OnlineSecurity': 0,\n",
       "  'OnlineBackup': 1,\n",
       "  'DeviceProtection': 0,\n",
       "  'TechSupport': 0,\n",
       "  'StreamingTV': 0,\n",
       "  'StreamingMovies': 0,\n",
       "  'Contract': 1,\n",
       "  'PaperlessBilling': 1,\n",
       "  'PaymentMethod': 2,\n",
       "  'MonthlyCharges': 29.85,\n",
       "  'TotalCharges': '29.85',\n",
       "  'Churn': 0})"
      ]
     },
     "execution_count": 97,
     "metadata": {},
     "output_type": "execute_result"
    }
   ],
   "source": [
    "len(users_dictinary),users_dictinary['7590-VHVEG'].__dict__"
   ]
  },
  {
   "cell_type": "code",
   "execution_count": 106,
   "metadata": {},
   "outputs": [
    {
     "name": "stdout",
     "output_type": "stream",
     "text": [
      "TV 0 Movie 0\n",
      "printing within the function: one or none\n",
      "non or both\n"
     ]
    }
   ],
   "source": [
    "'''\n",
    "checking the function inside the class\n",
    "'''\n",
    "print(\"TV\",user.StreamingTV, \"Movie\",user.StreamingMovies)\n",
    "check = user.check()\n",
    "print(check)"
   ]
  },
  {
   "cell_type": "markdown",
   "metadata": {},
   "source": [
    "<h2>Another method of constructing classes</h2>"
   ]
  },
  {
   "cell_type": "code",
   "execution_count": 82,
   "metadata": {},
   "outputs": [],
   "source": [
    "# another method of defining a class with no constructor function (__init__)\n",
    "class User():\n",
    "    def check(self):\n",
    "        var = ''\n",
    "        if self.StreamingTV == 1 and self.StreamingMovies == 1:\n",
    "            print(\"both\")\n",
    "            var = \"both\"\n",
    "        else:\n",
    "            print(\"one or none\")\n",
    "            var = \"non or both\"\n",
    "            \n",
    "        return(var)"
   ]
  },
  {
   "cell_type": "code",
   "execution_count": 81,
   "metadata": {},
   "outputs": [],
   "source": [
    "# initializing using a different method\n",
    "# there is no constructor function but we are assigning values outside the initialization\n",
    "users_array      = []\n",
    "users_dictionary = {}\n",
    "\n",
    "number_of_users = data.shape[0]\n",
    "number_of_attributes = data.shape[1]\n",
    "\n",
    "attributes      = data.columns\n",
    "\n",
    "for u in range(number_of_users):\n",
    "    user = User()                         # creating the object without using any constructor variable\n",
    "    \n",
    "    user.customerID      = data.iloc[u,0]\n",
    "    user.gender          = data.iloc[u,1]\n",
    "    user.SeniorCitizen   = data.iloc[u,2]\n",
    "    user.Partner         = data.iloc[u,3]\n",
    "    user.Dependents      = data.iloc[u,4]\n",
    "    user.tenure          = data.iloc[u,5]\n",
    "    user.PhoneService    = data.iloc[u,6]\n",
    "    user.MultipleLines   = data.iloc[u,7]\n",
    "    user.InternetService = data.iloc[u,8]\n",
    "    user.OnlineSecurity  = data.iloc[u,9]\n",
    "    user.OnlineBackup    = data.iloc[u,10]\n",
    "    user.DeviceProtection= data.iloc[u,11]\n",
    "    user.TechSupport     = data.iloc[u,12]\n",
    "    user.StreamingTV     = data.iloc[u,13]\n",
    "    user.StreamingMovies = data.iloc[u,14]\n",
    "    user.Contract        = data.iloc[u,15]\n",
    "    user.PaperlessBilling= data.iloc[u,16]\n",
    "    user.PaymentMethod   = data.iloc[u,17]\n",
    "    user.MonthlyCharges  = data.iloc[u,18]\n",
    "    user.TotalCharges    = data.iloc[u,19]\n",
    "    user.Churn           = data.iloc[u,20]\n",
    "    \n",
    "    users_array.append(user)\n",
    "    users_dictionary[user.customerID] = user"
   ]
  },
  {
   "cell_type": "markdown",
   "metadata": {},
   "source": [
    "<h2>Inheritance</h2>\n",
    "\n",
    "A class can inherit attributes and behavior methods from another function called super class. A class which inherits is called child class or sub class."
   ]
  },
  {
   "cell_type": "code",
   "execution_count": 108,
   "metadata": {},
   "outputs": [],
   "source": [
    "'''\n",
    "lets create a subclass named User_subclass\n",
    "User inside the class definition passes off all the attribute value and functions to the subclass (User_subclass)\n",
    "'''\n",
    "class User_subclass(User):\n",
    "    \n",
    "    def round_charges(self):\n",
    "        #a function that returns the interger value of the total charges\n",
    "        print(int(float(self.TotalCharges)))"
   ]
  },
  {
   "cell_type": "code",
   "execution_count": 111,
   "metadata": {},
   "outputs": [
    {
     "name": "stdout",
     "output_type": "stream",
     "text": [
      "gender 0 monthly charges 29.85\n",
      "printing within the function: one or none\n",
      "from outside the function non or both\n",
      "integer value from the round_charges function\n",
      "29\n"
     ]
    }
   ],
   "source": [
    "'''\n",
    "instead of creating a new User, lets create an instance of User_subclass\n",
    "we can also check the functions on this new instance. It will perform both the check and the round_charges function\n",
    "'''\n",
    "\n",
    "# creating an instance of User_subclass\n",
    "user = User_subclass(customerID,gender,SeniorCitizen,Partner,Dependents,tenure,PhoneService,MultipleLines,InternetService,OnlineSecurity,OnlineBackup,DeviceProtection,TechSupport,StreamingTV,StreamingMovies,Contract,PaperlessBilling,PaymentMethod,MonthlyCharges,TotalCharges,Churn)    \n",
    "\n",
    "# accessing the attribute values\n",
    "print(\"gender\",user.gender, \"monthly charges\",user.TotalCharges)\n",
    "\n",
    "# functions\n",
    "check = user.check()\n",
    "print(\"from outside the function\",check)\n",
    "\n",
    "print('integer value from the round_charges function')\n",
    "user.round_charges()"
   ]
  },
  {
   "cell_type": "code",
   "execution_count": 114,
   "metadata": {},
   "outputs": [],
   "source": [
    "'''\n",
    "Suppose we want to create an object from a sub_class, after inheriting from super class, we want to use constructor\n",
    "all the parameters still need to be passed (see that an an extra parameter for country is passed)\n",
    "instead of writing self.variable = value, we can reduce the amount of code we need to write and create a new variable\n",
    "'''\n",
    "class User_subclass(User):\n",
    "    def __init__(self,customerID,gender,SeniorCitizen,Partner,Dependents,tenure,PhoneService,MultipleLines,InternetService,OnlineSecurity,OnlineBackup,DeviceProtection,TechSupport,StreamingTV,StreamingMovies,Contract,PaperlessBilling,PaymentMethod,MonthlyCharges,TotalCharges,Churn,country):\n",
    "        super().__init__(customerID,gender,SeniorCitizen,Partner,Dependents,tenure,PhoneService,MultipleLines,InternetService,OnlineSecurity,OnlineBackup,DeviceProtection,TechSupport,StreamingTV,StreamingMovies,Contract,PaperlessBilling,PaymentMethod,MonthlyCharges,TotalCharges,Churn)\n",
    "        self.country = country\n",
    "\n",
    "country = 'USA'\n",
    "user    = User_subclass(customerID,gender,SeniorCitizen,Partner,Dependents,tenure,PhoneService,MultipleLines,InternetService,OnlineSecurity,OnlineBackup,DeviceProtection,TechSupport,StreamingTV,StreamingMovies,Contract,PaperlessBilling,PaymentMethod,MonthlyCharges,TotalCharges,Churn,country)\n"
   ]
  },
  {
   "cell_type": "markdown",
   "metadata": {},
   "source": [
    "<h2>Encapsulation</h2>\n",
    "\n",
    "It refers to binding the code with the data. It can also be used to restrict the access to variables and methods. So that data is not modified accidentally. There are two types of methods - public and private. The method check in the class User was public method and it can be accessed outside the class. We will create a private function for the class which cannot called from outside.\n",
    "\n",
    "name of the private variables and private methods (functions), start with double underscore __"
   ]
  },
  {
   "cell_type": "markdown",
   "metadata": {},
   "source": [
    "<h3>private methods</h3>"
   ]
  },
  {
   "cell_type": "code",
   "execution_count": 208,
   "metadata": {},
   "outputs": [
    {
     "name": "stdout",
     "output_type": "stream",
     "text": [
      "one or none\n"
     ]
    },
    {
     "ename": "AttributeError",
     "evalue": "'User' object has no attribute '__private_function'",
     "output_type": "error",
     "traceback": [
      "\u001b[1;31m---------------------------------------------------------------------------\u001b[0m",
      "\u001b[1;31mAttributeError\u001b[0m                            Traceback (most recent call last)",
      "\u001b[1;32m<ipython-input-208-f61d407f2d57>\u001b[0m in \u001b[0;36m<module>\u001b[1;34m\u001b[0m\n\u001b[0;32m     18\u001b[0m \u001b[0mu\u001b[0m\u001b[1;33m.\u001b[0m\u001b[0mStreamingMovies\u001b[0m \u001b[1;33m=\u001b[0m \u001b[1;36m0\u001b[0m\u001b[1;33m\u001b[0m\u001b[1;33m\u001b[0m\u001b[0m\n\u001b[0;32m     19\u001b[0m \u001b[0mu\u001b[0m\u001b[1;33m.\u001b[0m\u001b[0mcheck\u001b[0m\u001b[1;33m(\u001b[0m\u001b[1;33m)\u001b[0m\u001b[1;33m\u001b[0m\u001b[1;33m\u001b[0m\u001b[0m\n\u001b[1;32m---> 20\u001b[1;33m \u001b[0mu\u001b[0m\u001b[1;33m.\u001b[0m\u001b[0m__private_function\u001b[0m\u001b[1;33m(\u001b[0m\u001b[1;33m)\u001b[0m               \u001b[1;31m# this line gives an error\u001b[0m\u001b[1;33m\u001b[0m\u001b[1;33m\u001b[0m\u001b[0m\n\u001b[0m",
      "\u001b[1;31mAttributeError\u001b[0m: 'User' object has no attribute '__private_function'"
     ]
    }
   ],
   "source": [
    "class User():\n",
    "    def check(self):\n",
    "        var = ''\n",
    "        if self.StreamingTV == 1 and self.StreamingMovies == 1:\n",
    "            print(\"both\")\n",
    "            var = \"both\"\n",
    "        else:\n",
    "            print(\"one or none\")\n",
    "            var = \"non or both\"        \n",
    "        return(var)\n",
    "    \n",
    "    # this is how private function is define\n",
    "    def __private_function(self):\n",
    "        print('private function')\n",
    "        \n",
    "u = User()\n",
    "u.StreamingTV     = 1\n",
    "u.StreamingMovies = 0\n",
    "u.check()\n",
    "u.__private_function()               # this line gives an error"
   ]
  },
  {
   "cell_type": "markdown",
   "metadata": {},
   "source": [
    "<h3>private variables</h3>\n",
    "\n",
    "Just like private classes cannot be accessed from outside, we can create private variables which cannot be accessed from outside. In the previous cases, we can change any value by setting \"user.MonthlyCharges = 0\". If we want to avoid such mistakes, we can use private variables so that the values do not change, unless intended."
   ]
  },
  {
   "cell_type": "code",
   "execution_count": 177,
   "metadata": {},
   "outputs": [
    {
     "name": "stdout",
     "output_type": "stream",
     "text": [
      "private function\n",
      "one or none\n",
      "private function\n",
      "{'_User__country': 'USA', '_User__continent': 'North America', 'StreamingTV': 1, 'StreamingMovies': 0}\n",
      "{'_User__country': 'UK', '_User__continent': 'Europe', 'StreamingTV': 1, 'StreamingMovies': 0}\n",
      "{'_User__country': 'India', '_User__continent': 'Asia', 'StreamingTV': 1, 'StreamingMovies': 0}\n"
     ]
    }
   ],
   "source": [
    "# ---------------------------------- creating private function----------------------------\n",
    "class User():\n",
    "    __country   = ''\n",
    "    __continent = ''\n",
    "    \n",
    "    def __init__(self,country,continent):             \n",
    "        self.__country   = country\n",
    "        self.__continent = continent\n",
    "        self.__private_function()  # private function inside the __init__ function works (can be placed in any function)\n",
    "        \n",
    "    def check(self):\n",
    "        var = ''\n",
    "        if self.StreamingTV == 1 and self.StreamingMovies == 1:\n",
    "            print(\"both\")\n",
    "            var = \"both\"\n",
    "        else:\n",
    "            print(\"one or none\")\n",
    "            var = \"non or both\"\n",
    "        self.__private_function()\n",
    "        return(var)\n",
    "    \n",
    "    # this is how private function is define\n",
    "    def __private_function(self):\n",
    "        print('private function')  # can be called when placed within any other function\n",
    "        \n",
    "    def change_country(self,country,continent):\n",
    "        self.__country   = country\n",
    "        self.__continent = continent\n",
    "        \n",
    "u = User('USA','North America')\n",
    "u.StreamingTV     = 1\n",
    "u.StreamingMovies = 0\n",
    "u.check()\n",
    "print(u.__dict__)\n",
    "\n",
    "# we can changes the value only when a call the function that can change the value\n",
    "\n",
    "u.change_country('UK','Europe')\n",
    "print(u.__dict__)\n",
    "\n",
    "# we cannot call u.__country (from outside as it is a private variable), the following line throws an error\n",
    "#print(u.__country)\n",
    "\n",
    "# however, we can still access and change the values by addressing it through the following method\n",
    "# please check the u.__dict__ as how it stores value\n",
    "# however, it is unlikely that a coder would change the value using this method by mistake\n",
    "u._User__country   = 'India'\n",
    "u._User__continent = 'Asia'\n",
    "print(u.__dict__)\n"
   ]
  },
  {
   "cell_type": "markdown",
   "metadata": {},
   "source": [
    "<h2>Abstraction</h2>\n",
    "\n",
    "Like a Class is a template/blueprint for an object, an abstract class is a blueprint to construct other classes that will be built based on the abstract class. It has just declaration but no implementation (we cannot create an object for abstract class). However, the subclasses (based on abstract class) can be instantiated (or an object can be created) to access the methods in the abstract class."
   ]
  },
  {
   "cell_type": "code",
   "execution_count": 184,
   "metadata": {},
   "outputs": [
    {
     "ename": "TypeError",
     "evalue": "Can't instantiate abstract class User1 with abstract methods method2",
     "output_type": "error",
     "traceback": [
      "\u001b[1;31m---------------------------------------------------------------------------\u001b[0m",
      "\u001b[1;31mTypeError\u001b[0m                                 Traceback (most recent call last)",
      "\u001b[1;32m<ipython-input-184-f175645aa70e>\u001b[0m in \u001b[0;36m<module>\u001b[1;34m\u001b[0m\n\u001b[0;32m     26\u001b[0m \u001b[1;33m\u001b[0m\u001b[0m\n\u001b[0;32m     27\u001b[0m \u001b[1;31m# cannot be created (and give an error) becasue all the abstract methods in abstract class have not been created.\u001b[0m\u001b[1;33m\u001b[0m\u001b[1;33m\u001b[0m\u001b[1;33m\u001b[0m\u001b[0m\n\u001b[1;32m---> 28\u001b[1;33m \u001b[0mu\u001b[0m \u001b[1;33m=\u001b[0m \u001b[0mUser1\u001b[0m\u001b[1;33m(\u001b[0m\u001b[1;33m)\u001b[0m\u001b[1;33m\u001b[0m\u001b[1;33m\u001b[0m\u001b[0m\n\u001b[0m",
      "\u001b[1;31mTypeError\u001b[0m: Can't instantiate abstract class User1 with abstract methods method2"
     ]
    }
   ],
   "source": [
    "'''\n",
    "there is a predefined method for creating abstract class, from abc module\n",
    "if abstract class has 3 methods and normal class has 1 method only, an object cant be created.\n",
    "'''\n",
    "from abc import ABC,abstractmethod\n",
    "\n",
    "class Abstract(ABC): # because this Class extends ABC (or inherits ABC), it becomes an abstract class\n",
    "    \n",
    "    @abstractmethod  # to create an abstract method, we need to put @abstractmethod before it\n",
    "    def method1():\n",
    "        pass\n",
    "    \n",
    "    @abstractmethod\n",
    "    def method2():\n",
    "        pass\n",
    "    \n",
    "    def method3():\n",
    "        pass\n",
    "           \n",
    "# we create a new method, that inherits abstract class and it can be implemented\n",
    "class User1(Abstract):\n",
    "    \n",
    "    def method1(self):\n",
    "        print('method 1: current class')\n",
    "    \n",
    "\n",
    "# cannot be created (and give an error) becasue all the abstract methods in abstract class have not been created.\n",
    "u = User1()"
   ]
  },
  {
   "cell_type": "code",
   "execution_count": 185,
   "metadata": {},
   "outputs": [],
   "source": [
    "# User2 class implements all the abstractmethods from the abstract class, he we can create an instance of User2\n",
    "class User2(Abstract):\n",
    "    \n",
    "    def method1(self):\n",
    "        print('method 1: current class')\n",
    "    \n",
    "    def method2(self):\n",
    "        print('method 1: current class')\n",
    "\n",
    "u = User2()     # no error as all abstract classes are used"
   ]
  },
  {
   "cell_type": "code",
   "execution_count": 186,
   "metadata": {},
   "outputs": [],
   "source": [
    "# we can create a subclass to User2 with the missing abstract method and then we can create an object\n",
    "# but it should inherit the functions from User1\n",
    "class User3(User1):\n",
    "    \n",
    "    def method2(self):\n",
    "        print('method 2: current class')\n",
    "\n",
    "u = User3()    # no error as by inheriting, all abstract classes are used"
   ]
  },
  {
   "cell_type": "markdown",
   "metadata": {},
   "source": [
    "We can also create a constructor class in the abstract class (by using __init__) method. \n",
    "\n",
    "\n",
    "<b>Where is it used?</b> It can be helpful for creating a common Application Program Interface (API). It is used by third party companies to work with the main company. For example, some of the games e.g. helicopter is owned by a different company. Facebook provides API to the company as how they can write a code so that it can be integrated with facebook easily (and other ethical considerations). Facebook can also provide a host of different inbuilt functionality in the abstract class that can be useful for the game developed company.\n",
    "\n",
    "It is also used when we are working with a big team. To maintain the code structure, a single template is provided so that every user in the team (working on their own part of the project) can follow the same guidelines."
   ]
  },
  {
   "cell_type": "markdown",
   "metadata": {},
   "source": [
    "<h1>OOP Example in Machine Learning</h1>\n",
    "\n",
    "Similar to the previous Section, we will build classes and objects for machine learning models. This might be useful when working with team and you are working on one of the ML methods."
   ]
  },
  {
   "cell_type": "markdown",
   "metadata": {},
   "source": [
    "<h2>Data preparation</h2>"
   ]
  },
  {
   "cell_type": "code",
   "execution_count": 118,
   "metadata": {},
   "outputs": [
    {
     "name": "stdout",
     "output_type": "stream",
     "text": [
      "original shape : (7043, 21)\n",
      "new shape : (7043, 28)\n",
      "new shape of the data is higher than original as it adds new column: check the data with data.head() command\n"
     ]
    }
   ],
   "source": [
    "'''\n",
    "Some of the columns have continuos data (or integer data)\n",
    "Some of the columns have binary data\n",
    "Three columns have integer data (where value ranges from 0 to more than 1): we will convert this to one-hot vector first\n",
    "'''\n",
    "print('original shape :', data.shape)\n",
    "# converting to one hot vector\n",
    "columns_to_change = ['InternetService','Contract','PaymentMethod']\n",
    "for c in columns_to_change:\n",
    "    oneHot = pd.get_dummies(data[c],prefix=c)  # converting to one hot\n",
    "    data   = data.drop(c,axis = 1)             # drop the converted column\n",
    "    data   = pd.concat([data,oneHot],axis=1)   # Join the encoded df\n",
    "\n",
    "print('new shape :',data.shape)\n",
    "print('new shape of the data is higher than original as it adds new column: check the data with data.head() command')\n",
    "\n",
    "# normalize the data (it is always good habit to normalize the data in machine learning : not required in decison trees)\n",
    "columns_to_normalize = ['tenure','MonthlyCharges']\n",
    "for c in columns_to_normalize:\n",
    "    data[c] = (data[c]-np.mean(data[c]))/np.std(data[c])\n",
    "    \n",
    "# lets drop total charges as it is roughly equal to monthly charges x tenure (good habit to drop correlated variables)\n",
    "del data['TotalCharges']"
   ]
  },
  {
   "cell_type": "code",
   "execution_count": 152,
   "metadata": {},
   "outputs": [],
   "source": [
    "# building the class for machine learning algorithms\n",
    "from sklearn.linear_model import LogisticRegression\n",
    "from xgboost import XGBClassifier\n",
    "from sklearn.metrics import accuracy_score\n",
    "\n",
    "class MachineAlgo():\n",
    "    def __init__(self,X,y):\n",
    "        self.X = X\n",
    "        self.y = y\n",
    "        self.score_logistic = None\n",
    "        self.score_xgboost  = None\n",
    "        \n",
    "    def logistic_regression(self,parameter):\n",
    "        model  = LogisticRegression(**parameter).fit(self.X, self.y)\n",
    "        y_pred = model.predict(self.X)\n",
    "        predictions = [round(value) for value in y_pred]    # converting probability to binary\n",
    "        accuracy    = accuracy_score(self.y, predictions)\n",
    "        self.score_logistic  = accuracy\n",
    "        print(accuracy)\n",
    "        \n",
    "        \n",
    "    def xgboost(self,parameter):\n",
    "        model   = XGBClassifier(**parameter)\n",
    "        model   = model.fit(self.X, self.y)\n",
    "        y_pred  = model.predict(self.X)\n",
    "        predictions = [round(value) for value in y_pred]    # converting probability to binary\n",
    "        accuracy    = accuracy_score(self.y, predictions)\n",
    "        self.score_xgboost   = accuracy\n",
    "        print(accuracy)"
   ]
  },
  {
   "cell_type": "code",
   "execution_count": 129,
   "metadata": {},
   "outputs": [],
   "source": [
    "# preparing data for machine learning (will skip training and testing)\n",
    "# removing unnecessary columns for dataset e.g. userid and Y\n",
    "\n",
    "X = pd.DataFrame.copy(data)\n",
    "del X['customerID']\n",
    "del X['Churn']\n",
    "\n",
    "y = data['Churn']"
   ]
  },
  {
   "cell_type": "markdown",
   "metadata": {},
   "source": [
    "<h2>ML Models</h2>\n",
    "\n",
    "When running a code for any machine learning model, keep the documentation for that algorithm open (really helpful)\n",
    "\n",
    "1. logistic regression: https://scikit-learn.org/stable/modules/generated/sklearn.linear_model.LogisticRegression.html\n",
    "2. XGBoost model      : https://xgboost.readthedocs.io/en/latest/python/python_api.html#module-xgboost.sklearn\n",
    "\n",
    "Go through the different parameters, select the parameters that fits the model best (this is called hyper-parameter tuning)"
   ]
  },
  {
   "cell_type": "code",
   "execution_count": 155,
   "metadata": {},
   "outputs": [
    {
     "name": "stdout",
     "output_type": "stream",
     "text": [
      "X shape: (7043, 25) y shape: (7043,)\n",
      "0.8037767996592361\n",
      "0.8401249467556439\n",
      "\n",
      "printing accuracy ------ \n",
      "0.8037767996592361\n",
      "0.8401249467556439\n"
     ]
    }
   ],
   "source": [
    "# building the agent for Machine learning\n",
    "ML = MachineAlgo(X,y)\n",
    "\n",
    "# checking if the data is entered in the model or not\n",
    "print('X shape:',ML.X.shape,'y shape:',ML.y.shape)\n",
    "\n",
    "# building the logistic regression model\n",
    "parameter = {'penalty':'l2', 'solver':'lbfgs', 'max_iter':100, 'verbose':0, 'n_jobs':-1}\n",
    "ML.logistic_regression(parameter)\n",
    "\n",
    "# building the xgboost model\n",
    "parameter = {'max_depth':5, 'n_estimators':100, 'eta':1, 'objective':'binary:logistic','min_child_weight':1}\n",
    "ML.xgboost(parameter)\n",
    "\n",
    "print()\n",
    "print('printing accuracy ------ ')\n",
    "print(ML.score_logistic)\n",
    "print(ML.score_xgboost)"
   ]
  },
  {
   "cell_type": "markdown",
   "metadata": {},
   "source": [
    "<h3>What is __main__ in python (Extra: Not important now)?</h3>\n",
    "\n",
    "Have you seen that in most of the github codes, there is a __main__ function which is used. Although it is important for JAVA, it is not really necessary in python. Then why is it used?"
   ]
  },
  {
   "cell_type": "code",
   "execution_count": 209,
   "metadata": {},
   "outputs": [
    {
     "name": "stdout",
     "output_type": "stream",
     "text": [
      "__main__\n"
     ]
    }
   ],
   "source": [
    "# just print to see what python actually runs when we run a code\n",
    "print(__name__)            # it will display name (python automatically sets its value to main)"
   ]
  },
  {
   "cell_type": "code",
   "execution_count": null,
   "metadata": {},
   "outputs": [],
   "source": [
    "'''\n",
    "- it is used when we import a python file\n",
    "- suppose we import a file that has lots of functions\n",
    "- when we import the file, all the files will be run (just when we call the import)\n",
    "- to avoid this, we we use a main function so that all the functions are not run unnecessary\n",
    "- to run this code, create two files, keep them in same folder and then run\n",
    "'''\n",
    "# file 1\n",
    "print('abc')\n",
    "print('efg')\n",
    "\n",
    "# file 2\n",
    "import file1\n",
    "print('second file',__name__)\n",
    "\n",
    "# when file 2 is run, it will print abc and efg (from file1) and print __main__ (for file 2)\n",
    "# if we introduce a main function, it will not run unnecessarily when we run file 2\n",
    "\n",
    "# file1\n",
    "def main():\n",
    "    print('abc')\n",
    "    print('efg')\n",
    "\n",
    "if __name__=='__main__':\n",
    "    main()\n",
    "    \n",
    "# file2\n",
    "import file1\n",
    "print('second file',__name__)    # this file 2 will not print abc and efg and importing did not call the main function"
   ]
  },
  {
   "cell_type": "code",
   "execution_count": null,
   "metadata": {},
   "outputs": [],
   "source": [
    "# another example of how it works\n",
    "# file 1\n",
    "\n",
    "print('xyz')                       # this will always run as it is outside the main function\n",
    "if __name__ == '__main__':         # main function is used when we want it to run standalone\n",
    "    print('directly run')\n",
    "else:\n",
    "    print('indirectly run')\n",
    "\n",
    "# if file 1 run on its own, it will print 'xyz' and directly run'\n",
    "\n",
    "# file 2\n",
    "import file1\n",
    "\n",
    "# if file 2 is run, it will print, 'xyz' and 'indirectly run'\n",
    "# thus, we want to run functions on importing, put it outside the main function\n",
    "# other wise if you want it to run only when requested, put it inside the main function"
   ]
  },
  {
   "cell_type": "markdown",
   "metadata": {},
   "source": [
    "<h1><center>Recursion</center></h1>"
   ]
  },
  {
   "cell_type": "markdown",
   "metadata": {},
   "source": [
    "Recursion is an important concept. It can be asked in interviews. As its name suggests, it is defining something in terms of itself. For example fibonacchi series or may be an inception (dream within a dream). Recursion is an advanced topic. It helps in making the code look better, efficient and elegant. \n",
    "\n",
    "NOTE: <b>The most important thing in recursion is to think about its stopping criteria. It is very easy to get trapped in an infinite loop from which we can never come out<b> (again, the inception movie)."
   ]
  },
  {
   "cell_type": "markdown",
   "metadata": {},
   "source": [
    "<h3>Example 1: Fibonacchi Series</h3>\n",
    "\n",
    "Fibonacchi series is a magical series found in a lot of places in nature. Examples include pineapple, shells, sunflowers, pinecone etc. It follows a simple equation: f(n) = f(n-1) + f(n-2) where f(0) = 0 and f(1) = 1. \n",
    "\n",
    "Sequence follows as: 0, 1, 1, 2, 3, 5, 8, 13, 21, 34,..."
   ]
  },
  {
   "cell_type": "code",
   "execution_count": 226,
   "metadata": {},
   "outputs": [
    {
     "data": {
      "text/plain": [
       "8"
      ]
     },
     "execution_count": 226,
     "metadata": {},
     "output_type": "execute_result"
    }
   ],
   "source": [
    "# function to give fibonacchi number for the nth sequence\n",
    "\n",
    "def fibonacchi(n):\n",
    "    if n <= 1:\n",
    "        return(n)                               # this is the stopping criteria as it returns and does not go into loop\n",
    "    else:\n",
    "        return(fibonacchi(n-1)+fibonacchi(n-2)) # recursion (make sure it is going towards end,here subtracting it by 1 and 2)\n",
    "    \n",
    "fibonacchi(6)"
   ]
  },
  {
   "cell_type": "markdown",
   "metadata": {},
   "source": [
    "<h3>Example 2: Factorial</h3>"
   ]
  },
  {
   "cell_type": "code",
   "execution_count": 225,
   "metadata": {},
   "outputs": [
    {
     "data": {
      "text/plain": [
       "120"
      ]
     },
     "execution_count": 225,
     "metadata": {},
     "output_type": "execute_result"
    }
   ],
   "source": [
    "def factorial(n):\n",
    "    if n == 1:\n",
    "        return(1)                              # returns, stopping criteria\n",
    "    else:\n",
    "        return(n*factorial(n-1))               # function that moves it towards the end (by subtracting 1)\n",
    "        \n",
    "factorial(5)"
   ]
  },
  {
   "cell_type": "markdown",
   "metadata": {},
   "source": [
    "Image below explains how the recursion proceeds for both the recursionn operations in the examples.\n",
    "\n",
    "<img src='Recursion.png'></img>"
   ]
  },
  {
   "cell_type": "code",
   "execution_count": null,
   "metadata": {},
   "outputs": [],
   "source": []
  }
 ],
 "metadata": {
  "hide_input": false,
  "kernelspec": {
   "display_name": "Python 3",
   "language": "python",
   "name": "python3"
  },
  "language_info": {
   "codemirror_mode": {
    "name": "ipython",
    "version": 3
   },
   "file_extension": ".py",
   "mimetype": "text/x-python",
   "name": "python",
   "nbconvert_exporter": "python",
   "pygments_lexer": "ipython3",
   "version": "3.7.4"
  },
  "toc": {
   "base_numbering": 1,
   "nav_menu": {},
   "number_sections": false,
   "sideBar": true,
   "skip_h1_title": false,
   "title_cell": "Table of Contents",
   "title_sidebar": "Contents",
   "toc_cell": false,
   "toc_position": {},
   "toc_section_display": true,
   "toc_window_display": true
  },
  "varInspector": {
   "cols": {
    "lenName": 16,
    "lenType": 16,
    "lenVar": 40
   },
   "kernels_config": {
    "python": {
     "delete_cmd_postfix": "",
     "delete_cmd_prefix": "del ",
     "library": "var_list.py",
     "varRefreshCmd": "print(var_dic_list())"
    },
    "r": {
     "delete_cmd_postfix": ") ",
     "delete_cmd_prefix": "rm(",
     "library": "var_list.r",
     "varRefreshCmd": "cat(var_dic_list()) "
    }
   },
   "types_to_exclude": [
    "module",
    "function",
    "builtin_function_or_method",
    "instance",
    "_Feature"
   ],
   "window_display": false
  }
 },
 "nbformat": 4,
 "nbformat_minor": 2
}
