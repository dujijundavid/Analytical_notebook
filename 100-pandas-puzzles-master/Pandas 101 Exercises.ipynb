{
 "cells": [
  {
   "cell_type": "markdown",
   "metadata": {},
   "source": [
    "### How to import pandas and check the version?"
   ]
  },
  {
   "cell_type": "code",
   "execution_count": 1,
   "metadata": {
    "ExecuteTime": {
     "end_time": "2020-05-17T07:50:22.701975Z",
     "start_time": "2020-05-17T07:50:20.926642Z"
    }
   },
   "outputs": [
    {
     "name": "stdout",
     "output_type": "stream",
     "text": [
      "0.25.1\n",
      "{'system': {'commit': None, 'python': '3.7.4.final.0', 'python-bits': 64, 'OS': 'Darwin', 'OS-release': '19.3.0', 'machine': 'x86_64', 'processor': 'i386', 'byteorder': 'little', 'LC_ALL': 'None', 'LANG': 'en_US.UTF-8', 'LOCALE': 'en_US.UTF-8'}, 'dependencies': {'pandas': '0.25.1', 'numpy': '1.17.2', 'pytz': '2019.3', 'dateutil': '2.8.0', 'pip': '20.0.2', 'setuptools': '41.2.0', 'Cython': '0.29.13', 'pytest': '5.2.1', 'hypothesis': None, 'sphinx': '2.2.0', 'blosc': None, 'feather': None, 'xlsxwriter': '1.2.1', 'lxml.etree': '4.4.1', 'html5lib': '1.0.1', 'pymysql': '0.9.3', 'psycopg2': None, 'jinja2': '2.10.3', 'IPython': '7.8.0', 'pandas_datareader': None, 'bs4': '4.8.0', 'bottleneck': '1.2.1', 'fastparquet': None, 'gcsfs': None, 'matplotlib': '3.1.1', 'numexpr': '2.7.0', 'odfpy': None, 'openpyxl': '3.0.0', 'pandas_gbq': None, 'pyarrow': None, 'pytables': None, 's3fs': None, 'scipy': '1.3.1', 'sqlalchemy': '1.3.9', 'tables': '3.5.2', 'xarray': None, 'xlrd': '1.2.0', 'xlwt': '1.3.0'}}\n"
     ]
    }
   ],
   "source": [
    "import pandas as pd\n",
    "print(pd.__version__)\n",
    "pd.show_versions(as_json=True)"
   ]
  },
  {
   "cell_type": "markdown",
   "metadata": {},
   "source": [
    "### How to create a series from a list, numpy array and dict?"
   ]
  },
  {
   "cell_type": "code",
   "execution_count": 22,
   "metadata": {
    "ExecuteTime": {
     "end_time": "2020-05-15T22:10:59.518431Z",
     "start_time": "2020-05-15T22:10:59.514976Z"
    }
   },
   "outputs": [],
   "source": [
    "ser1 = pd.Series(list('abcedfghijklmnopqrstuvwxyz'))\n",
    "ser2 = pd.Series(np.arange(26))"
   ]
  },
  {
   "cell_type": "code",
   "execution_count": 23,
   "metadata": {
    "ExecuteTime": {
     "end_time": "2020-05-15T22:11:04.284979Z",
     "start_time": "2020-05-15T22:11:04.281010Z"
    }
   },
   "outputs": [],
   "source": [
    "\n",
    "dictionary=dict(zip(ser1,ser2))\n"
   ]
  },
  {
   "cell_type": "markdown",
   "metadata": {},
   "source": [
    "### How to convert the index of a series into a column of a dataframe?"
   ]
  },
  {
   "cell_type": "code",
   "execution_count": 42,
   "metadata": {
    "ExecuteTime": {
     "end_time": "2020-05-16T01:40:00.841356Z",
     "start_time": "2020-05-16T01:40:00.824471Z"
    }
   },
   "outputs": [
    {
     "name": "stdout",
     "output_type": "stream",
     "text": [
      "  index  0\n",
      "0     a  0\n",
      "1     b  1\n",
      "2     c  2\n",
      "3     e  3\n",
      "4     d  4\n"
     ]
    }
   ],
   "source": [
    "# Input\n",
    "mylist = list('abcedfghijklmnopqrstuvwxyz')\n",
    "myarr = np.arange(26)\n",
    "mydict = dict(zip(mylist, myarr))\n",
    "ser = pd.Series(mydict)\n",
    "\n",
    "# Solution\n",
    "df = ser.to_frame().reset_index()\n",
    "print(df.head())"
   ]
  },
  {
   "cell_type": "markdown",
   "metadata": {},
   "source": [
    "### How to combine many series to form a dataframe?"
   ]
  },
  {
   "cell_type": "code",
   "execution_count": 25,
   "metadata": {
    "ExecuteTime": {
     "end_time": "2020-05-15T22:12:04.048197Z",
     "start_time": "2020-05-15T22:12:04.042353Z"
    }
   },
   "outputs": [],
   "source": [
    "#1\n",
    "df=pd.DataFrame(ser1,ser2)\n",
    "\n",
    "#2\n",
    "df = pd.DataFrame({'col1': ser1, 'col2': ser2})\n",
    "#3\n",
    "df=pd.concat([ser1,ser2],axis=1)"
   ]
  },
  {
   "cell_type": "markdown",
   "metadata": {},
   "source": [
    "### How to combine many series to form a dataframe?"
   ]
  },
  {
   "cell_type": "code",
   "execution_count": null,
   "metadata": {},
   "outputs": [],
   "source": []
  },
  {
   "cell_type": "markdown",
   "metadata": {},
   "source": [
    "### How to assign name to the series’ index?"
   ]
  },
  {
   "cell_type": "code",
   "execution_count": 27,
   "metadata": {
    "ExecuteTime": {
     "end_time": "2020-05-16T01:35:31.953369Z",
     "start_time": "2020-05-16T01:35:31.948420Z"
    }
   },
   "outputs": [
    {
     "data": {
      "text/plain": [
       "a    0\n",
       "b    1\n",
       "c    2\n",
       "d    3\n",
       "e    4\n",
       "Name: alphabets, dtype: int64"
      ]
     },
     "execution_count": 27,
     "metadata": {},
     "output_type": "execute_result"
    }
   ],
   "source": [
    "ser.name='alphabets'\n",
    "ser.head()"
   ]
  },
  {
   "cell_type": "markdown",
   "metadata": {},
   "source": [
    "### How to get the items of series A not present in series B?"
   ]
  },
  {
   "cell_type": "code",
   "execution_count": 30,
   "metadata": {
    "ExecuteTime": {
     "end_time": "2020-05-16T01:36:19.213230Z",
     "start_time": "2020-05-16T01:36:19.209682Z"
    }
   },
   "outputs": [],
   "source": [
    "ser1 = pd.Series([1, 2, 3, 4, 5])\n",
    "ser2 = pd.Series([4, 5, 6, 7, 8])\n"
   ]
  },
  {
   "cell_type": "code",
   "execution_count": 34,
   "metadata": {
    "ExecuteTime": {
     "end_time": "2020-05-16T01:36:42.898548Z",
     "start_time": "2020-05-16T01:36:42.892709Z"
    }
   },
   "outputs": [
    {
     "data": {
      "text/plain": [
       "0    1\n",
       "1    2\n",
       "2    3\n",
       "dtype: int64"
      ]
     },
     "execution_count": 34,
     "metadata": {},
     "output_type": "execute_result"
    }
   ],
   "source": [
    "ser1[~ser1.isin(ser2)]"
   ]
  },
  {
   "cell_type": "markdown",
   "metadata": {},
   "source": [
    "### How to get the items not common to both series A and series B?"
   ]
  },
  {
   "cell_type": "code",
   "execution_count": 41,
   "metadata": {
    "ExecuteTime": {
     "end_time": "2020-05-16T01:39:06.938064Z",
     "start_time": "2020-05-16T01:39:06.930562Z"
    }
   },
   "outputs": [
    {
     "data": {
      "text/plain": [
       "0    1\n",
       "1    2\n",
       "2    3\n",
       "5    6\n",
       "6    7\n",
       "7    8\n",
       "dtype: int64"
      ]
     },
     "execution_count": 41,
     "metadata": {},
     "output_type": "execute_result"
    }
   ],
   "source": [
    "\n",
    "union=pd.Series(np.union1d(ser1,ser2))\n",
    "intersect=pd.Series(np.intersect1d(ser1,ser2))\n",
    "union[~union.isin(intersect)]"
   ]
  },
  {
   "cell_type": "markdown",
   "metadata": {},
   "source": [
    "### How to get the minimum, 25th percentile, median, 75th, and max of a numeric series?"
   ]
  },
  {
   "cell_type": "code",
   "execution_count": 55,
   "metadata": {
    "ExecuteTime": {
     "end_time": "2020-05-16T01:44:22.997691Z",
     "start_time": "2020-05-16T01:44:22.991574Z"
    }
   },
   "outputs": [
    {
     "data": {
      "text/plain": [
       "0    e\n",
       "1    a\n",
       "2    d\n",
       "3    c\n",
       "4    c\n",
       "dtype: object"
      ]
     },
     "execution_count": 55,
     "metadata": {},
     "output_type": "execute_result"
    }
   ],
   "source": [
    "ser = pd.Series(np.take(list('abcdefgh'), np.random.randint(8, size=30)))\n",
    "ser[:5]"
   ]
  },
  {
   "cell_type": "code",
   "execution_count": null,
   "metadata": {},
   "outputs": [],
   "source": []
  },
  {
   "cell_type": "markdown",
   "metadata": {},
   "source": [
    "### How to keep only top 2 most frequent values as it is and replace everything else as ‘Other’?"
   ]
  },
  {
   "cell_type": "code",
   "execution_count": 44,
   "metadata": {
    "ExecuteTime": {
     "end_time": "2020-05-16T01:42:25.196960Z",
     "start_time": "2020-05-16T01:42:25.192329Z"
    }
   },
   "outputs": [],
   "source": [
    "# input\n",
    "np.random.RandomState(100)\n",
    "ser = pd.Series(np.random.randint(1, 5, [12]))"
   ]
  },
  {
   "cell_type": "code",
   "execution_count": 53,
   "metadata": {
    "ExecuteTime": {
     "end_time": "2020-05-16T01:43:46.745881Z",
     "start_time": "2020-05-16T01:43:46.734912Z"
    }
   },
   "outputs": [
    {
     "data": {
      "text/plain": [
       "3    4\n",
       "4    3\n",
       "1    3\n",
       "2    2\n",
       "dtype: int64"
      ]
     },
     "execution_count": 53,
     "metadata": {},
     "output_type": "execute_result"
    }
   ],
   "source": [
    "ser.value_counts()"
   ]
  },
  {
   "cell_type": "markdown",
   "metadata": {},
   "source": [
    "### How to bin a numeric series to 10 groups of equal size?"
   ]
  },
  {
   "cell_type": "code",
   "execution_count": 56,
   "metadata": {
    "ExecuteTime": {
     "end_time": "2020-05-16T01:45:11.658280Z",
     "start_time": "2020-05-16T01:45:11.655046Z"
    }
   },
   "outputs": [],
   "source": [
    "ser = pd.Series(np.random.random(20))"
   ]
  },
  {
   "cell_type": "code",
   "execution_count": 58,
   "metadata": {
    "ExecuteTime": {
     "end_time": "2020-05-16T01:46:23.740366Z",
     "start_time": "2020-05-16T01:46:23.723185Z"
    }
   },
   "outputs": [
    {
     "data": {
      "text/plain": [
       "0      1st\n",
       "1     10th\n",
       "2      9th\n",
       "3      5th\n",
       "4      8th\n",
       "5     10th\n",
       "6      7th\n",
       "7      6th\n",
       "8      8th\n",
       "9      9th\n",
       "10     6th\n",
       "11     5th\n",
       "12     2nd\n",
       "13     2nd\n",
       "14     3rd\n",
       "15     7th\n",
       "16     1st\n",
       "17     6th\n",
       "18     1st\n",
       "19     7th\n",
       "dtype: category\n",
       "Categories (10, object): [1st < 2nd < 3rd < 4th ... 7th < 8th < 9th < 10th]"
      ]
     },
     "execution_count": 58,
     "metadata": {},
     "output_type": "execute_result"
    }
   ],
   "source": [
    "#pd.cut(ser,bins=10,labels=[\"1st\",\"2nd\",\"3rd\",\"4th\",\"5th\",\"6th\",\"7th\",\"8th\",\"9th\",\"10th\"])"
   ]
  },
  {
   "cell_type": "code",
   "execution_count": 59,
   "metadata": {
    "ExecuteTime": {
     "end_time": "2020-05-16T01:46:47.947627Z",
     "start_time": "2020-05-16T01:46:47.931309Z"
    }
   },
   "outputs": [
    {
     "data": {
      "text/plain": [
       "0     2nd\n",
       "1    10th\n",
       "2     9th\n",
       "3     4th\n",
       "4     8th\n",
       "dtype: category\n",
       "Categories (10, object): [1st < 2nd < 3rd < 4th ... 7th < 8th < 9th < 10th]"
      ]
     },
     "execution_count": 59,
     "metadata": {},
     "output_type": "execute_result"
    }
   ],
   "source": [
    "pd.qcut(ser, q=[0, .10, .20, .3, .4, .5, .6, .7, .8, .9, 1], \n",
    "        labels=['1st', '2nd', '3rd', '4th', '5th', '6th', '7th', '8th', '9th', '10th']).head()"
   ]
  },
  {
   "cell_type": "markdown",
   "metadata": {},
   "source": [
    "### How to convert a numpy array to a dataframe of given shape? (L1)\n",
    "Reshape the series ser into a dataframe with 7 rows and 5 columns"
   ]
  },
  {
   "cell_type": "code",
   "execution_count": 60,
   "metadata": {
    "ExecuteTime": {
     "end_time": "2020-05-16T01:47:16.537864Z",
     "start_time": "2020-05-16T01:47:16.534495Z"
    }
   },
   "outputs": [],
   "source": [
    "ser = pd.Series(np.random.randint(1, 10, 35))"
   ]
  },
  {
   "cell_type": "code",
   "execution_count": 64,
   "metadata": {
    "ExecuteTime": {
     "end_time": "2020-05-16T01:48:21.700923Z",
     "start_time": "2020-05-16T01:48:21.692476Z"
    }
   },
   "outputs": [
    {
     "data": {
      "text/html": [
       "<div>\n",
       "<style scoped>\n",
       "    .dataframe tbody tr th:only-of-type {\n",
       "        vertical-align: middle;\n",
       "    }\n",
       "\n",
       "    .dataframe tbody tr th {\n",
       "        vertical-align: top;\n",
       "    }\n",
       "\n",
       "    .dataframe thead th {\n",
       "        text-align: right;\n",
       "    }\n",
       "</style>\n",
       "<table border=\"1\" class=\"dataframe\">\n",
       "  <thead>\n",
       "    <tr style=\"text-align: right;\">\n",
       "      <th></th>\n",
       "      <th>0</th>\n",
       "      <th>1</th>\n",
       "      <th>2</th>\n",
       "      <th>3</th>\n",
       "      <th>4</th>\n",
       "    </tr>\n",
       "  </thead>\n",
       "  <tbody>\n",
       "    <tr>\n",
       "      <td>0</td>\n",
       "      <td>4</td>\n",
       "      <td>9</td>\n",
       "      <td>1</td>\n",
       "      <td>3</td>\n",
       "      <td>9</td>\n",
       "    </tr>\n",
       "    <tr>\n",
       "      <td>1</td>\n",
       "      <td>1</td>\n",
       "      <td>4</td>\n",
       "      <td>3</td>\n",
       "      <td>4</td>\n",
       "      <td>7</td>\n",
       "    </tr>\n",
       "    <tr>\n",
       "      <td>2</td>\n",
       "      <td>2</td>\n",
       "      <td>6</td>\n",
       "      <td>8</td>\n",
       "      <td>7</td>\n",
       "      <td>9</td>\n",
       "    </tr>\n",
       "    <tr>\n",
       "      <td>3</td>\n",
       "      <td>9</td>\n",
       "      <td>2</td>\n",
       "      <td>2</td>\n",
       "      <td>5</td>\n",
       "      <td>4</td>\n",
       "    </tr>\n",
       "    <tr>\n",
       "      <td>4</td>\n",
       "      <td>2</td>\n",
       "      <td>5</td>\n",
       "      <td>1</td>\n",
       "      <td>1</td>\n",
       "      <td>5</td>\n",
       "    </tr>\n",
       "    <tr>\n",
       "      <td>5</td>\n",
       "      <td>8</td>\n",
       "      <td>6</td>\n",
       "      <td>7</td>\n",
       "      <td>4</td>\n",
       "      <td>4</td>\n",
       "    </tr>\n",
       "    <tr>\n",
       "      <td>6</td>\n",
       "      <td>1</td>\n",
       "      <td>6</td>\n",
       "      <td>7</td>\n",
       "      <td>6</td>\n",
       "      <td>3</td>\n",
       "    </tr>\n",
       "  </tbody>\n",
       "</table>\n",
       "</div>"
      ],
      "text/plain": [
       "   0  1  2  3  4\n",
       "0  4  9  1  3  9\n",
       "1  1  4  3  4  7\n",
       "2  2  6  8  7  9\n",
       "3  9  2  2  5  4\n",
       "4  2  5  1  1  5\n",
       "5  8  6  7  4  4\n",
       "6  1  6  7  6  3"
      ]
     },
     "execution_count": 64,
     "metadata": {},
     "output_type": "execute_result"
    }
   ],
   "source": [
    "pd.DataFrame(ser.values.reshape(7,5))"
   ]
  },
  {
   "cell_type": "markdown",
   "metadata": {},
   "source": [
    "### How to find the positions of numbers that are multiples of 3 from a series?"
   ]
  },
  {
   "cell_type": "code",
   "execution_count": 65,
   "metadata": {
    "ExecuteTime": {
     "end_time": "2020-05-16T01:48:47.713507Z",
     "start_time": "2020-05-16T01:48:47.710153Z"
    }
   },
   "outputs": [],
   "source": [
    "ser = pd.Series(np.random.randint(1, 10, 7))"
   ]
  },
  {
   "cell_type": "code",
   "execution_count": 70,
   "metadata": {
    "ExecuteTime": {
     "end_time": "2020-05-16T01:49:33.736452Z",
     "start_time": "2020-05-16T01:49:33.730945Z"
    }
   },
   "outputs": [
    {
     "data": {
      "text/plain": [
       "3    9\n",
       "dtype: int64"
      ]
     },
     "execution_count": 70,
     "metadata": {},
     "output_type": "execute_result"
    }
   ],
   "source": [
    "ser[ser %3==0]\n",
    "#np.argwhere(ser%3==0)"
   ]
  },
  {
   "cell_type": "markdown",
   "metadata": {},
   "source": [
    "### How to extract items at given positions from a series\n",
    "From ser, extract the items at positions in list pos."
   ]
  },
  {
   "cell_type": "code",
   "execution_count": 71,
   "metadata": {
    "ExecuteTime": {
     "end_time": "2020-05-16T01:49:58.469377Z",
     "start_time": "2020-05-16T01:49:58.466132Z"
    }
   },
   "outputs": [],
   "source": [
    "ser = pd.Series(list('abcdefghijklmnopqrstuvwxyz'))\n",
    "pos = [0, 4, 8, 14, 20]"
   ]
  },
  {
   "cell_type": "markdown",
   "metadata": {},
   "source": [
    "###  How to stack two series vertically and horizontally ?"
   ]
  },
  {
   "cell_type": "code",
   "execution_count": 72,
   "metadata": {
    "ExecuteTime": {
     "end_time": "2020-05-16T01:50:38.121671Z",
     "start_time": "2020-05-16T01:50:38.118225Z"
    }
   },
   "outputs": [],
   "source": [
    "ser1 = pd.Series(range(5))\n",
    "ser2 = pd.Series(list('abcde'))"
   ]
  },
  {
   "cell_type": "code",
   "execution_count": 74,
   "metadata": {
    "ExecuteTime": {
     "end_time": "2020-05-16T01:51:07.762092Z",
     "start_time": "2020-05-16T01:51:07.756546Z"
    }
   },
   "outputs": [
    {
     "data": {
      "text/plain": [
       "0    0\n",
       "1    1\n",
       "2    2\n",
       "3    3\n",
       "4    4\n",
       "dtype: object"
      ]
     },
     "execution_count": 74,
     "metadata": {},
     "output_type": "execute_result"
    }
   ],
   "source": [
    "# vertical\n",
    "df1=pd.concat([ser1,ser2])\n",
    "df1.head()"
   ]
  },
  {
   "cell_type": "code",
   "execution_count": 77,
   "metadata": {
    "ExecuteTime": {
     "end_time": "2020-05-16T02:12:27.271341Z",
     "start_time": "2020-05-16T02:12:27.265805Z"
    }
   },
   "outputs": [
    {
     "data": {
      "text/plain": [
       "0    0\n",
       "1    1\n",
       "2    2\n",
       "3    3\n",
       "4    4\n",
       "0    a\n",
       "1    b\n",
       "2    c\n",
       "3    d\n",
       "4    e\n",
       "dtype: object"
      ]
     },
     "execution_count": 77,
     "metadata": {},
     "output_type": "execute_result"
    }
   ],
   "source": [
    "# Horizontal\n",
    "new_ser=ser1.append(ser2)\n",
    "new_ser"
   ]
  },
  {
   "cell_type": "markdown",
   "metadata": {},
   "source": [
    "### How to get the positions of items of series A in another series B?"
   ]
  },
  {
   "cell_type": "code",
   "execution_count": null,
   "metadata": {},
   "outputs": [],
   "source": []
  },
  {
   "cell_type": "markdown",
   "metadata": {},
   "source": [
    "### How to compute the mean squared error on a truth and predicted series?"
   ]
  },
  {
   "cell_type": "code",
   "execution_count": 78,
   "metadata": {
    "ExecuteTime": {
     "end_time": "2020-05-16T02:13:27.528979Z",
     "start_time": "2020-05-16T02:13:27.525115Z"
    }
   },
   "outputs": [],
   "source": [
    "truth = pd.Series(range(10))\n",
    "pred = pd.Series(range(10)) + np.random.random(10)"
   ]
  },
  {
   "cell_type": "code",
   "execution_count": 83,
   "metadata": {
    "ExecuteTime": {
     "end_time": "2020-05-16T02:14:16.660817Z",
     "start_time": "2020-05-16T02:14:16.656407Z"
    }
   },
   "outputs": [
    {
     "data": {
      "text/plain": [
       "0.27085047679464247"
      ]
     },
     "execution_count": 83,
     "metadata": {},
     "output_type": "execute_result"
    }
   ],
   "source": [
    "np.mean((pred-truth)**2)"
   ]
  },
  {
   "cell_type": "markdown",
   "metadata": {},
   "source": [
    "### How to convert the first character of each element in a series to uppercase?"
   ]
  },
  {
   "cell_type": "code",
   "execution_count": 84,
   "metadata": {
    "ExecuteTime": {
     "end_time": "2020-05-16T02:15:47.394267Z",
     "start_time": "2020-05-16T02:15:47.390750Z"
    }
   },
   "outputs": [],
   "source": []
  },
  {
   "cell_type": "markdown",
   "metadata": {},
   "source": [
    "### How to calculate the number of characters in each word in a series?\n",
    "Difference of differences between the consequtive numbers of ser."
   ]
  },
  {
   "cell_type": "code",
   "execution_count": 104,
   "metadata": {
    "ExecuteTime": {
     "end_time": "2020-05-16T02:25:42.662570Z",
     "start_time": "2020-05-16T02:25:42.659138Z"
    }
   },
   "outputs": [],
   "source": [
    "ser = pd.Series(['how', 'to', 'win'])"
   ]
  },
  {
   "cell_type": "code",
   "execution_count": 107,
   "metadata": {
    "ExecuteTime": {
     "end_time": "2020-05-16T02:25:53.731251Z",
     "start_time": "2020-05-16T02:25:53.725036Z"
    }
   },
   "outputs": [
    {
     "data": {
      "text/plain": [
       "0    3\n",
       "1    2\n",
       "2    3\n",
       "dtype: int64"
      ]
     },
     "execution_count": 107,
     "metadata": {},
     "output_type": "execute_result"
    }
   ],
   "source": [
    "ser.apply(lambda x: len(x))"
   ]
  },
  {
   "cell_type": "markdown",
   "metadata": {
    "ExecuteTime": {
     "end_time": "2020-05-16T02:24:31.743017Z",
     "start_time": "2020-05-16T02:24:31.740238Z"
    }
   },
   "source": [
    "### How to compute difference of differences between consequtive numbers of a series?"
   ]
  },
  {
   "cell_type": "code",
   "execution_count": 109,
   "metadata": {
    "ExecuteTime": {
     "end_time": "2020-05-16T02:27:46.900203Z",
     "start_time": "2020-05-16T02:27:46.896690Z"
    }
   },
   "outputs": [],
   "source": [
    "ser = pd.Series([1, 3, 6, 10, 15, 21, 27, 35])"
   ]
  },
  {
   "cell_type": "code",
   "execution_count": 113,
   "metadata": {
    "ExecuteTime": {
     "end_time": "2020-05-16T02:28:35.459455Z",
     "start_time": "2020-05-16T02:28:35.454704Z"
    }
   },
   "outputs": [
    {
     "name": "stdout",
     "output_type": "stream",
     "text": [
      "[nan, 2.0, 3.0, 4.0, 5.0, 6.0, 6.0, 8.0]\n",
      "[nan, nan, 1.0, 1.0, 1.0, 1.0, 0.0, 2.0]\n"
     ]
    }
   ],
   "source": [
    "print(ser.diff().tolist())\n",
    "print(ser.diff().diff().tolist())"
   ]
  },
  {
   "cell_type": "markdown",
   "metadata": {},
   "source": [
    "### How to convert a series of date-strings to a timeseries?"
   ]
  },
  {
   "cell_type": "code",
   "execution_count": 98,
   "metadata": {
    "ExecuteTime": {
     "end_time": "2020-05-16T02:23:42.957640Z",
     "start_time": "2020-05-16T02:23:42.952729Z"
    }
   },
   "outputs": [],
   "source": [
    "ser = pd.Series(['01 Jan 2010', '02-02-2011', '20120303', '2013/04/04', '2014-05-05', '2015-06-06T12:20'])"
   ]
  },
  {
   "cell_type": "code",
   "execution_count": 99,
   "metadata": {
    "ExecuteTime": {
     "end_time": "2020-05-16T02:24:05.931829Z",
     "start_time": "2020-05-16T02:24:05.915450Z"
    }
   },
   "outputs": [
    {
     "data": {
      "text/plain": [
       "0   2010-01-01 00:00:00\n",
       "1   2011-02-02 00:00:00\n",
       "2   2012-03-03 00:00:00\n",
       "3   2013-04-04 00:00:00\n",
       "4   2014-05-05 00:00:00\n",
       "5   2015-06-06 12:20:00\n",
       "dtype: datetime64[ns]"
      ]
     },
     "execution_count": 99,
     "metadata": {},
     "output_type": "execute_result"
    }
   ],
   "source": [
    "pd.to_datetime(ser)"
   ]
  },
  {
   "cell_type": "markdown",
   "metadata": {},
   "source": [
    "### How to get the day of month, week number, day of year and day of week from a series of date\n",
    "Get the day of month, week number, day of year and day of week from ser."
   ]
  },
  {
   "cell_type": "code",
   "execution_count": 86,
   "metadata": {
    "ExecuteTime": {
     "end_time": "2020-05-16T02:19:43.948991Z",
     "start_time": "2020-05-16T02:19:43.944969Z"
    }
   },
   "outputs": [],
   "source": [
    "ser = pd.Series(['01 Jan 2010', '02-02-2011', '20120303', '2013/04/04', '2014-05-05', '2015-06-06T12:20'])"
   ]
  },
  {
   "cell_type": "code",
   "execution_count": 96,
   "metadata": {
    "ExecuteTime": {
     "end_time": "2020-05-16T02:22:09.885158Z",
     "start_time": "2020-05-16T02:22:09.881205Z"
    }
   },
   "outputs": [],
   "source": [
    "from dateutil.parser import parse\n",
    "ser_ts= ser.map(lambda x:parse(x))"
   ]
  },
  {
   "cell_type": "code",
   "execution_count": 97,
   "metadata": {
    "ExecuteTime": {
     "end_time": "2020-05-16T02:22:11.757296Z",
     "start_time": "2020-05-16T02:22:11.749410Z"
    }
   },
   "outputs": [
    {
     "name": "stdout",
     "output_type": "stream",
     "text": [
      "Date:  [1, 2, 3, 4, 5, 6]\n",
      "Date:  [53, 5, 9, 14, 19, 23]\n",
      "Date:  [1, 33, 63, 94, 125, 157]\n",
      "Day of week:  ['Friday', 'Wednesday', 'Saturday', 'Thursday', 'Monday', 'Saturday']\n"
     ]
    }
   ],
   "source": [
    "# day of month\n",
    "print(\"Date: \", ser_ts.dt.day.tolist())\n",
    "\n",
    "# week number\n",
    "print(\"Date: \", ser_ts.dt.weekofyear.tolist())\n",
    "\n",
    "# day of year\n",
    "print(\"Date: \", ser_ts.dt.dayofyear.tolist())\n",
    "\n",
    "# day of week\n",
    "print(\"Day of week: \", ser_ts.dt.weekday_name.tolist())"
   ]
  },
  {
   "cell_type": "markdown",
   "metadata": {},
   "source": [
    "### How to convert year-month string to dates corresponding to the 4th day of the month?"
   ]
  },
  {
   "cell_type": "code",
   "execution_count": 115,
   "metadata": {
    "ExecuteTime": {
     "end_time": "2020-05-16T02:30:02.006329Z",
     "start_time": "2020-05-16T02:30:01.987750Z"
    }
   },
   "outputs": [
    {
     "data": {
      "text/plain": [
       "0   2010-01-04\n",
       "1   2011-02-04\n",
       "2   2012-03-04\n",
       "dtype: datetime64[ns]"
      ]
     },
     "execution_count": 115,
     "metadata": {},
     "output_type": "execute_result"
    }
   ],
   "source": [
    "import pandas as pd\n",
    "# Input\n",
    "ser = pd.Series(['Jan 2010', 'Feb 2011', 'Mar 2012'])\n",
    "\n",
    "# Solution 1\n",
    "from dateutil.parser import parse\n",
    "# Parse the date\n",
    "ser_ts = ser.map(lambda x: parse(x))\n",
    "\n",
    "# Construct date string with date as 4\n",
    "ser_datestr = ser_ts.dt.year.astype('str') + '-' + ser_ts.dt.month.astype('str') + '-' + '04'\n",
    "\n",
    "# Format it.\n",
    "[parse(i).strftime('%Y-%m-%d') for i in ser_datestr]\n",
    "\n",
    "# Solution 2\n",
    "ser.map(lambda x: parse('04 ' + x))"
   ]
  },
  {
   "cell_type": "markdown",
   "metadata": {},
   "source": [
    "### How to filter words that contain atleast 2 vowels from a series?\n"
   ]
  },
  {
   "cell_type": "code",
   "execution_count": 116,
   "metadata": {
    "ExecuteTime": {
     "end_time": "2020-05-16T02:30:44.816415Z",
     "start_time": "2020-05-16T02:30:44.812837Z"
    }
   },
   "outputs": [],
   "source": [
    "ser = pd.Series(['Apple', 'Orange', 'Plan', 'Python', 'Money'])"
   ]
  },
  {
   "cell_type": "code",
   "execution_count": null,
   "metadata": {},
   "outputs": [],
   "source": [
    "def find_two_vowels(item):\n",
    "    "
   ]
  },
  {
   "cell_type": "markdown",
   "metadata": {},
   "source": [
    "### How to filter valid emails from a series?"
   ]
  },
  {
   "cell_type": "code",
   "execution_count": 117,
   "metadata": {
    "ExecuteTime": {
     "end_time": "2020-05-16T02:32:52.207809Z",
     "start_time": "2020-05-16T02:32:52.204468Z"
    }
   },
   "outputs": [],
   "source": [
    "emails = pd.Series(['buying books at amazom.com', 'rameses@egypt.com', 'matt@t.co', 'narendra@modi.com'])"
   ]
  },
  {
   "cell_type": "code",
   "execution_count": 122,
   "metadata": {
    "ExecuteTime": {
     "end_time": "2020-05-16T02:36:15.011610Z",
     "start_time": "2020-05-16T02:36:15.008971Z"
    }
   },
   "outputs": [],
   "source": [
    "pattern ='[A-Za-z0-9._%+-]+@[A-Za-z0-9.-]+\\\\.[A-Za-z]{2,4}'\n",
    "\n"
   ]
  },
  {
   "cell_type": "markdown",
   "metadata": {},
   "source": [
    "### How to get the mean of a series grouped by another series?"
   ]
  },
  {
   "cell_type": "code",
   "execution_count": 121,
   "metadata": {
    "ExecuteTime": {
     "end_time": "2020-05-16T02:35:46.985225Z",
     "start_time": "2020-05-16T02:35:46.975651Z"
    }
   },
   "outputs": [
    {
     "name": "stdout",
     "output_type": "stream",
     "text": [
      "[1.0, 2.0, 3.0, 4.0, 5.0, 6.0, 7.0, 8.0, 9.0, 10.0]\n",
      "['banana', 'banana', 'banana', 'banana', 'carrot', 'carrot', 'apple', 'carrot', 'carrot', 'apple']\n"
     ]
    }
   ],
   "source": [
    "fruit = pd.Series(np.random.choice(['apple', 'banana', 'carrot'], 10))\n",
    "weights = pd.Series(np.linspace(1, 10, 10))\n",
    "\n",
    "print(weights.tolist())\n",
    "print(fruit.tolist())\n",
    "#> [1.0, 2.0, 3.0, 4.0, 5.0, 6.0, 7.0, 8.0, 9.0, 10.0]\n",
    "#> ['banana', 'carrot', 'apple', 'carrot', 'carrot', 'apple', 'banana', 'carrot', 'apple', 'carrot']"
   ]
  },
  {
   "cell_type": "markdown",
   "metadata": {},
   "source": [
    "### How to compute the euclidean distance between two series?"
   ]
  },
  {
   "cell_type": "code",
   "execution_count": 123,
   "metadata": {
    "ExecuteTime": {
     "end_time": "2020-05-16T02:36:35.726088Z",
     "start_time": "2020-05-16T02:36:35.721722Z"
    }
   },
   "outputs": [],
   "source": [
    "p = pd.Series([1, 2, 3, 4, 5, 6, 7, 8, 9, 10])\n",
    "q = pd.Series([10, 9, 8, 7, 6, 5, 4, 3, 2, 1])"
   ]
  },
  {
   "cell_type": "code",
   "execution_count": 130,
   "metadata": {
    "ExecuteTime": {
     "end_time": "2020-05-16T06:09:32.813679Z",
     "start_time": "2020-05-16T06:09:32.808869Z"
    }
   },
   "outputs": [
    {
     "data": {
      "text/plain": [
       "18.16590212458495"
      ]
     },
     "execution_count": 130,
     "metadata": {},
     "output_type": "execute_result"
    }
   ],
   "source": [
    "#np.sqrt(sum((p-q)**2))\n",
    "\n",
    "np.linalg.norm(p-q)"
   ]
  },
  {
   "cell_type": "markdown",
   "metadata": {},
   "source": [
    "### How to find all the local maxima (or peaks) in a numeric series?\n",
    "Get the positions of peaks (values surrounded by smaller values on both sides) in ser."
   ]
  },
  {
   "cell_type": "code",
   "execution_count": 128,
   "metadata": {
    "ExecuteTime": {
     "end_time": "2020-05-16T02:37:47.600052Z",
     "start_time": "2020-05-16T02:37:47.596898Z"
    }
   },
   "outputs": [],
   "source": [
    "ser = pd.Series([2, 10, 3, 4, 9, 10, 2, 7, 3])"
   ]
  },
  {
   "cell_type": "code",
   "execution_count": null,
   "metadata": {},
   "outputs": [],
   "source": []
  },
  {
   "cell_type": "markdown",
   "metadata": {},
   "source": [
    "### How to replace missing spaces in a string with the least frequent character?\n",
    "Replace the spaces in my_str with the least frequent character."
   ]
  },
  {
   "cell_type": "markdown",
   "metadata": {
    "ExecuteTime": {
     "end_time": "2020-05-16T02:38:56.691466Z",
     "start_time": "2020-05-16T02:38:56.689013Z"
    }
   },
   "source": [
    "### How to create a TimeSeries starting ‘2000-01-01’ and 10 weekends (saturdays) after that having random numbers as values?"
   ]
  },
  {
   "cell_type": "code",
   "execution_count": null,
   "metadata": {},
   "outputs": [],
   "source": []
  },
  {
   "cell_type": "markdown",
   "metadata": {},
   "source": [
    "### How to fill an intermittent time series so all missing dates show up with values of previous non-missing date?\n",
    "ser has missing dates and values. Make all missing dates appear and fill up with value from previous date."
   ]
  },
  {
   "cell_type": "code",
   "execution_count": 131,
   "metadata": {
    "ExecuteTime": {
     "end_time": "2020-05-16T06:10:41.981249Z",
     "start_time": "2020-05-16T06:10:41.974966Z"
    }
   },
   "outputs": [
    {
     "name": "stdout",
     "output_type": "stream",
     "text": [
      "2000-01-01     1.0\n",
      "2000-01-03    10.0\n",
      "2000-01-06     3.0\n",
      "2000-01-08     NaN\n",
      "dtype: float64\n"
     ]
    }
   ],
   "source": [
    "ser = pd.Series([1,10,3,np.nan], index=pd.to_datetime(['2000-01-01', '2000-01-03', '2000-01-06', '2000-01-08']))\n",
    "print(ser)"
   ]
  },
  {
   "cell_type": "code",
   "execution_count": 132,
   "metadata": {
    "ExecuteTime": {
     "end_time": "2020-05-16T06:10:54.602142Z",
     "start_time": "2020-05-16T06:10:54.597264Z"
    }
   },
   "outputs": [
    {
     "data": {
      "text/plain": [
       "<bound method Series.isna of 2000-01-01     1.0\n",
       "2000-01-03    10.0\n",
       "2000-01-06     3.0\n",
       "2000-01-08     NaN\n",
       "dtype: float64>"
      ]
     },
     "execution_count": 132,
     "metadata": {},
     "output_type": "execute_result"
    }
   ],
   "source": [
    "ser.isna"
   ]
  },
  {
   "cell_type": "code",
   "execution_count": null,
   "metadata": {},
   "outputs": [],
   "source": []
  },
  {
   "cell_type": "markdown",
   "metadata": {
    "ExecuteTime": {
     "end_time": "2020-05-16T06:12:17.975719Z",
     "start_time": "2020-05-16T06:12:17.973270Z"
    }
   },
   "source": [
    "### How to compute the autocorrelations of a numeric series?m"
   ]
  },
  {
   "cell_type": "code",
   "execution_count": 134,
   "metadata": {
    "ExecuteTime": {
     "end_time": "2020-05-16T06:12:28.099781Z",
     "start_time": "2020-05-16T06:12:28.089939Z"
    }
   },
   "outputs": [],
   "source": [
    "ser = pd.Series(np.arange(20) + np.random.normal(1, 10, 20))"
   ]
  },
  {
   "cell_type": "code",
   "execution_count": 137,
   "metadata": {
    "ExecuteTime": {
     "end_time": "2020-05-16T06:13:02.710666Z",
     "start_time": "2020-05-16T06:13:02.705657Z"
    }
   },
   "outputs": [
    {
     "data": {
      "text/plain": [
       "0     4.186222\n",
       "1     6.829676\n",
       "2    12.172024\n",
       "3    -0.674903\n",
       "4     4.576663\n",
       "5    -5.115250\n",
       "6    -4.895833\n",
       "7    19.685320\n",
       "8    18.177658\n",
       "9    -0.083624\n",
       "dtype: float64"
      ]
     },
     "execution_count": 137,
     "metadata": {},
     "output_type": "execute_result"
    }
   ],
   "source": [
    "ser[:10]"
   ]
  },
  {
   "cell_type": "markdown",
   "metadata": {},
   "source": [
    "### How to import only every nth row from a csv file to create a dataframe?"
   ]
  },
  {
   "cell_type": "code",
   "execution_count": 138,
   "metadata": {
    "ExecuteTime": {
     "end_time": "2020-05-16T06:14:01.026304Z",
     "start_time": "2020-05-16T06:14:00.596398Z"
    }
   },
   "outputs": [],
   "source": [
    "# Solution 1: Use chunks and for-loop\n",
    "df = pd.read_csv('https://raw.githubusercontent.com/selva86/datasets/master/BostonHousing.csv', chunksize=50)\n",
    "df2 = pd.DataFrame()\n",
    "for chunk in df:\n",
    "    df2 = df2.append(chunk.iloc[0,:])"
   ]
  },
  {
   "cell_type": "markdown",
   "metadata": {},
   "source": [
    "### How to create a dataframe with rows as strides from a given series?"
   ]
  },
  {
   "cell_type": "code",
   "execution_count": 139,
   "metadata": {
    "ExecuteTime": {
     "end_time": "2020-05-16T06:38:20.289828Z",
     "start_time": "2020-05-16T06:38:20.286833Z"
    }
   },
   "outputs": [],
   "source": [
    "L = pd.Series(range(15))"
   ]
  },
  {
   "cell_type": "markdown",
   "metadata": {},
   "source": [
    "### How to import only specified columns from a csv file?\n",
    "read only crim and medv columns"
   ]
  },
  {
   "cell_type": "code",
   "execution_count": 144,
   "metadata": {
    "ExecuteTime": {
     "end_time": "2020-05-16T06:39:33.917492Z",
     "start_time": "2020-05-16T06:39:33.651760Z"
    }
   },
   "outputs": [
    {
     "data": {
      "text/html": [
       "<div>\n",
       "<style scoped>\n",
       "    .dataframe tbody tr th:only-of-type {\n",
       "        vertical-align: middle;\n",
       "    }\n",
       "\n",
       "    .dataframe tbody tr th {\n",
       "        vertical-align: top;\n",
       "    }\n",
       "\n",
       "    .dataframe thead th {\n",
       "        text-align: right;\n",
       "    }\n",
       "</style>\n",
       "<table border=\"1\" class=\"dataframe\">\n",
       "  <thead>\n",
       "    <tr style=\"text-align: right;\">\n",
       "      <th></th>\n",
       "      <th>crim</th>\n",
       "      <th>medv</th>\n",
       "    </tr>\n",
       "  </thead>\n",
       "  <tbody>\n",
       "    <tr>\n",
       "      <td>0</td>\n",
       "      <td>0.00632</td>\n",
       "      <td>24.0</td>\n",
       "    </tr>\n",
       "    <tr>\n",
       "      <td>1</td>\n",
       "      <td>0.02731</td>\n",
       "      <td>21.6</td>\n",
       "    </tr>\n",
       "    <tr>\n",
       "      <td>2</td>\n",
       "      <td>0.02729</td>\n",
       "      <td>34.7</td>\n",
       "    </tr>\n",
       "    <tr>\n",
       "      <td>3</td>\n",
       "      <td>0.03237</td>\n",
       "      <td>33.4</td>\n",
       "    </tr>\n",
       "    <tr>\n",
       "      <td>4</td>\n",
       "      <td>0.06905</td>\n",
       "      <td>36.2</td>\n",
       "    </tr>\n",
       "  </tbody>\n",
       "</table>\n",
       "</div>"
      ],
      "text/plain": [
       "      crim  medv\n",
       "0  0.00632  24.0\n",
       "1  0.02731  21.6\n",
       "2  0.02729  34.7\n",
       "3  0.03237  33.4\n",
       "4  0.06905  36.2"
      ]
     },
     "execution_count": 144,
     "metadata": {},
     "output_type": "execute_result"
    }
   ],
   "source": [
    "df=pd.read_csv(\"https://raw.githubusercontent.com/selva86/datasets/master/BostonHousing.csv\",usecols=['crim','medv'])\n",
    "df.head()"
   ]
  },
  {
   "cell_type": "markdown",
   "metadata": {},
   "source": [
    "### How to get the nrows, ncolumns, datatype, summary stats of each column of a dataframe? Also get the array and list equivalent."
   ]
  },
  {
   "cell_type": "code",
   "execution_count": 145,
   "metadata": {
    "ExecuteTime": {
     "end_time": "2020-05-16T06:40:51.016175Z",
     "start_time": "2020-05-16T06:40:50.491587Z"
    }
   },
   "outputs": [],
   "source": [
    "df = pd.read_csv('https://raw.githubusercontent.com/selva86/datasets/master/Cars93_miss.csv')"
   ]
  },
  {
   "cell_type": "code",
   "execution_count": 146,
   "metadata": {
    "ExecuteTime": {
     "end_time": "2020-05-16T06:42:13.001233Z",
     "start_time": "2020-05-16T06:42:12.891459Z"
    }
   },
   "outputs": [
    {
     "name": "stdout",
     "output_type": "stream",
     "text": [
      "(93, 27)\n",
      "Manufacturer           object\n",
      "Model                  object\n",
      "Type                   object\n",
      "Min.Price             float64\n",
      "Price                 float64\n",
      "Max.Price             float64\n",
      "MPG.city              float64\n",
      "MPG.highway           float64\n",
      "AirBags                object\n",
      "DriveTrain             object\n",
      "Cylinders              object\n",
      "EngineSize            float64\n",
      "Horsepower            float64\n",
      "RPM                   float64\n",
      "Rev.per.mile          float64\n",
      "Man.trans.avail        object\n",
      "Fuel.tank.capacity    float64\n",
      "Passengers            float64\n",
      "Length                float64\n",
      "Wheelbase             float64\n",
      "Width                 float64\n",
      "Turn.circle           float64\n",
      "Rear.seat.room        float64\n",
      "Luggage.room          float64\n",
      "Weight                float64\n",
      "Origin                 object\n",
      "Make                   object\n",
      "dtype: object\n",
      "float64    18\n",
      "object      9\n",
      "dtype: int64\n"
     ]
    },
    {
     "name": "stderr",
     "output_type": "stream",
     "text": [
      "/opt/anaconda3/lib/python3.7/site-packages/ipykernel_launcher.py:8: FutureWarning: `get_dtype_counts` has been deprecated and will be removed in a future version. For DataFrames use `.dtypes.value_counts()\n",
      "  \n"
     ]
    },
    {
     "data": {
      "text/plain": [
       "[['Acura',\n",
       "  'Integra',\n",
       "  'Small',\n",
       "  12.9,\n",
       "  15.9,\n",
       "  18.8,\n",
       "  25.0,\n",
       "  31.0,\n",
       "  'None',\n",
       "  'Front',\n",
       "  '4',\n",
       "  1.8,\n",
       "  140.0,\n",
       "  6300.0,\n",
       "  2890.0,\n",
       "  'Yes',\n",
       "  13.2,\n",
       "  5.0,\n",
       "  177.0,\n",
       "  102.0,\n",
       "  68.0,\n",
       "  37.0,\n",
       "  26.5,\n",
       "  nan,\n",
       "  2705.0,\n",
       "  'non-USA',\n",
       "  'Acura Integra'],\n",
       " [nan,\n",
       "  'Legend',\n",
       "  'Midsize',\n",
       "  29.2,\n",
       "  33.9,\n",
       "  38.7,\n",
       "  18.0,\n",
       "  25.0,\n",
       "  'Driver & Passenger',\n",
       "  'Front',\n",
       "  '6',\n",
       "  3.2,\n",
       "  200.0,\n",
       "  5500.0,\n",
       "  2335.0,\n",
       "  'Yes',\n",
       "  18.0,\n",
       "  5.0,\n",
       "  195.0,\n",
       "  115.0,\n",
       "  71.0,\n",
       "  38.0,\n",
       "  30.0,\n",
       "  15.0,\n",
       "  3560.0,\n",
       "  'non-USA',\n",
       "  'Acura Legend'],\n",
       " ['Audi',\n",
       "  '90',\n",
       "  'Compact',\n",
       "  25.9,\n",
       "  29.1,\n",
       "  32.3,\n",
       "  20.0,\n",
       "  26.0,\n",
       "  'Driver only',\n",
       "  'Front',\n",
       "  '6',\n",
       "  2.8,\n",
       "  172.0,\n",
       "  5500.0,\n",
       "  2280.0,\n",
       "  'Yes',\n",
       "  16.9,\n",
       "  5.0,\n",
       "  180.0,\n",
       "  102.0,\n",
       "  67.0,\n",
       "  37.0,\n",
       "  28.0,\n",
       "  14.0,\n",
       "  3375.0,\n",
       "  'non-USA',\n",
       "  'Audi 90'],\n",
       " ['Audi',\n",
       "  '100',\n",
       "  'Midsize',\n",
       "  nan,\n",
       "  37.7,\n",
       "  44.6,\n",
       "  19.0,\n",
       "  26.0,\n",
       "  'Driver & Passenger',\n",
       "  nan,\n",
       "  '6',\n",
       "  nan,\n",
       "  172.0,\n",
       "  5500.0,\n",
       "  2535.0,\n",
       "  nan,\n",
       "  21.1,\n",
       "  6.0,\n",
       "  193.0,\n",
       "  106.0,\n",
       "  nan,\n",
       "  37.0,\n",
       "  31.0,\n",
       "  17.0,\n",
       "  3405.0,\n",
       "  'non-USA',\n",
       "  'Audi 100'],\n",
       " ['BMW',\n",
       "  '535i',\n",
       "  'Midsize',\n",
       "  nan,\n",
       "  30.0,\n",
       "  nan,\n",
       "  22.0,\n",
       "  30.0,\n",
       "  nan,\n",
       "  'Rear',\n",
       "  '4',\n",
       "  3.5,\n",
       "  208.0,\n",
       "  5700.0,\n",
       "  2545.0,\n",
       "  'Yes',\n",
       "  21.1,\n",
       "  4.0,\n",
       "  186.0,\n",
       "  109.0,\n",
       "  69.0,\n",
       "  39.0,\n",
       "  27.0,\n",
       "  13.0,\n",
       "  3640.0,\n",
       "  'non-USA',\n",
       "  'BMW 535i'],\n",
       " ['Buick',\n",
       "  'Century',\n",
       "  'Midsize',\n",
       "  14.2,\n",
       "  15.7,\n",
       "  17.3,\n",
       "  22.0,\n",
       "  31.0,\n",
       "  'Driver only',\n",
       "  nan,\n",
       "  '4',\n",
       "  2.2,\n",
       "  110.0,\n",
       "  5200.0,\n",
       "  2565.0,\n",
       "  'No',\n",
       "  16.4,\n",
       "  6.0,\n",
       "  189.0,\n",
       "  105.0,\n",
       "  69.0,\n",
       "  41.0,\n",
       "  28.0,\n",
       "  16.0,\n",
       "  nan,\n",
       "  'USA',\n",
       "  'Buick Century'],\n",
       " ['Buick',\n",
       "  'LeSabre',\n",
       "  'Large',\n",
       "  19.9,\n",
       "  20.8,\n",
       "  nan,\n",
       "  19.0,\n",
       "  28.0,\n",
       "  'Driver only',\n",
       "  'Front',\n",
       "  '6',\n",
       "  3.8,\n",
       "  170.0,\n",
       "  4800.0,\n",
       "  nan,\n",
       "  'No',\n",
       "  nan,\n",
       "  6.0,\n",
       "  200.0,\n",
       "  111.0,\n",
       "  74.0,\n",
       "  42.0,\n",
       "  30.5,\n",
       "  17.0,\n",
       "  3470.0,\n",
       "  'USA',\n",
       "  'Buick LeSabre'],\n",
       " ['Buick',\n",
       "  'Roadmaster',\n",
       "  'Large',\n",
       "  22.6,\n",
       "  23.7,\n",
       "  24.9,\n",
       "  16.0,\n",
       "  25.0,\n",
       "  'Driver only',\n",
       "  'Rear',\n",
       "  '6',\n",
       "  5.7,\n",
       "  180.0,\n",
       "  4000.0,\n",
       "  1320.0,\n",
       "  'No',\n",
       "  23.0,\n",
       "  6.0,\n",
       "  216.0,\n",
       "  116.0,\n",
       "  78.0,\n",
       "  45.0,\n",
       "  30.5,\n",
       "  21.0,\n",
       "  4105.0,\n",
       "  'USA',\n",
       "  'Buick Roadmaster'],\n",
       " ['Buick',\n",
       "  'Riviera',\n",
       "  'Midsize',\n",
       "  26.3,\n",
       "  26.3,\n",
       "  26.3,\n",
       "  19.0,\n",
       "  27.0,\n",
       "  'Driver only',\n",
       "  'Front',\n",
       "  '6',\n",
       "  3.8,\n",
       "  170.0,\n",
       "  4800.0,\n",
       "  1690.0,\n",
       "  'No',\n",
       "  18.8,\n",
       "  5.0,\n",
       "  198.0,\n",
       "  108.0,\n",
       "  nan,\n",
       "  41.0,\n",
       "  26.5,\n",
       "  14.0,\n",
       "  3495.0,\n",
       "  'USA',\n",
       "  'Buick Riviera'],\n",
       " ['Cadillac',\n",
       "  'DeVille',\n",
       "  'Large',\n",
       "  33.0,\n",
       "  34.7,\n",
       "  36.3,\n",
       "  16.0,\n",
       "  25.0,\n",
       "  'Driver only',\n",
       "  'Front',\n",
       "  '8',\n",
       "  4.9,\n",
       "  200.0,\n",
       "  4100.0,\n",
       "  nan,\n",
       "  'No',\n",
       "  18.0,\n",
       "  6.0,\n",
       "  206.0,\n",
       "  114.0,\n",
       "  73.0,\n",
       "  43.0,\n",
       "  35.0,\n",
       "  18.0,\n",
       "  3620.0,\n",
       "  'USA',\n",
       "  'Cadillac DeVille'],\n",
       " ['Cadillac',\n",
       "  'Seville',\n",
       "  'Midsize',\n",
       "  37.5,\n",
       "  40.1,\n",
       "  42.7,\n",
       "  16.0,\n",
       "  25.0,\n",
       "  'Driver & Passenger',\n",
       "  'Front',\n",
       "  '8',\n",
       "  4.6,\n",
       "  295.0,\n",
       "  6000.0,\n",
       "  1985.0,\n",
       "  'No',\n",
       "  20.0,\n",
       "  5.0,\n",
       "  204.0,\n",
       "  111.0,\n",
       "  74.0,\n",
       "  44.0,\n",
       "  31.0,\n",
       "  nan,\n",
       "  3935.0,\n",
       "  'USA',\n",
       "  'Cadillac Seville'],\n",
       " ['Chevrolet',\n",
       "  'Cavalier',\n",
       "  'Compact',\n",
       "  8.5,\n",
       "  13.4,\n",
       "  18.3,\n",
       "  25.0,\n",
       "  36.0,\n",
       "  nan,\n",
       "  nan,\n",
       "  '4',\n",
       "  2.2,\n",
       "  nan,\n",
       "  5200.0,\n",
       "  2380.0,\n",
       "  'Yes',\n",
       "  15.2,\n",
       "  5.0,\n",
       "  182.0,\n",
       "  101.0,\n",
       "  66.0,\n",
       "  38.0,\n",
       "  25.0,\n",
       "  13.0,\n",
       "  2490.0,\n",
       "  'USA',\n",
       "  'Chevrolet Cavalier'],\n",
       " ['Chevrolet',\n",
       "  'Corsica',\n",
       "  'Compact',\n",
       "  11.4,\n",
       "  11.4,\n",
       "  11.4,\n",
       "  25.0,\n",
       "  34.0,\n",
       "  'Driver only',\n",
       "  'Front',\n",
       "  nan,\n",
       "  2.2,\n",
       "  110.0,\n",
       "  5200.0,\n",
       "  2665.0,\n",
       "  'Yes',\n",
       "  15.6,\n",
       "  5.0,\n",
       "  184.0,\n",
       "  103.0,\n",
       "  68.0,\n",
       "  39.0,\n",
       "  26.0,\n",
       "  nan,\n",
       "  2785.0,\n",
       "  'USA',\n",
       "  'Chevrolet Corsica'],\n",
       " ['Chevrolet',\n",
       "  'Camaro',\n",
       "  'Sporty',\n",
       "  13.4,\n",
       "  15.1,\n",
       "  16.8,\n",
       "  19.0,\n",
       "  28.0,\n",
       "  'Driver & Passenger',\n",
       "  'Rear',\n",
       "  nan,\n",
       "  3.4,\n",
       "  160.0,\n",
       "  4600.0,\n",
       "  1805.0,\n",
       "  'Yes',\n",
       "  nan,\n",
       "  4.0,\n",
       "  193.0,\n",
       "  101.0,\n",
       "  74.0,\n",
       "  43.0,\n",
       "  25.0,\n",
       "  13.0,\n",
       "  3240.0,\n",
       "  'USA',\n",
       "  'Chevrolet Camaro'],\n",
       " ['Chevrolet',\n",
       "  'Lumina',\n",
       "  'Midsize',\n",
       "  13.4,\n",
       "  15.9,\n",
       "  18.4,\n",
       "  nan,\n",
       "  29.0,\n",
       "  'None',\n",
       "  'Front',\n",
       "  '4',\n",
       "  2.2,\n",
       "  nan,\n",
       "  5200.0,\n",
       "  2595.0,\n",
       "  'No',\n",
       "  16.5,\n",
       "  6.0,\n",
       "  nan,\n",
       "  108.0,\n",
       "  71.0,\n",
       "  nan,\n",
       "  28.5,\n",
       "  16.0,\n",
       "  3195.0,\n",
       "  'USA',\n",
       "  'Chevrolet Lumina'],\n",
       " ['Chevrolet',\n",
       "  'Lumina_APV',\n",
       "  'Van',\n",
       "  14.7,\n",
       "  16.3,\n",
       "  18.0,\n",
       "  18.0,\n",
       "  23.0,\n",
       "  'None',\n",
       "  'Front',\n",
       "  '6',\n",
       "  3.8,\n",
       "  170.0,\n",
       "  4800.0,\n",
       "  1690.0,\n",
       "  'No',\n",
       "  20.0,\n",
       "  7.0,\n",
       "  178.0,\n",
       "  110.0,\n",
       "  74.0,\n",
       "  44.0,\n",
       "  30.5,\n",
       "  nan,\n",
       "  3715.0,\n",
       "  'USA',\n",
       "  'Chevrolet Lumina_APV'],\n",
       " ['Chevrolet',\n",
       "  'Astro',\n",
       "  'Van',\n",
       "  14.7,\n",
       "  16.6,\n",
       "  18.6,\n",
       "  15.0,\n",
       "  20.0,\n",
       "  'None',\n",
       "  '4WD',\n",
       "  '6',\n",
       "  4.3,\n",
       "  nan,\n",
       "  4000.0,\n",
       "  1790.0,\n",
       "  'No',\n",
       "  27.0,\n",
       "  8.0,\n",
       "  194.0,\n",
       "  111.0,\n",
       "  78.0,\n",
       "  42.0,\n",
       "  33.5,\n",
       "  nan,\n",
       "  4025.0,\n",
       "  'USA',\n",
       "  'Chevrolet Astro'],\n",
       " ['Chevrolet',\n",
       "  'Caprice',\n",
       "  'Large',\n",
       "  18.0,\n",
       "  18.8,\n",
       "  19.6,\n",
       "  17.0,\n",
       "  26.0,\n",
       "  'Driver only',\n",
       "  'Rear',\n",
       "  '8',\n",
       "  5.0,\n",
       "  170.0,\n",
       "  4200.0,\n",
       "  1350.0,\n",
       "  'No',\n",
       "  23.0,\n",
       "  6.0,\n",
       "  214.0,\n",
       "  116.0,\n",
       "  77.0,\n",
       "  42.0,\n",
       "  29.5,\n",
       "  20.0,\n",
       "  3910.0,\n",
       "  'USA',\n",
       "  'Chevrolet Caprice'],\n",
       " ['Chevrolet',\n",
       "  'Corvette',\n",
       "  'Sporty',\n",
       "  34.6,\n",
       "  38.0,\n",
       "  41.5,\n",
       "  17.0,\n",
       "  25.0,\n",
       "  'Driver only',\n",
       "  'Rear',\n",
       "  '8',\n",
       "  5.7,\n",
       "  300.0,\n",
       "  5000.0,\n",
       "  1450.0,\n",
       "  'Yes',\n",
       "  20.0,\n",
       "  2.0,\n",
       "  179.0,\n",
       "  96.0,\n",
       "  74.0,\n",
       "  43.0,\n",
       "  nan,\n",
       "  nan,\n",
       "  3380.0,\n",
       "  nan,\n",
       "  'Chevrolet Corvette'],\n",
       " [nan,\n",
       "  'Concorde',\n",
       "  'Large',\n",
       "  18.4,\n",
       "  18.4,\n",
       "  18.4,\n",
       "  20.0,\n",
       "  28.0,\n",
       "  'Driver & Passenger',\n",
       "  'Front',\n",
       "  '6',\n",
       "  3.3,\n",
       "  153.0,\n",
       "  5300.0,\n",
       "  1990.0,\n",
       "  'No',\n",
       "  18.0,\n",
       "  6.0,\n",
       "  203.0,\n",
       "  113.0,\n",
       "  74.0,\n",
       "  nan,\n",
       "  31.0,\n",
       "  15.0,\n",
       "  3515.0,\n",
       "  'USA',\n",
       "  'Chrylser Concorde'],\n",
       " ['Chrysler',\n",
       "  'LeBaron',\n",
       "  'Compact',\n",
       "  14.5,\n",
       "  15.8,\n",
       "  17.1,\n",
       "  23.0,\n",
       "  28.0,\n",
       "  'Driver & Passenger',\n",
       "  'Front',\n",
       "  '4',\n",
       "  3.0,\n",
       "  141.0,\n",
       "  5000.0,\n",
       "  2090.0,\n",
       "  'No',\n",
       "  16.0,\n",
       "  6.0,\n",
       "  183.0,\n",
       "  104.0,\n",
       "  68.0,\n",
       "  41.0,\n",
       "  30.5,\n",
       "  14.0,\n",
       "  3085.0,\n",
       "  'USA',\n",
       "  'Chrysler LeBaron'],\n",
       " ['Chrysler',\n",
       "  'Imperial',\n",
       "  'Large',\n",
       "  29.5,\n",
       "  29.5,\n",
       "  29.5,\n",
       "  20.0,\n",
       "  26.0,\n",
       "  'Driver only',\n",
       "  'Front',\n",
       "  '6',\n",
       "  3.3,\n",
       "  147.0,\n",
       "  4800.0,\n",
       "  1785.0,\n",
       "  'No',\n",
       "  16.0,\n",
       "  6.0,\n",
       "  203.0,\n",
       "  110.0,\n",
       "  69.0,\n",
       "  44.0,\n",
       "  36.0,\n",
       "  17.0,\n",
       "  3570.0,\n",
       "  'USA',\n",
       "  'Chrysler Imperial'],\n",
       " ['Dodge',\n",
       "  'Colt',\n",
       "  'Small',\n",
       "  7.9,\n",
       "  9.2,\n",
       "  10.6,\n",
       "  29.0,\n",
       "  33.0,\n",
       "  'None',\n",
       "  'Front',\n",
       "  '4',\n",
       "  1.5,\n",
       "  92.0,\n",
       "  6000.0,\n",
       "  3285.0,\n",
       "  'Yes',\n",
       "  nan,\n",
       "  5.0,\n",
       "  174.0,\n",
       "  98.0,\n",
       "  66.0,\n",
       "  32.0,\n",
       "  nan,\n",
       "  11.0,\n",
       "  2270.0,\n",
       "  'USA',\n",
       "  'Dodge Colt'],\n",
       " ['Dodge',\n",
       "  'Shadow',\n",
       "  'Small',\n",
       "  8.4,\n",
       "  11.3,\n",
       "  14.2,\n",
       "  23.0,\n",
       "  29.0,\n",
       "  'Driver only',\n",
       "  'Front',\n",
       "  '4',\n",
       "  2.2,\n",
       "  93.0,\n",
       "  4800.0,\n",
       "  nan,\n",
       "  'Yes',\n",
       "  14.0,\n",
       "  5.0,\n",
       "  172.0,\n",
       "  97.0,\n",
       "  67.0,\n",
       "  38.0,\n",
       "  26.5,\n",
       "  nan,\n",
       "  2670.0,\n",
       "  'USA',\n",
       "  'Dodge Shadow'],\n",
       " ['Dodge',\n",
       "  'Spirit',\n",
       "  'Compact',\n",
       "  11.9,\n",
       "  13.3,\n",
       "  14.7,\n",
       "  22.0,\n",
       "  27.0,\n",
       "  'Driver only',\n",
       "  'Front',\n",
       "  '4',\n",
       "  2.5,\n",
       "  100.0,\n",
       "  4800.0,\n",
       "  2535.0,\n",
       "  'Yes',\n",
       "  nan,\n",
       "  6.0,\n",
       "  181.0,\n",
       "  104.0,\n",
       "  68.0,\n",
       "  39.0,\n",
       "  30.5,\n",
       "  nan,\n",
       "  2970.0,\n",
       "  'USA',\n",
       "  'Dodge Spirit'],\n",
       " ['Dodge',\n",
       "  'Caravan',\n",
       "  'Van',\n",
       "  nan,\n",
       "  19.0,\n",
       "  24.4,\n",
       "  17.0,\n",
       "  21.0,\n",
       "  'Driver only',\n",
       "  '4WD',\n",
       "  '6',\n",
       "  3.0,\n",
       "  142.0,\n",
       "  5000.0,\n",
       "  1970.0,\n",
       "  'No',\n",
       "  20.0,\n",
       "  7.0,\n",
       "  175.0,\n",
       "  112.0,\n",
       "  72.0,\n",
       "  42.0,\n",
       "  26.5,\n",
       "  nan,\n",
       "  3705.0,\n",
       "  'USA',\n",
       "  'Dodge Caravan'],\n",
       " ['Dodge',\n",
       "  'Dynasty',\n",
       "  'Midsize',\n",
       "  14.8,\n",
       "  15.6,\n",
       "  16.4,\n",
       "  21.0,\n",
       "  nan,\n",
       "  'Driver only',\n",
       "  'Front',\n",
       "  nan,\n",
       "  2.5,\n",
       "  100.0,\n",
       "  4800.0,\n",
       "  2465.0,\n",
       "  'No',\n",
       "  16.0,\n",
       "  6.0,\n",
       "  192.0,\n",
       "  105.0,\n",
       "  69.0,\n",
       "  42.0,\n",
       "  30.5,\n",
       "  16.0,\n",
       "  3080.0,\n",
       "  'USA',\n",
       "  'Dodge Dynasty'],\n",
       " ['Dodge',\n",
       "  'Stealth',\n",
       "  'Sporty',\n",
       "  18.5,\n",
       "  25.8,\n",
       "  33.1,\n",
       "  nan,\n",
       "  24.0,\n",
       "  'Driver only',\n",
       "  '4WD',\n",
       "  '6',\n",
       "  3.0,\n",
       "  300.0,\n",
       "  6000.0,\n",
       "  2120.0,\n",
       "  'Yes',\n",
       "  19.8,\n",
       "  4.0,\n",
       "  180.0,\n",
       "  97.0,\n",
       "  nan,\n",
       "  40.0,\n",
       "  20.0,\n",
       "  11.0,\n",
       "  3805.0,\n",
       "  'USA',\n",
       "  'Dodge Stealth'],\n",
       " ['Eagle',\n",
       "  'Summit',\n",
       "  'Small',\n",
       "  7.9,\n",
       "  12.2,\n",
       "  16.5,\n",
       "  29.0,\n",
       "  33.0,\n",
       "  'None',\n",
       "  'Front',\n",
       "  '4',\n",
       "  1.5,\n",
       "  92.0,\n",
       "  6000.0,\n",
       "  2505.0,\n",
       "  'Yes',\n",
       "  13.2,\n",
       "  5.0,\n",
       "  174.0,\n",
       "  98.0,\n",
       "  66.0,\n",
       "  36.0,\n",
       "  26.5,\n",
       "  11.0,\n",
       "  2295.0,\n",
       "  'USA',\n",
       "  'Eagle Summit'],\n",
       " ['Eagle',\n",
       "  'Vision',\n",
       "  'Large',\n",
       "  nan,\n",
       "  19.3,\n",
       "  21.2,\n",
       "  20.0,\n",
       "  28.0,\n",
       "  'Driver & Passenger',\n",
       "  'Front',\n",
       "  '6',\n",
       "  3.5,\n",
       "  nan,\n",
       "  5800.0,\n",
       "  1980.0,\n",
       "  'No',\n",
       "  18.0,\n",
       "  6.0,\n",
       "  202.0,\n",
       "  113.0,\n",
       "  74.0,\n",
       "  40.0,\n",
       "  30.0,\n",
       "  15.0,\n",
       "  3490.0,\n",
       "  'USA',\n",
       "  'Eagle Vision'],\n",
       " ['Ford',\n",
       "  'Festiva',\n",
       "  'Small',\n",
       "  6.9,\n",
       "  7.4,\n",
       "  7.9,\n",
       "  31.0,\n",
       "  33.0,\n",
       "  nan,\n",
       "  'Front',\n",
       "  '4',\n",
       "  1.3,\n",
       "  63.0,\n",
       "  5000.0,\n",
       "  3150.0,\n",
       "  'Yes',\n",
       "  10.0,\n",
       "  4.0,\n",
       "  141.0,\n",
       "  90.0,\n",
       "  63.0,\n",
       "  33.0,\n",
       "  26.0,\n",
       "  12.0,\n",
       "  1845.0,\n",
       "  'USA',\n",
       "  'Ford Festiva'],\n",
       " ['Ford',\n",
       "  'Escort',\n",
       "  'Small',\n",
       "  8.4,\n",
       "  10.1,\n",
       "  11.9,\n",
       "  23.0,\n",
       "  30.0,\n",
       "  'None',\n",
       "  'Front',\n",
       "  '4',\n",
       "  1.8,\n",
       "  127.0,\n",
       "  6500.0,\n",
       "  2410.0,\n",
       "  nan,\n",
       "  13.2,\n",
       "  5.0,\n",
       "  171.0,\n",
       "  98.0,\n",
       "  67.0,\n",
       "  36.0,\n",
       "  28.0,\n",
       "  12.0,\n",
       "  2530.0,\n",
       "  'USA',\n",
       "  'Ford Escort'],\n",
       " ['Ford',\n",
       "  'Tempo',\n",
       "  'Compact',\n",
       "  10.4,\n",
       "  11.3,\n",
       "  12.2,\n",
       "  22.0,\n",
       "  27.0,\n",
       "  'None',\n",
       "  'Front',\n",
       "  '4',\n",
       "  2.3,\n",
       "  96.0,\n",
       "  4200.0,\n",
       "  2805.0,\n",
       "  'Yes',\n",
       "  15.9,\n",
       "  5.0,\n",
       "  177.0,\n",
       "  100.0,\n",
       "  68.0,\n",
       "  nan,\n",
       "  27.5,\n",
       "  13.0,\n",
       "  nan,\n",
       "  'USA',\n",
       "  nan],\n",
       " ['Ford',\n",
       "  'Mustang',\n",
       "  'Sporty',\n",
       "  10.8,\n",
       "  15.9,\n",
       "  21.0,\n",
       "  22.0,\n",
       "  29.0,\n",
       "  'Driver only',\n",
       "  'Rear',\n",
       "  '4',\n",
       "  2.3,\n",
       "  105.0,\n",
       "  4600.0,\n",
       "  2285.0,\n",
       "  'Yes',\n",
       "  15.4,\n",
       "  4.0,\n",
       "  180.0,\n",
       "  101.0,\n",
       "  68.0,\n",
       "  40.0,\n",
       "  24.0,\n",
       "  12.0,\n",
       "  nan,\n",
       "  'USA',\n",
       "  'Ford Mustang'],\n",
       " ['Ford',\n",
       "  'Probe',\n",
       "  'Sporty',\n",
       "  12.8,\n",
       "  14.0,\n",
       "  15.2,\n",
       "  nan,\n",
       "  30.0,\n",
       "  'Driver only',\n",
       "  'Front',\n",
       "  '4',\n",
       "  2.0,\n",
       "  115.0,\n",
       "  5500.0,\n",
       "  2340.0,\n",
       "  'Yes',\n",
       "  15.5,\n",
       "  4.0,\n",
       "  179.0,\n",
       "  103.0,\n",
       "  70.0,\n",
       "  38.0,\n",
       "  23.0,\n",
       "  18.0,\n",
       "  2710.0,\n",
       "  'USA',\n",
       "  'Ford Probe'],\n",
       " ['Ford',\n",
       "  'Aerostar',\n",
       "  'Van',\n",
       "  14.5,\n",
       "  19.9,\n",
       "  25.3,\n",
       "  15.0,\n",
       "  20.0,\n",
       "  'Driver only',\n",
       "  '4WD',\n",
       "  '6',\n",
       "  3.0,\n",
       "  145.0,\n",
       "  4800.0,\n",
       "  2080.0,\n",
       "  'Yes',\n",
       "  21.0,\n",
       "  7.0,\n",
       "  176.0,\n",
       "  119.0,\n",
       "  72.0,\n",
       "  45.0,\n",
       "  30.0,\n",
       "  nan,\n",
       "  3735.0,\n",
       "  'USA',\n",
       "  'Ford Aerostar'],\n",
       " ['Ford',\n",
       "  'Taurus',\n",
       "  'Midsize',\n",
       "  15.6,\n",
       "  20.2,\n",
       "  24.8,\n",
       "  21.0,\n",
       "  30.0,\n",
       "  'Driver only',\n",
       "  'Front',\n",
       "  '6',\n",
       "  3.0,\n",
       "  nan,\n",
       "  4800.0,\n",
       "  1885.0,\n",
       "  'No',\n",
       "  nan,\n",
       "  5.0,\n",
       "  192.0,\n",
       "  106.0,\n",
       "  71.0,\n",
       "  40.0,\n",
       "  27.5,\n",
       "  18.0,\n",
       "  3325.0,\n",
       "  'USA',\n",
       "  'Ford Taurus'],\n",
       " ['Ford',\n",
       "  'Crown_Victoria',\n",
       "  'Large',\n",
       "  20.1,\n",
       "  20.9,\n",
       "  21.7,\n",
       "  18.0,\n",
       "  26.0,\n",
       "  'Driver only',\n",
       "  'Rear',\n",
       "  '8',\n",
       "  4.6,\n",
       "  190.0,\n",
       "  4200.0,\n",
       "  nan,\n",
       "  'No',\n",
       "  20.0,\n",
       "  6.0,\n",
       "  212.0,\n",
       "  114.0,\n",
       "  78.0,\n",
       "  43.0,\n",
       "  30.0,\n",
       "  21.0,\n",
       "  3950.0,\n",
       "  'USA',\n",
       "  'Ford Crown_Victoria'],\n",
       " ['Geo',\n",
       "  'Metro',\n",
       "  'Small',\n",
       "  6.7,\n",
       "  8.4,\n",
       "  10.0,\n",
       "  46.0,\n",
       "  50.0,\n",
       "  'None',\n",
       "  'Front',\n",
       "  '3',\n",
       "  1.0,\n",
       "  55.0,\n",
       "  5700.0,\n",
       "  3755.0,\n",
       "  nan,\n",
       "  10.6,\n",
       "  4.0,\n",
       "  151.0,\n",
       "  93.0,\n",
       "  63.0,\n",
       "  34.0,\n",
       "  27.5,\n",
       "  10.0,\n",
       "  1695.0,\n",
       "  'non-USA',\n",
       "  'Geo Metro'],\n",
       " ['Geo',\n",
       "  'Storm',\n",
       "  'Sporty',\n",
       "  11.5,\n",
       "  12.5,\n",
       "  13.5,\n",
       "  30.0,\n",
       "  36.0,\n",
       "  'Driver only',\n",
       "  'Front',\n",
       "  '4',\n",
       "  1.6,\n",
       "  90.0,\n",
       "  5400.0,\n",
       "  3250.0,\n",
       "  'Yes',\n",
       "  12.4,\n",
       "  4.0,\n",
       "  164.0,\n",
       "  97.0,\n",
       "  nan,\n",
       "  37.0,\n",
       "  24.5,\n",
       "  11.0,\n",
       "  2475.0,\n",
       "  'non-USA',\n",
       "  'Geo Storm'],\n",
       " ['Honda',\n",
       "  'Prelude',\n",
       "  'Sporty',\n",
       "  17.0,\n",
       "  19.8,\n",
       "  22.7,\n",
       "  24.0,\n",
       "  31.0,\n",
       "  'Driver & Passenger',\n",
       "  'Front',\n",
       "  '4',\n",
       "  2.3,\n",
       "  160.0,\n",
       "  5800.0,\n",
       "  2855.0,\n",
       "  'Yes',\n",
       "  nan,\n",
       "  4.0,\n",
       "  175.0,\n",
       "  100.0,\n",
       "  70.0,\n",
       "  39.0,\n",
       "  23.5,\n",
       "  8.0,\n",
       "  2865.0,\n",
       "  'non-USA',\n",
       "  'Honda Prelude'],\n",
       " ['Honda',\n",
       "  'Civic',\n",
       "  'Small',\n",
       "  8.4,\n",
       "  12.1,\n",
       "  15.8,\n",
       "  42.0,\n",
       "  46.0,\n",
       "  'Driver only',\n",
       "  'Front',\n",
       "  '4',\n",
       "  1.5,\n",
       "  nan,\n",
       "  5900.0,\n",
       "  2650.0,\n",
       "  'Yes',\n",
       "  11.9,\n",
       "  4.0,\n",
       "  173.0,\n",
       "  nan,\n",
       "  67.0,\n",
       "  36.0,\n",
       "  28.0,\n",
       "  12.0,\n",
       "  nan,\n",
       "  'non-USA',\n",
       "  'Honda Civic'],\n",
       " ['Honda',\n",
       "  'Accord',\n",
       "  'Compact',\n",
       "  13.8,\n",
       "  17.5,\n",
       "  21.2,\n",
       "  24.0,\n",
       "  31.0,\n",
       "  'Driver & Passenger',\n",
       "  'Front',\n",
       "  '4',\n",
       "  2.2,\n",
       "  140.0,\n",
       "  5600.0,\n",
       "  nan,\n",
       "  'Yes',\n",
       "  17.0,\n",
       "  4.0,\n",
       "  185.0,\n",
       "  107.0,\n",
       "  67.0,\n",
       "  41.0,\n",
       "  28.0,\n",
       "  14.0,\n",
       "  3040.0,\n",
       "  'non-USA',\n",
       "  'Honda Accord'],\n",
       " ['Hyundai',\n",
       "  'Excel',\n",
       "  'Small',\n",
       "  6.8,\n",
       "  8.0,\n",
       "  9.2,\n",
       "  29.0,\n",
       "  33.0,\n",
       "  'None',\n",
       "  'Front',\n",
       "  '4',\n",
       "  1.5,\n",
       "  81.0,\n",
       "  5500.0,\n",
       "  2710.0,\n",
       "  'Yes',\n",
       "  11.9,\n",
       "  5.0,\n",
       "  168.0,\n",
       "  94.0,\n",
       "  63.0,\n",
       "  35.0,\n",
       "  26.0,\n",
       "  11.0,\n",
       "  2345.0,\n",
       "  'non-USA',\n",
       "  'Hyundai Excel'],\n",
       " ['Hyundai',\n",
       "  'Elantra',\n",
       "  'Small',\n",
       "  9.0,\n",
       "  10.0,\n",
       "  11.0,\n",
       "  nan,\n",
       "  29.0,\n",
       "  'None',\n",
       "  'Front',\n",
       "  '4',\n",
       "  1.8,\n",
       "  124.0,\n",
       "  6000.0,\n",
       "  2745.0,\n",
       "  'Yes',\n",
       "  13.7,\n",
       "  5.0,\n",
       "  172.0,\n",
       "  98.0,\n",
       "  66.0,\n",
       "  36.0,\n",
       "  28.0,\n",
       "  12.0,\n",
       "  2620.0,\n",
       "  'non-USA',\n",
       "  'Hyundai Elantra'],\n",
       " ['Hyundai',\n",
       "  'Scoupe',\n",
       "  nan,\n",
       "  9.1,\n",
       "  10.0,\n",
       "  11.0,\n",
       "  26.0,\n",
       "  34.0,\n",
       "  'None',\n",
       "  'Front',\n",
       "  '4',\n",
       "  1.5,\n",
       "  92.0,\n",
       "  5550.0,\n",
       "  2540.0,\n",
       "  'Yes',\n",
       "  11.9,\n",
       "  4.0,\n",
       "  166.0,\n",
       "  94.0,\n",
       "  64.0,\n",
       "  34.0,\n",
       "  23.5,\n",
       "  9.0,\n",
       "  2285.0,\n",
       "  'non-USA',\n",
       "  nan],\n",
       " ['Hyundai',\n",
       "  'Sonata',\n",
       "  'Midsize',\n",
       "  12.4,\n",
       "  13.9,\n",
       "  15.3,\n",
       "  20.0,\n",
       "  27.0,\n",
       "  'None',\n",
       "  'Front',\n",
       "  '4',\n",
       "  2.0,\n",
       "  128.0,\n",
       "  6000.0,\n",
       "  2335.0,\n",
       "  'Yes',\n",
       "  17.2,\n",
       "  5.0,\n",
       "  184.0,\n",
       "  104.0,\n",
       "  69.0,\n",
       "  41.0,\n",
       "  31.0,\n",
       "  nan,\n",
       "  2885.0,\n",
       "  nan,\n",
       "  'Hyundai Sonata'],\n",
       " ['Infiniti',\n",
       "  'Q45',\n",
       "  'Midsize',\n",
       "  45.4,\n",
       "  47.9,\n",
       "  nan,\n",
       "  17.0,\n",
       "  22.0,\n",
       "  nan,\n",
       "  'Rear',\n",
       "  '8',\n",
       "  4.5,\n",
       "  278.0,\n",
       "  6000.0,\n",
       "  1955.0,\n",
       "  'No',\n",
       "  22.5,\n",
       "  5.0,\n",
       "  200.0,\n",
       "  113.0,\n",
       "  72.0,\n",
       "  42.0,\n",
       "  29.0,\n",
       "  15.0,\n",
       "  4000.0,\n",
       "  'non-USA',\n",
       "  'Infiniti Q45'],\n",
       " ['Lexus',\n",
       "  'ES300',\n",
       "  'Midsize',\n",
       "  27.5,\n",
       "  28.0,\n",
       "  28.4,\n",
       "  18.0,\n",
       "  24.0,\n",
       "  'Driver only',\n",
       "  'Front',\n",
       "  '6',\n",
       "  3.0,\n",
       "  185.0,\n",
       "  nan,\n",
       "  2325.0,\n",
       "  'Yes',\n",
       "  18.5,\n",
       "  5.0,\n",
       "  188.0,\n",
       "  103.0,\n",
       "  70.0,\n",
       "  40.0,\n",
       "  27.5,\n",
       "  14.0,\n",
       "  3510.0,\n",
       "  'non-USA',\n",
       "  'Lexus ES300'],\n",
       " [nan,\n",
       "  'SC300',\n",
       "  'Midsize',\n",
       "  34.7,\n",
       "  35.2,\n",
       "  35.6,\n",
       "  18.0,\n",
       "  23.0,\n",
       "  'Driver & Passenger',\n",
       "  'Rear',\n",
       "  '6',\n",
       "  3.0,\n",
       "  225.0,\n",
       "  6000.0,\n",
       "  2510.0,\n",
       "  'Yes',\n",
       "  nan,\n",
       "  4.0,\n",
       "  191.0,\n",
       "  106.0,\n",
       "  71.0,\n",
       "  39.0,\n",
       "  25.0,\n",
       "  9.0,\n",
       "  3515.0,\n",
       "  'non-USA',\n",
       "  'Lexus SC300'],\n",
       " ['Lincoln',\n",
       "  'Continental',\n",
       "  'Midsize',\n",
       "  33.3,\n",
       "  34.3,\n",
       "  35.3,\n",
       "  17.0,\n",
       "  26.0,\n",
       "  'Driver & Passenger',\n",
       "  nan,\n",
       "  '6',\n",
       "  3.8,\n",
       "  160.0,\n",
       "  4400.0,\n",
       "  1835.0,\n",
       "  'No',\n",
       "  18.4,\n",
       "  6.0,\n",
       "  205.0,\n",
       "  109.0,\n",
       "  73.0,\n",
       "  42.0,\n",
       "  30.0,\n",
       "  19.0,\n",
       "  3695.0,\n",
       "  'USA',\n",
       "  'Lincoln Continental'],\n",
       " ['Lincoln',\n",
       "  'Town_Car',\n",
       "  'Large',\n",
       "  34.4,\n",
       "  36.1,\n",
       "  37.8,\n",
       "  18.0,\n",
       "  26.0,\n",
       "  'Driver & Passenger',\n",
       "  'Rear',\n",
       "  '8',\n",
       "  4.6,\n",
       "  210.0,\n",
       "  4600.0,\n",
       "  1840.0,\n",
       "  'No',\n",
       "  20.0,\n",
       "  nan,\n",
       "  219.0,\n",
       "  117.0,\n",
       "  77.0,\n",
       "  45.0,\n",
       "  31.5,\n",
       "  22.0,\n",
       "  4055.0,\n",
       "  'USA',\n",
       "  'Lincoln Town_Car'],\n",
       " ['Mazda',\n",
       "  '323',\n",
       "  'Small',\n",
       "  7.4,\n",
       "  8.3,\n",
       "  9.1,\n",
       "  29.0,\n",
       "  37.0,\n",
       "  'None',\n",
       "  'Front',\n",
       "  '4',\n",
       "  1.6,\n",
       "  82.0,\n",
       "  5000.0,\n",
       "  2370.0,\n",
       "  'Yes',\n",
       "  13.2,\n",
       "  4.0,\n",
       "  164.0,\n",
       "  97.0,\n",
       "  66.0,\n",
       "  34.0,\n",
       "  27.0,\n",
       "  16.0,\n",
       "  2325.0,\n",
       "  'non-USA',\n",
       "  'Mazda 323'],\n",
       " ['Mazda',\n",
       "  'Protege',\n",
       "  'Small',\n",
       "  10.9,\n",
       "  11.6,\n",
       "  12.3,\n",
       "  28.0,\n",
       "  36.0,\n",
       "  'None',\n",
       "  'Front',\n",
       "  '4',\n",
       "  1.8,\n",
       "  103.0,\n",
       "  5500.0,\n",
       "  2220.0,\n",
       "  'Yes',\n",
       "  14.5,\n",
       "  5.0,\n",
       "  172.0,\n",
       "  98.0,\n",
       "  66.0,\n",
       "  36.0,\n",
       "  26.5,\n",
       "  13.0,\n",
       "  2440.0,\n",
       "  'non-USA',\n",
       "  'Mazda Protege'],\n",
       " ['Mazda',\n",
       "  '626',\n",
       "  'Compact',\n",
       "  14.3,\n",
       "  16.5,\n",
       "  18.7,\n",
       "  26.0,\n",
       "  34.0,\n",
       "  'Driver only',\n",
       "  'Front',\n",
       "  '4',\n",
       "  2.5,\n",
       "  164.0,\n",
       "  5600.0,\n",
       "  2505.0,\n",
       "  'Yes',\n",
       "  15.5,\n",
       "  5.0,\n",
       "  184.0,\n",
       "  103.0,\n",
       "  69.0,\n",
       "  40.0,\n",
       "  29.5,\n",
       "  14.0,\n",
       "  2970.0,\n",
       "  'non-USA',\n",
       "  'Mazda 626'],\n",
       " ['Mazda',\n",
       "  'MPV',\n",
       "  'Van',\n",
       "  16.6,\n",
       "  19.1,\n",
       "  21.7,\n",
       "  18.0,\n",
       "  24.0,\n",
       "  'None',\n",
       "  '4WD',\n",
       "  '6',\n",
       "  3.0,\n",
       "  155.0,\n",
       "  5000.0,\n",
       "  2240.0,\n",
       "  'No',\n",
       "  19.6,\n",
       "  7.0,\n",
       "  190.0,\n",
       "  110.0,\n",
       "  72.0,\n",
       "  39.0,\n",
       "  27.5,\n",
       "  nan,\n",
       "  3735.0,\n",
       "  'non-USA',\n",
       "  'Mazda MPV'],\n",
       " ['Mazda',\n",
       "  'RX-7',\n",
       "  'Sporty',\n",
       "  32.5,\n",
       "  32.5,\n",
       "  32.5,\n",
       "  17.0,\n",
       "  25.0,\n",
       "  'Driver only',\n",
       "  nan,\n",
       "  'rotary',\n",
       "  1.3,\n",
       "  255.0,\n",
       "  6500.0,\n",
       "  2325.0,\n",
       "  'Yes',\n",
       "  20.0,\n",
       "  2.0,\n",
       "  169.0,\n",
       "  96.0,\n",
       "  69.0,\n",
       "  nan,\n",
       "  nan,\n",
       "  nan,\n",
       "  nan,\n",
       "  'non-USA',\n",
       "  'Mazda RX-7'],\n",
       " ['Mercedes-Benz',\n",
       "  '190E',\n",
       "  'Compact',\n",
       "  29.0,\n",
       "  31.9,\n",
       "  34.9,\n",
       "  nan,\n",
       "  29.0,\n",
       "  'Driver only',\n",
       "  'Rear',\n",
       "  '4',\n",
       "  2.3,\n",
       "  130.0,\n",
       "  5100.0,\n",
       "  2425.0,\n",
       "  'Yes',\n",
       "  14.5,\n",
       "  5.0,\n",
       "  175.0,\n",
       "  105.0,\n",
       "  67.0,\n",
       "  34.0,\n",
       "  26.0,\n",
       "  12.0,\n",
       "  2920.0,\n",
       "  nan,\n",
       "  'Mercedes-Benz 190E'],\n",
       " ['Mercedes-Benz',\n",
       "  '300E',\n",
       "  'Midsize',\n",
       "  43.8,\n",
       "  61.9,\n",
       "  80.0,\n",
       "  19.0,\n",
       "  25.0,\n",
       "  'Driver & Passenger',\n",
       "  'Rear',\n",
       "  '6',\n",
       "  3.2,\n",
       "  217.0,\n",
       "  5500.0,\n",
       "  2220.0,\n",
       "  'No',\n",
       "  18.5,\n",
       "  5.0,\n",
       "  nan,\n",
       "  110.0,\n",
       "  69.0,\n",
       "  37.0,\n",
       "  nan,\n",
       "  15.0,\n",
       "  3525.0,\n",
       "  'non-USA',\n",
       "  'Mercedes-Benz 300E'],\n",
       " ['Mercury',\n",
       "  nan,\n",
       "  'Sporty',\n",
       "  13.3,\n",
       "  14.1,\n",
       "  15.0,\n",
       "  23.0,\n",
       "  26.0,\n",
       "  'Driver only',\n",
       "  'Front',\n",
       "  '4',\n",
       "  1.6,\n",
       "  100.0,\n",
       "  5750.0,\n",
       "  2475.0,\n",
       "  'Yes',\n",
       "  11.1,\n",
       "  4.0,\n",
       "  166.0,\n",
       "  95.0,\n",
       "  65.0,\n",
       "  36.0,\n",
       "  19.0,\n",
       "  6.0,\n",
       "  2450.0,\n",
       "  'USA',\n",
       "  'Mercury Capri'],\n",
       " ['Mercury',\n",
       "  'Cougar',\n",
       "  'Midsize',\n",
       "  14.9,\n",
       "  14.9,\n",
       "  14.9,\n",
       "  19.0,\n",
       "  26.0,\n",
       "  'None',\n",
       "  'Rear',\n",
       "  '6',\n",
       "  3.8,\n",
       "  140.0,\n",
       "  3800.0,\n",
       "  1730.0,\n",
       "  'No',\n",
       "  18.0,\n",
       "  5.0,\n",
       "  199.0,\n",
       "  113.0,\n",
       "  73.0,\n",
       "  38.0,\n",
       "  28.0,\n",
       "  15.0,\n",
       "  3610.0,\n",
       "  'USA',\n",
       "  'Mercury Cougar'],\n",
       " ['Mitsubishi',\n",
       "  'Mirage',\n",
       "  'Small',\n",
       "  7.7,\n",
       "  10.3,\n",
       "  12.9,\n",
       "  29.0,\n",
       "  nan,\n",
       "  'None',\n",
       "  'Front',\n",
       "  '4',\n",
       "  1.5,\n",
       "  92.0,\n",
       "  6000.0,\n",
       "  2505.0,\n",
       "  'Yes',\n",
       "  13.2,\n",
       "  5.0,\n",
       "  172.0,\n",
       "  98.0,\n",
       "  67.0,\n",
       "  36.0,\n",
       "  26.0,\n",
       "  11.0,\n",
       "  2295.0,\n",
       "  'non-USA',\n",
       "  'Mitsubishi Mirage'],\n",
       " ['Mitsubishi',\n",
       "  'Diamante',\n",
       "  'Midsize',\n",
       "  22.4,\n",
       "  26.1,\n",
       "  nan,\n",
       "  18.0,\n",
       "  24.0,\n",
       "  'Driver only',\n",
       "  'Front',\n",
       "  '6',\n",
       "  3.0,\n",
       "  202.0,\n",
       "  6000.0,\n",
       "  2210.0,\n",
       "  'No',\n",
       "  19.0,\n",
       "  5.0,\n",
       "  190.0,\n",
       "  107.0,\n",
       "  70.0,\n",
       "  43.0,\n",
       "  27.5,\n",
       "  14.0,\n",
       "  3730.0,\n",
       "  'non-USA',\n",
       "  'Mitsubishi Diamante'],\n",
       " ['Nissan',\n",
       "  'Sentra',\n",
       "  'Small',\n",
       "  8.7,\n",
       "  11.8,\n",
       "  14.9,\n",
       "  29.0,\n",
       "  33.0,\n",
       "  'Driver only',\n",
       "  'Front',\n",
       "  nan,\n",
       "  1.6,\n",
       "  110.0,\n",
       "  6000.0,\n",
       "  2435.0,\n",
       "  'Yes',\n",
       "  13.2,\n",
       "  5.0,\n",
       "  170.0,\n",
       "  96.0,\n",
       "  66.0,\n",
       "  33.0,\n",
       "  26.0,\n",
       "  nan,\n",
       "  nan,\n",
       "  'non-USA',\n",
       "  'Nissan Sentra'],\n",
       " ['Nissan',\n",
       "  'Altima',\n",
       "  'Compact',\n",
       "  13.0,\n",
       "  15.7,\n",
       "  18.3,\n",
       "  24.0,\n",
       "  30.0,\n",
       "  'Driver only',\n",
       "  'Front',\n",
       "  '4',\n",
       "  2.4,\n",
       "  150.0,\n",
       "  5600.0,\n",
       "  2130.0,\n",
       "  'Yes',\n",
       "  15.9,\n",
       "  5.0,\n",
       "  181.0,\n",
       "  103.0,\n",
       "  67.0,\n",
       "  40.0,\n",
       "  28.5,\n",
       "  14.0,\n",
       "  3050.0,\n",
       "  'non-USA',\n",
       "  'Nissan Altima'],\n",
       " ['Nissan',\n",
       "  'Quest',\n",
       "  'Van',\n",
       "  16.7,\n",
       "  19.1,\n",
       "  21.5,\n",
       "  17.0,\n",
       "  23.0,\n",
       "  'None',\n",
       "  'Front',\n",
       "  '6',\n",
       "  3.0,\n",
       "  nan,\n",
       "  4800.0,\n",
       "  2065.0,\n",
       "  'No',\n",
       "  20.0,\n",
       "  7.0,\n",
       "  190.0,\n",
       "  112.0,\n",
       "  74.0,\n",
       "  41.0,\n",
       "  27.0,\n",
       "  nan,\n",
       "  4100.0,\n",
       "  'non-USA',\n",
       "  'Nissan Quest'],\n",
       " ['Nissan',\n",
       "  'Maxima',\n",
       "  'Midsize',\n",
       "  21.0,\n",
       "  21.5,\n",
       "  22.0,\n",
       "  21.0,\n",
       "  26.0,\n",
       "  'Driver only',\n",
       "  'Front',\n",
       "  '6',\n",
       "  3.0,\n",
       "  160.0,\n",
       "  5200.0,\n",
       "  2045.0,\n",
       "  nan,\n",
       "  18.5,\n",
       "  5.0,\n",
       "  188.0,\n",
       "  104.0,\n",
       "  69.0,\n",
       "  41.0,\n",
       "  28.5,\n",
       "  14.0,\n",
       "  3200.0,\n",
       "  'non-USA',\n",
       "  'Nissan Maxima'],\n",
       " ['Oldsmobile',\n",
       "  'Achieva',\n",
       "  'Compact',\n",
       "  13.0,\n",
       "  13.5,\n",
       "  14.0,\n",
       "  24.0,\n",
       "  31.0,\n",
       "  'None',\n",
       "  'Front',\n",
       "  '4',\n",
       "  2.3,\n",
       "  155.0,\n",
       "  6000.0,\n",
       "  2380.0,\n",
       "  'No',\n",
       "  15.2,\n",
       "  5.0,\n",
       "  188.0,\n",
       "  103.0,\n",
       "  67.0,\n",
       "  39.0,\n",
       "  28.0,\n",
       "  14.0,\n",
       "  2910.0,\n",
       "  'USA',\n",
       "  'Oldsmobile Achieva'],\n",
       " ['Oldsmobile',\n",
       "  'Cutlass_Ciera',\n",
       "  'Midsize',\n",
       "  14.2,\n",
       "  16.3,\n",
       "  18.4,\n",
       "  23.0,\n",
       "  31.0,\n",
       "  'Driver only',\n",
       "  'Front',\n",
       "  '4',\n",
       "  2.2,\n",
       "  110.0,\n",
       "  5200.0,\n",
       "  2565.0,\n",
       "  'No',\n",
       "  nan,\n",
       "  5.0,\n",
       "  190.0,\n",
       "  105.0,\n",
       "  70.0,\n",
       "  42.0,\n",
       "  28.0,\n",
       "  16.0,\n",
       "  2890.0,\n",
       "  'USA',\n",
       "  'Oldsmobile Cutlass_Ciera'],\n",
       " ['Oldsmobile',\n",
       "  'Silhouette',\n",
       "  'Van',\n",
       "  19.5,\n",
       "  19.5,\n",
       "  19.5,\n",
       "  18.0,\n",
       "  23.0,\n",
       "  'None',\n",
       "  'Front',\n",
       "  '6',\n",
       "  3.8,\n",
       "  170.0,\n",
       "  4800.0,\n",
       "  1690.0,\n",
       "  'No',\n",
       "  20.0,\n",
       "  7.0,\n",
       "  nan,\n",
       "  110.0,\n",
       "  74.0,\n",
       "  44.0,\n",
       "  30.5,\n",
       "  nan,\n",
       "  3715.0,\n",
       "  'USA',\n",
       "  'Oldsmobile Silhouette'],\n",
       " ['Oldsmobile',\n",
       "  'Eighty-Eight',\n",
       "  'Large',\n",
       "  19.5,\n",
       "  20.7,\n",
       "  21.9,\n",
       "  nan,\n",
       "  28.0,\n",
       "  'Driver only',\n",
       "  'Front',\n",
       "  '6',\n",
       "  3.8,\n",
       "  170.0,\n",
       "  4800.0,\n",
       "  1570.0,\n",
       "  'No',\n",
       "  18.0,\n",
       "  6.0,\n",
       "  201.0,\n",
       "  111.0,\n",
       "  74.0,\n",
       "  42.0,\n",
       "  31.5,\n",
       "  17.0,\n",
       "  3470.0,\n",
       "  'USA',\n",
       "  'Oldsmobile Eighty-Eight'],\n",
       " ['Plymouth',\n",
       "  'Laser',\n",
       "  'Sporty',\n",
       "  11.4,\n",
       "  14.4,\n",
       "  17.4,\n",
       "  nan,\n",
       "  30.0,\n",
       "  'None',\n",
       "  '4WD',\n",
       "  '4',\n",
       "  1.8,\n",
       "  92.0,\n",
       "  5000.0,\n",
       "  2360.0,\n",
       "  'Yes',\n",
       "  15.9,\n",
       "  4.0,\n",
       "  173.0,\n",
       "  97.0,\n",
       "  67.0,\n",
       "  39.0,\n",
       "  24.5,\n",
       "  8.0,\n",
       "  2640.0,\n",
       "  nan,\n",
       "  'Plymouth Laser'],\n",
       " ['Pontiac',\n",
       "  'LeMans',\n",
       "  'Small',\n",
       "  nan,\n",
       "  9.0,\n",
       "  9.9,\n",
       "  31.0,\n",
       "  41.0,\n",
       "  'None',\n",
       "  'Front',\n",
       "  '4',\n",
       "  1.6,\n",
       "  74.0,\n",
       "  5600.0,\n",
       "  3130.0,\n",
       "  'Yes',\n",
       "  13.2,\n",
       "  4.0,\n",
       "  177.0,\n",
       "  99.0,\n",
       "  66.0,\n",
       "  35.0,\n",
       "  25.5,\n",
       "  17.0,\n",
       "  2350.0,\n",
       "  'USA',\n",
       "  'Pontiac LeMans'],\n",
       " ['Pontiac',\n",
       "  'Sunbird',\n",
       "  'Compact',\n",
       "  9.4,\n",
       "  11.1,\n",
       "  12.8,\n",
       "  nan,\n",
       "  31.0,\n",
       "  'None',\n",
       "  nan,\n",
       "  '4',\n",
       "  2.0,\n",
       "  110.0,\n",
       "  5200.0,\n",
       "  2665.0,\n",
       "  'Yes',\n",
       "  15.2,\n",
       "  5.0,\n",
       "  181.0,\n",
       "  101.0,\n",
       "  66.0,\n",
       "  39.0,\n",
       "  25.0,\n",
       "  13.0,\n",
       "  nan,\n",
       "  'USA',\n",
       "  nan],\n",
       " ['Pontiac',\n",
       "  'Firebird',\n",
       "  nan,\n",
       "  14.0,\n",
       "  17.7,\n",
       "  21.4,\n",
       "  19.0,\n",
       "  28.0,\n",
       "  'Driver & Passenger',\n",
       "  'Rear',\n",
       "  '6',\n",
       "  nan,\n",
       "  160.0,\n",
       "  4600.0,\n",
       "  1805.0,\n",
       "  'Yes',\n",
       "  15.5,\n",
       "  4.0,\n",
       "  196.0,\n",
       "  101.0,\n",
       "  75.0,\n",
       "  43.0,\n",
       "  25.0,\n",
       "  13.0,\n",
       "  3240.0,\n",
       "  'USA',\n",
       "  'Pontiac Firebird'],\n",
       " ['Pontiac',\n",
       "  'Grand_Prix',\n",
       "  'Midsize',\n",
       "  15.4,\n",
       "  18.5,\n",
       "  21.6,\n",
       "  19.0,\n",
       "  27.0,\n",
       "  'None',\n",
       "  'Front',\n",
       "  '6',\n",
       "  3.4,\n",
       "  200.0,\n",
       "  5000.0,\n",
       "  1890.0,\n",
       "  'Yes',\n",
       "  16.5,\n",
       "  5.0,\n",
       "  195.0,\n",
       "  108.0,\n",
       "  72.0,\n",
       "  41.0,\n",
       "  28.5,\n",
       "  16.0,\n",
       "  3450.0,\n",
       "  'USA',\n",
       "  'Pontiac Grand_Prix'],\n",
       " ['Pontiac',\n",
       "  'Bonneville',\n",
       "  'Large',\n",
       "  19.4,\n",
       "  24.4,\n",
       "  29.4,\n",
       "  19.0,\n",
       "  28.0,\n",
       "  'Driver & Passenger',\n",
       "  'Front',\n",
       "  '6',\n",
       "  3.8,\n",
       "  170.0,\n",
       "  4800.0,\n",
       "  1565.0,\n",
       "  'No',\n",
       "  18.0,\n",
       "  6.0,\n",
       "  177.0,\n",
       "  111.0,\n",
       "  74.0,\n",
       "  43.0,\n",
       "  30.5,\n",
       "  18.0,\n",
       "  3495.0,\n",
       "  'USA',\n",
       "  'Pontiac Bonneville'],\n",
       " ['Saab',\n",
       "  '900',\n",
       "  'Compact',\n",
       "  20.3,\n",
       "  28.7,\n",
       "  37.1,\n",
       "  20.0,\n",
       "  26.0,\n",
       "  nan,\n",
       "  'Front',\n",
       "  '4',\n",
       "  2.1,\n",
       "  140.0,\n",
       "  6000.0,\n",
       "  2910.0,\n",
       "  'Yes',\n",
       "  18.0,\n",
       "  5.0,\n",
       "  nan,\n",
       "  99.0,\n",
       "  67.0,\n",
       "  37.0,\n",
       "  26.5,\n",
       "  14.0,\n",
       "  2775.0,\n",
       "  'non-USA',\n",
       "  'Saab 900'],\n",
       " ['Saturn',\n",
       "  'SL',\n",
       "  'Small',\n",
       "  9.2,\n",
       "  nan,\n",
       "  12.9,\n",
       "  nan,\n",
       "  38.0,\n",
       "  'Driver only',\n",
       "  'Front',\n",
       "  '4',\n",
       "  1.9,\n",
       "  85.0,\n",
       "  5000.0,\n",
       "  2145.0,\n",
       "  'Yes',\n",
       "  12.8,\n",
       "  5.0,\n",
       "  176.0,\n",
       "  102.0,\n",
       "  68.0,\n",
       "  40.0,\n",
       "  26.5,\n",
       "  nan,\n",
       "  2495.0,\n",
       "  'USA',\n",
       "  'Saturn SL'],\n",
       " ['Subaru',\n",
       "  'Justy',\n",
       "  'Small',\n",
       "  7.3,\n",
       "  8.4,\n",
       "  9.5,\n",
       "  33.0,\n",
       "  37.0,\n",
       "  'None',\n",
       "  '4WD',\n",
       "  '3',\n",
       "  1.2,\n",
       "  73.0,\n",
       "  5600.0,\n",
       "  2875.0,\n",
       "  'Yes',\n",
       "  9.2,\n",
       "  4.0,\n",
       "  146.0,\n",
       "  90.0,\n",
       "  60.0,\n",
       "  32.0,\n",
       "  23.5,\n",
       "  10.0,\n",
       "  2045.0,\n",
       "  'non-USA',\n",
       "  'Subaru Justy'],\n",
       " ['Subaru',\n",
       "  'Loyale',\n",
       "  'Small',\n",
       "  10.5,\n",
       "  10.9,\n",
       "  11.3,\n",
       "  25.0,\n",
       "  30.0,\n",
       "  'None',\n",
       "  '4WD',\n",
       "  '4',\n",
       "  1.8,\n",
       "  90.0,\n",
       "  5200.0,\n",
       "  3375.0,\n",
       "  'Yes',\n",
       "  15.9,\n",
       "  5.0,\n",
       "  175.0,\n",
       "  97.0,\n",
       "  65.0,\n",
       "  35.0,\n",
       "  27.5,\n",
       "  15.0,\n",
       "  2490.0,\n",
       "  'non-USA',\n",
       "  'Subaru Loyale'],\n",
       " ['Subaru',\n",
       "  'Legacy',\n",
       "  'Compact',\n",
       "  16.3,\n",
       "  19.5,\n",
       "  22.7,\n",
       "  23.0,\n",
       "  30.0,\n",
       "  'Driver only',\n",
       "  '4WD',\n",
       "  '4',\n",
       "  2.2,\n",
       "  130.0,\n",
       "  nan,\n",
       "  2330.0,\n",
       "  'Yes',\n",
       "  15.9,\n",
       "  5.0,\n",
       "  179.0,\n",
       "  102.0,\n",
       "  67.0,\n",
       "  37.0,\n",
       "  27.0,\n",
       "  14.0,\n",
       "  3085.0,\n",
       "  'non-USA',\n",
       "  'Subaru Legacy'],\n",
       " ['Suzuki',\n",
       "  'Swift',\n",
       "  nan,\n",
       "  7.3,\n",
       "  8.6,\n",
       "  nan,\n",
       "  39.0,\n",
       "  43.0,\n",
       "  'None',\n",
       "  'Front',\n",
       "  '3',\n",
       "  1.3,\n",
       "  70.0,\n",
       "  6000.0,\n",
       "  3360.0,\n",
       "  'Yes',\n",
       "  10.6,\n",
       "  4.0,\n",
       "  161.0,\n",
       "  93.0,\n",
       "  nan,\n",
       "  34.0,\n",
       "  27.5,\n",
       "  10.0,\n",
       "  1965.0,\n",
       "  'non-USA',\n",
       "  'Suzuki Swift'],\n",
       " ['Toyota',\n",
       "  'Tercel',\n",
       "  'Small',\n",
       "  nan,\n",
       "  9.8,\n",
       "  11.8,\n",
       "  32.0,\n",
       "  37.0,\n",
       "  'Driver only',\n",
       "  'Front',\n",
       "  '4',\n",
       "  1.5,\n",
       "  82.0,\n",
       "  5200.0,\n",
       "  3505.0,\n",
       "  'Yes',\n",
       "  11.9,\n",
       "  nan,\n",
       "  162.0,\n",
       "  94.0,\n",
       "  nan,\n",
       "  36.0,\n",
       "  24.0,\n",
       "  11.0,\n",
       "  2055.0,\n",
       "  'non-USA',\n",
       "  'Toyota Tercel'],\n",
       " ['Toyota',\n",
       "  'Celica',\n",
       "  'Sporty',\n",
       "  14.2,\n",
       "  18.4,\n",
       "  22.6,\n",
       "  25.0,\n",
       "  32.0,\n",
       "  nan,\n",
       "  'Front',\n",
       "  '4',\n",
       "  2.2,\n",
       "  135.0,\n",
       "  nan,\n",
       "  2405.0,\n",
       "  'Yes',\n",
       "  15.9,\n",
       "  4.0,\n",
       "  174.0,\n",
       "  99.0,\n",
       "  69.0,\n",
       "  nan,\n",
       "  23.0,\n",
       "  13.0,\n",
       "  2950.0,\n",
       "  'non-USA',\n",
       "  'Toyota Celica'],\n",
       " ['Toyota',\n",
       "  'Camry',\n",
       "  'Midsize',\n",
       "  15.2,\n",
       "  nan,\n",
       "  21.2,\n",
       "  22.0,\n",
       "  29.0,\n",
       "  'Driver only',\n",
       "  nan,\n",
       "  '4',\n",
       "  2.2,\n",
       "  130.0,\n",
       "  5400.0,\n",
       "  2340.0,\n",
       "  nan,\n",
       "  18.5,\n",
       "  5.0,\n",
       "  188.0,\n",
       "  103.0,\n",
       "  70.0,\n",
       "  38.0,\n",
       "  28.5,\n",
       "  15.0,\n",
       "  3030.0,\n",
       "  'non-USA',\n",
       "  'Toyota Camry'],\n",
       " ['Toyota',\n",
       "  'Previa',\n",
       "  'Van',\n",
       "  nan,\n",
       "  22.7,\n",
       "  26.6,\n",
       "  18.0,\n",
       "  22.0,\n",
       "  'Driver only',\n",
       "  '4WD',\n",
       "  '4',\n",
       "  2.4,\n",
       "  138.0,\n",
       "  5000.0,\n",
       "  2515.0,\n",
       "  'Yes',\n",
       "  19.8,\n",
       "  7.0,\n",
       "  187.0,\n",
       "  113.0,\n",
       "  71.0,\n",
       "  41.0,\n",
       "  35.0,\n",
       "  nan,\n",
       "  3785.0,\n",
       "  'non-USA',\n",
       "  'Toyota Previa'],\n",
       " ['Volkswagen',\n",
       "  'Fox',\n",
       "  'Small',\n",
       "  8.7,\n",
       "  9.1,\n",
       "  9.5,\n",
       "  25.0,\n",
       "  33.0,\n",
       "  'None',\n",
       "  'Front',\n",
       "  '4',\n",
       "  1.8,\n",
       "  81.0,\n",
       "  5500.0,\n",
       "  2550.0,\n",
       "  'Yes',\n",
       "  12.4,\n",
       "  4.0,\n",
       "  163.0,\n",
       "  93.0,\n",
       "  63.0,\n",
       "  34.0,\n",
       "  26.0,\n",
       "  10.0,\n",
       "  2240.0,\n",
       "  'non-USA',\n",
       "  'Volkswagen Fox'],\n",
       " ['Volkswagen',\n",
       "  'Eurovan',\n",
       "  'Van',\n",
       "  16.6,\n",
       "  19.7,\n",
       "  22.7,\n",
       "  17.0,\n",
       "  21.0,\n",
       "  'None',\n",
       "  'Front',\n",
       "  '5',\n",
       "  2.5,\n",
       "  109.0,\n",
       "  4500.0,\n",
       "  2915.0,\n",
       "  'Yes',\n",
       "  21.1,\n",
       "  7.0,\n",
       "  187.0,\n",
       "  115.0,\n",
       "  72.0,\n",
       "  38.0,\n",
       "  34.0,\n",
       "  nan,\n",
       "  3960.0,\n",
       "  nan,\n",
       "  'Volkswagen Eurovan'],\n",
       " ['Volkswagen',\n",
       "  'Passat',\n",
       "  'Compact',\n",
       "  17.6,\n",
       "  20.0,\n",
       "  22.4,\n",
       "  21.0,\n",
       "  30.0,\n",
       "  'None',\n",
       "  'Front',\n",
       "  '4',\n",
       "  2.0,\n",
       "  134.0,\n",
       "  5800.0,\n",
       "  2685.0,\n",
       "  'Yes',\n",
       "  18.5,\n",
       "  5.0,\n",
       "  180.0,\n",
       "  103.0,\n",
       "  67.0,\n",
       "  35.0,\n",
       "  31.5,\n",
       "  14.0,\n",
       "  2985.0,\n",
       "  'non-USA',\n",
       "  'Volkswagen Passat'],\n",
       " ['Volkswagen',\n",
       "  'Corrado',\n",
       "  'Sporty',\n",
       "  22.9,\n",
       "  23.3,\n",
       "  23.7,\n",
       "  18.0,\n",
       "  25.0,\n",
       "  'None',\n",
       "  'Front',\n",
       "  '6',\n",
       "  2.8,\n",
       "  178.0,\n",
       "  5800.0,\n",
       "  2385.0,\n",
       "  'Yes',\n",
       "  18.5,\n",
       "  4.0,\n",
       "  159.0,\n",
       "  97.0,\n",
       "  66.0,\n",
       "  36.0,\n",
       "  26.0,\n",
       "  15.0,\n",
       "  2810.0,\n",
       "  'non-USA',\n",
       "  'Volkswagen Corrado'],\n",
       " ['Volvo',\n",
       "  '240',\n",
       "  'Compact',\n",
       "  21.8,\n",
       "  22.7,\n",
       "  23.5,\n",
       "  21.0,\n",
       "  28.0,\n",
       "  'Driver only',\n",
       "  'Rear',\n",
       "  nan,\n",
       "  2.3,\n",
       "  114.0,\n",
       "  5400.0,\n",
       "  2215.0,\n",
       "  'Yes',\n",
       "  15.8,\n",
       "  5.0,\n",
       "  190.0,\n",
       "  104.0,\n",
       "  67.0,\n",
       "  37.0,\n",
       "  29.5,\n",
       "  14.0,\n",
       "  2985.0,\n",
       "  'non-USA',\n",
       "  'Volvo 240'],\n",
       " [nan,\n",
       "  '850',\n",
       "  'Midsize',\n",
       "  24.8,\n",
       "  26.7,\n",
       "  28.5,\n",
       "  20.0,\n",
       "  28.0,\n",
       "  'Driver & Passenger',\n",
       "  'Front',\n",
       "  '5',\n",
       "  2.4,\n",
       "  168.0,\n",
       "  6200.0,\n",
       "  nan,\n",
       "  'Yes',\n",
       "  19.3,\n",
       "  5.0,\n",
       "  184.0,\n",
       "  105.0,\n",
       "  69.0,\n",
       "  38.0,\n",
       "  30.0,\n",
       "  15.0,\n",
       "  3245.0,\n",
       "  'non-USA',\n",
       "  'Volvo 850']]"
      ]
     },
     "execution_count": 146,
     "metadata": {},
     "output_type": "execute_result"
    }
   ],
   "source": [
    "#  number of rows and columns\n",
    "print(df.shape)\n",
    "\n",
    "# datatypes\n",
    "print(df.dtypes)\n",
    "\n",
    "# how many columns under each dtype\n",
    "print(df.get_dtype_counts())\n",
    "\n",
    "\n",
    "# summary sttistics\n",
    "df_stats=df.describe()\n",
    "\n",
    "# numpy array \n",
    "df_arr = df.values\n",
    "\n",
    "# list\n",
    "df.values.tolist()"
   ]
  },
  {
   "cell_type": "markdown",
   "metadata": {
    "ExecuteTime": {
     "end_time": "2020-05-17T06:17:54.056309Z",
     "start_time": "2020-05-17T06:17:54.054013Z"
    }
   },
   "source": [
    "###  How to get the nrows, ncolumns, datatype, summary stats of each column of a dataframe? Also get the array and list equivalent."
   ]
  },
  {
   "cell_type": "code",
   "execution_count": 234,
   "metadata": {
    "ExecuteTime": {
     "end_time": "2020-05-17T06:19:57.799186Z",
     "start_time": "2020-05-17T06:19:57.600088Z"
    }
   },
   "outputs": [
    {
     "name": "stdout",
     "output_type": "stream",
     "text": [
      "(93, 27)\n",
      "Manufacturer       object\n",
      "Model              object\n",
      "Type               object\n",
      "Min.Price         float64\n",
      "Price             float64\n",
      "                   ...   \n",
      "Rear.seat.room    float64\n",
      "Luggage.room      float64\n",
      "Weight            float64\n",
      "Origin             object\n",
      "Make               object\n",
      "Length: 27, dtype: object\n",
      "       Min.Price      Price  Max.Price   MPG.city  MPG.highway  ...  \\\n",
      "count  86.000000  91.000000  88.000000  84.000000    91.000000  ...   \n",
      "mean   17.118605  19.616484  21.459091  22.404762    29.065934  ...   \n",
      "std     8.828290   9.724280  10.696563   5.841520     5.370293  ...   \n",
      "min     6.700000   7.400000   7.900000  15.000000    20.000000  ...   \n",
      "25%    10.825000  12.350000  14.575000  18.000000    26.000000  ...   \n",
      "50%    14.600000  17.700000  19.150000  21.000000    28.000000  ...   \n",
      "75%    20.250000  23.500000  24.825000  25.000000    31.000000  ...   \n",
      "max    45.400000  61.900000  80.000000  46.000000    50.000000  ...   \n",
      "\n",
      "           Width  Turn.circle  Rear.seat.room  Luggage.room       Weight  \n",
      "count  87.000000    88.000000       89.000000     74.000000    86.000000  \n",
      "mean   69.448276    38.954545       27.853933     13.986486  3104.593023  \n",
      "std     3.778023     3.304157        3.018129      3.120824   600.129993  \n",
      "min    60.000000    32.000000       19.000000      6.000000  1695.000000  \n",
      "25%    67.000000    36.000000       26.000000     12.000000  2647.500000  \n",
      "50%    69.000000    39.000000       27.500000     14.000000  3085.000000  \n",
      "75%    72.000000    42.000000       30.000000     16.000000  3567.500000  \n",
      "max    78.000000    45.000000       36.000000     22.000000  4105.000000  \n",
      "\n",
      "[8 rows x 18 columns]\n"
     ]
    }
   ],
   "source": [
    "df = pd.read_csv('https://raw.githubusercontent.com/selva86/datasets/master/Cars93_miss.csv')\n",
    "\n",
    "print(df.shape)\n",
    "print(df.dtypes)\n",
    "\n",
    "print(df.describe())\n",
    "\n",
    "# numpy array\n",
    "df.values\n",
    "\n",
    "# to list\n",
    "df_list =df.values.tolist()"
   ]
  },
  {
   "cell_type": "markdown",
   "metadata": {},
   "source": [
    "### How to extract the row and column number of a particular cell with given criterion?\n",
    "Which manufacturer, model and type has the highest Price? What is the row and column number of the cell with the highest Price value?"
   ]
  },
  {
   "cell_type": "code",
   "execution_count": 151,
   "metadata": {
    "ExecuteTime": {
     "end_time": "2020-05-16T06:44:13.459911Z",
     "start_time": "2020-05-16T06:44:13.340053Z"
    }
   },
   "outputs": [
    {
     "data": {
      "text/plain": [
       "Manufacturer     object\n",
       "Model            object\n",
       "Type             object\n",
       "Min.Price       float64\n",
       "Price           float64\n",
       "dtype: object"
      ]
     },
     "execution_count": 151,
     "metadata": {},
     "output_type": "execute_result"
    }
   ],
   "source": [
    "df = pd.read_csv('https://raw.githubusercontent.com/selva86/datasets/master/Cars93_miss.csv')\n",
    "df.dtypes[:5]"
   ]
  },
  {
   "cell_type": "code",
   "execution_count": 239,
   "metadata": {
    "ExecuteTime": {
     "end_time": "2020-05-17T06:23:06.364023Z",
     "start_time": "2020-05-17T06:23:06.354784Z"
    }
   },
   "outputs": [
    {
     "name": "stdout",
     "output_type": "stream",
     "text": [
      "61.9\n",
      "61.9\n",
      "[58] [4]\n"
     ]
    },
    {
     "name": "stderr",
     "output_type": "stream",
     "text": [
      "/opt/anaconda3/lib/python3.7/site-packages/ipykernel_launcher.py:14: FutureWarning: get_value is deprecated and will be removed in a future release. Please use .at[] or .iat[] accessors instead\n",
      "  \n"
     ]
    }
   ],
   "source": [
    "# Solution\n",
    "# Get Manufacturer with highest price\n",
    "df.loc[df.Price == np.max(df.Price), ['Manufacturer', 'Model', 'Type']]\n",
    "\n",
    "# Get Row and Column number\n",
    "row, col = np.where(df.values == np.max(df.Price))\n",
    "\n",
    "# Get the value\n",
    "print(df.iat[row[0], col[0]])\n",
    "print(df.iloc[row[0], col[0]])\n",
    "\n",
    "# Alternates\n",
    "df.at[row[0], 'Price']\n",
    "df.get_value(row[0], 'Price')\n",
    "\n",
    "print(row,col)"
   ]
  },
  {
   "cell_type": "markdown",
   "metadata": {},
   "source": [
    "### How to rename a specific columns in a dataframe?\n",
    "Rename the column Type as CarType in df and replace the ‘.’ in column names with ‘_’."
   ]
  },
  {
   "cell_type": "code",
   "execution_count": 240,
   "metadata": {
    "ExecuteTime": {
     "end_time": "2020-05-17T06:23:15.225629Z",
     "start_time": "2020-05-17T06:23:15.047610Z"
    }
   },
   "outputs": [
    {
     "name": "stdout",
     "output_type": "stream",
     "text": [
      "Index(['Manufacturer', 'Model', 'Type', 'Min.Price', 'Price', 'Max.Price',\n",
      "       'MPG.city', 'MPG.highway', 'AirBags', 'DriveTrain', 'Cylinders',\n",
      "       'EngineSize', 'Horsepower', 'RPM', 'Rev.per.mile', 'Man.trans.avail',\n",
      "       'Fuel.tank.capacity', 'Passengers', 'Length', 'Wheelbase', 'Width',\n",
      "       'Turn.circle', 'Rear.seat.room', 'Luggage.room', 'Weight', 'Origin',\n",
      "       'Make'],\n",
      "      dtype='object')\n"
     ]
    }
   ],
   "source": [
    "df = pd.read_csv('https://raw.githubusercontent.com/selva86/datasets/master/Cars93_miss.csv')\n",
    "print(df.columns)"
   ]
  },
  {
   "cell_type": "code",
   "execution_count": 243,
   "metadata": {
    "ExecuteTime": {
     "end_time": "2020-05-17T06:23:32.860398Z",
     "start_time": "2020-05-17T06:23:32.855228Z"
    }
   },
   "outputs": [
    {
     "name": "stdout",
     "output_type": "stream",
     "text": [
      "Index(['Manufacturer', 'Model', 'Type', 'Min_Price', 'Price', 'Max_Price',\n",
      "       'MPG_city', 'MPG_highway', 'AirBags', 'DriveTrain', 'Cylinders',\n",
      "       'EngineSize', 'Horsepower', 'RPM', 'Rev_per_mile', 'Man_trans_avail',\n",
      "       'Fuel_tank_capacity', 'Passengers', 'Length', 'Wheelbase', 'Width',\n",
      "       'Turn_circle', 'Rear_seat_room', 'Luggage_room', 'Weight', 'Origin',\n",
      "       'Make'],\n",
      "      dtype='object')\n"
     ]
    }
   ],
   "source": [
    "df.columns = df.columns.map(lambda x: x.replace('.', '_'))\n",
    "print(df.columns)"
   ]
  },
  {
   "cell_type": "markdown",
   "metadata": {},
   "source": [
    "### How to check if a dataframe has any missing values?"
   ]
  },
  {
   "cell_type": "code",
   "execution_count": 244,
   "metadata": {
    "ExecuteTime": {
     "end_time": "2020-05-17T06:23:35.584304Z",
     "start_time": "2020-05-17T06:23:35.438813Z"
    }
   },
   "outputs": [],
   "source": [
    "df = pd.read_csv('https://raw.githubusercontent.com/selva86/datasets/master/Cars93_miss.csv')"
   ]
  },
  {
   "cell_type": "code",
   "execution_count": 245,
   "metadata": {
    "ExecuteTime": {
     "end_time": "2020-05-17T06:23:36.466723Z",
     "start_time": "2020-05-17T06:23:36.461113Z"
    }
   },
   "outputs": [
    {
     "data": {
      "text/plain": [
       "True"
      ]
     },
     "execution_count": 245,
     "metadata": {},
     "output_type": "execute_result"
    }
   ],
   "source": [
    "sum(df.isna().sum())>0"
   ]
  },
  {
   "cell_type": "code",
   "execution_count": 246,
   "metadata": {
    "ExecuteTime": {
     "end_time": "2020-05-17T06:23:37.471972Z",
     "start_time": "2020-05-17T06:23:37.465920Z"
    }
   },
   "outputs": [
    {
     "data": {
      "text/plain": [
       "True"
      ]
     },
     "execution_count": 246,
     "metadata": {},
     "output_type": "execute_result"
    }
   ],
   "source": [
    "df.isnull().values.any()"
   ]
  },
  {
   "cell_type": "markdown",
   "metadata": {},
   "source": [
    "### How to count the number of missing values in each column?"
   ]
  },
  {
   "cell_type": "code",
   "execution_count": 247,
   "metadata": {
    "ExecuteTime": {
     "end_time": "2020-05-17T06:23:40.313598Z",
     "start_time": "2020-05-17T06:23:40.303328Z"
    }
   },
   "outputs": [],
   "source": [
    "n_missings_each_col = df.apply(lambda x: x.isnull().sum())"
   ]
  },
  {
   "cell_type": "code",
   "execution_count": 248,
   "metadata": {
    "ExecuteTime": {
     "end_time": "2020-05-17T06:23:41.338661Z",
     "start_time": "2020-05-17T06:23:41.332829Z"
    }
   },
   "outputs": [
    {
     "data": {
      "text/plain": [
       "Manufacturer       4\n",
       "Model              1\n",
       "Type               3\n",
       "Min.Price          7\n",
       "Price              2\n",
       "                  ..\n",
       "Rear.seat.room     4\n",
       "Luggage.room      19\n",
       "Weight             7\n",
       "Origin             5\n",
       "Make               3\n",
       "Length: 27, dtype: int64"
      ]
     },
     "execution_count": 248,
     "metadata": {},
     "output_type": "execute_result"
    }
   ],
   "source": [
    "n_missings_each_col"
   ]
  },
  {
   "cell_type": "markdown",
   "metadata": {
    "ExecuteTime": {
     "end_time": "2020-05-16T07:32:15.528822Z",
     "start_time": "2020-05-16T07:32:15.526220Z"
    }
   },
   "source": [
    "### How to replace missing values of multiple numeric columns with the mean?"
   ]
  },
  {
   "cell_type": "code",
   "execution_count": 257,
   "metadata": {
    "ExecuteTime": {
     "end_time": "2020-05-17T06:24:41.884288Z",
     "start_time": "2020-05-17T06:24:41.250827Z"
    }
   },
   "outputs": [],
   "source": [
    "# Input\n",
    "df = pd.read_csv('https://raw.githubusercontent.com/selva86/datasets/master/Cars93_miss.csv')"
   ]
  },
  {
   "cell_type": "code",
   "execution_count": 260,
   "metadata": {
    "ExecuteTime": {
     "end_time": "2020-05-17T06:25:48.055898Z",
     "start_time": "2020-05-17T06:25:48.045487Z"
    }
   },
   "outputs": [
    {
     "name": "stdout",
     "output_type": "stream",
     "text": [
      "   Min.Price  Max.Price\n",
      "0  12.900000  18.800000\n",
      "1  29.200000  38.700000\n",
      "2  25.900000  32.300000\n",
      "3  17.118605  44.600000\n",
      "4  17.118605  21.459091\n"
     ]
    }
   ],
   "source": [
    "\n",
    "df_out = df[['Min.Price', 'Max.Price']] = df[['Min.Price', 'Max.Price']].apply(lambda x: x.fillna(x.mean()))\n",
    "print(df_out.head())"
   ]
  },
  {
   "cell_type": "markdown",
   "metadata": {},
   "source": [
    "### How to use apply function on existing columns with global variables as additional arguments?"
   ]
  },
  {
   "cell_type": "code",
   "execution_count": null,
   "metadata": {},
   "outputs": [],
   "source": []
  },
  {
   "cell_type": "markdown",
   "metadata": {
    "ExecuteTime": {
     "end_time": "2020-05-17T06:49:10.770081Z",
     "start_time": "2020-05-17T06:49:10.767594Z"
    }
   },
   "source": [
    "### How to select a specific column from a dataframe as a dataframe instead of a series"
   ]
  },
  {
   "cell_type": "code",
   "execution_count": 329,
   "metadata": {
    "ExecuteTime": {
     "end_time": "2020-05-17T06:49:20.906367Z",
     "start_time": "2020-05-17T06:49:20.902392Z"
    }
   },
   "outputs": [],
   "source": [
    "df = pd.DataFrame(np.arange(20).reshape(-1, 5), columns=list('abcde'))"
   ]
  },
  {
   "cell_type": "code",
   "execution_count": 330,
   "metadata": {
    "ExecuteTime": {
     "end_time": "2020-05-17T06:49:29.527284Z",
     "start_time": "2020-05-17T06:49:29.517041Z"
    }
   },
   "outputs": [
    {
     "data": {
      "text/plain": [
       "pandas.core.series.Series"
      ]
     },
     "execution_count": 330,
     "metadata": {},
     "output_type": "execute_result"
    }
   ],
   "source": [
    "# Input\n",
    "df = pd.DataFrame(np.arange(20).reshape(-1, 5), columns=list('abcde'))\n",
    "\n",
    "# Solution\n",
    "type(df[['a']])\n",
    "type(df.loc[:, ['a']])\n",
    "type(df.iloc[:, [0]])\n",
    "\n",
    "# Alternately the following returns a Series\n",
    "type(df.a)\n",
    "type(df['a'])\n",
    "type(df.loc[:, 'a'])\n",
    "type(df.iloc[:, 1])"
   ]
  },
  {
   "cell_type": "markdown",
   "metadata": {},
   "source": [
    "### How to change the order of columns of a dataframe?"
   ]
  },
  {
   "cell_type": "code",
   "execution_count": 318,
   "metadata": {
    "ExecuteTime": {
     "end_time": "2020-05-17T06:37:19.179206Z",
     "start_time": "2020-05-17T06:37:19.170056Z"
    }
   },
   "outputs": [
    {
     "data": {
      "text/html": [
       "<div>\n",
       "<style scoped>\n",
       "    .dataframe tbody tr th:only-of-type {\n",
       "        vertical-align: middle;\n",
       "    }\n",
       "\n",
       "    .dataframe tbody tr th {\n",
       "        vertical-align: top;\n",
       "    }\n",
       "\n",
       "    .dataframe thead th {\n",
       "        text-align: right;\n",
       "    }\n",
       "</style>\n",
       "<table border=\"1\" class=\"dataframe\">\n",
       "  <thead>\n",
       "    <tr style=\"text-align: right;\">\n",
       "      <th></th>\n",
       "      <th>a</th>\n",
       "      <th>b</th>\n",
       "      <th>c</th>\n",
       "      <th>d</th>\n",
       "      <th>e</th>\n",
       "    </tr>\n",
       "  </thead>\n",
       "  <tbody>\n",
       "    <tr>\n",
       "      <td>0</td>\n",
       "      <td>0</td>\n",
       "      <td>1</td>\n",
       "      <td>2</td>\n",
       "      <td>3</td>\n",
       "      <td>4</td>\n",
       "    </tr>\n",
       "    <tr>\n",
       "      <td>1</td>\n",
       "      <td>5</td>\n",
       "      <td>6</td>\n",
       "      <td>7</td>\n",
       "      <td>8</td>\n",
       "      <td>9</td>\n",
       "    </tr>\n",
       "    <tr>\n",
       "      <td>2</td>\n",
       "      <td>10</td>\n",
       "      <td>11</td>\n",
       "      <td>12</td>\n",
       "      <td>13</td>\n",
       "      <td>14</td>\n",
       "    </tr>\n",
       "    <tr>\n",
       "      <td>3</td>\n",
       "      <td>15</td>\n",
       "      <td>16</td>\n",
       "      <td>17</td>\n",
       "      <td>18</td>\n",
       "      <td>19</td>\n",
       "    </tr>\n",
       "  </tbody>\n",
       "</table>\n",
       "</div>"
      ],
      "text/plain": [
       "    a   b   c   d   e\n",
       "0   0   1   2   3   4\n",
       "1   5   6   7   8   9\n",
       "2  10  11  12  13  14\n",
       "3  15  16  17  18  19"
      ]
     },
     "execution_count": 318,
     "metadata": {},
     "output_type": "execute_result"
    }
   ],
   "source": [
    "df = pd.DataFrame(np.arange(20).reshape(-1, 5), columns=list('abcde'))\n",
    "df"
   ]
  },
  {
   "cell_type": "code",
   "execution_count": 319,
   "metadata": {
    "ExecuteTime": {
     "end_time": "2020-05-17T06:37:20.329821Z",
     "start_time": "2020-05-17T06:37:20.315949Z"
    }
   },
   "outputs": [],
   "source": [
    "# Solution Q1\n",
    "df[list('cbade')]\n",
    "\n",
    "# Solution Q2 - No hard coding\n",
    "def switch_columns(df, col1=None, col2=None):\n",
    "    colnames = df.columns.tolist()\n",
    "    if(isinstance(col1,str) & isinstance(col2,str)):\n",
    "        i1, i2 = colnames.index(col1), colnames.index(col2)\n",
    "        colnames[i2], colnames[i1] = colnames[i1], colnames[i2]\n",
    "        return df[colnames]\n",
    "    \n",
    "    if(isinstance(col1,int) & isinstance(col2,int)):\n",
    "        a,b=df.iloc[:,col1].copy(), df.iloc[:,col2].copy()\n",
    "        df.iloc[:, col1], df.iloc[:,col2] = b, a\n",
    "        return df\n",
    "\n",
    "df1 = switch_columns(df, 'a', 'c')\n",
    "\n",
    "# Solution Q3\n",
    "df[sorted(df.columns)]\n",
    "# or\n",
    "df.sort_index(axis=1, ascending=False, inplace=True)"
   ]
  },
  {
   "cell_type": "markdown",
   "metadata": {},
   "source": [
    "### How to set the number of rows and columns displayed in the output?"
   ]
  },
  {
   "cell_type": "code",
   "execution_count": 321,
   "metadata": {
    "ExecuteTime": {
     "end_time": "2020-05-17T06:37:25.464642Z",
     "start_time": "2020-05-17T06:37:25.141349Z"
    }
   },
   "outputs": [],
   "source": [
    "df = pd.read_csv('https://raw.githubusercontent.com/selva86/datasets/master/Cars93_miss.csv')"
   ]
  },
  {
   "cell_type": "code",
   "execution_count": 322,
   "metadata": {
    "ExecuteTime": {
     "end_time": "2020-05-17T06:37:26.413553Z",
     "start_time": "2020-05-17T06:37:26.410513Z"
    }
   },
   "outputs": [],
   "source": [
    "# Solution\n",
    "pd.set_option('display.max_columns', 10)\n",
    "pd.set_option('display.max_rows', 10)"
   ]
  },
  {
   "cell_type": "code",
   "execution_count": null,
   "metadata": {},
   "outputs": [],
   "source": []
  },
  {
   "cell_type": "markdown",
   "metadata": {},
   "source": [
    "### How to format or suppress scientific notations in a pandas dataframe?\n",
    "Suppress scientific notations like ‘e-03’ in df and print upto 4 numbers after decimal."
   ]
  },
  {
   "cell_type": "code",
   "execution_count": 262,
   "metadata": {
    "ExecuteTime": {
     "end_time": "2020-05-17T06:26:13.967377Z",
     "start_time": "2020-05-17T06:26:13.959701Z"
    }
   },
   "outputs": [
    {
     "data": {
      "text/html": [
       "<div>\n",
       "<style scoped>\n",
       "    .dataframe tbody tr th:only-of-type {\n",
       "        vertical-align: middle;\n",
       "    }\n",
       "\n",
       "    .dataframe tbody tr th {\n",
       "        vertical-align: top;\n",
       "    }\n",
       "\n",
       "    .dataframe thead th {\n",
       "        text-align: right;\n",
       "    }\n",
       "</style>\n",
       "<table border=\"1\" class=\"dataframe\">\n",
       "  <thead>\n",
       "    <tr style=\"text-align: right;\">\n",
       "      <th></th>\n",
       "      <th>random</th>\n",
       "    </tr>\n",
       "  </thead>\n",
       "  <tbody>\n",
       "    <tr>\n",
       "      <td>0</td>\n",
       "      <td>2.823975e-02</td>\n",
       "    </tr>\n",
       "    <tr>\n",
       "      <td>1</td>\n",
       "      <td>9.724486e-04</td>\n",
       "    </tr>\n",
       "    <tr>\n",
       "      <td>2</td>\n",
       "      <td>3.396688e-18</td>\n",
       "    </tr>\n",
       "    <tr>\n",
       "      <td>3</td>\n",
       "      <td>5.419031e-03</td>\n",
       "    </tr>\n",
       "  </tbody>\n",
       "</table>\n",
       "</div>"
      ],
      "text/plain": [
       "         random\n",
       "0  2.823975e-02\n",
       "1  9.724486e-04\n",
       "2  3.396688e-18\n",
       "3  5.419031e-03"
      ]
     },
     "execution_count": 262,
     "metadata": {},
     "output_type": "execute_result"
    }
   ],
   "source": [
    "df = pd.DataFrame(np.random.random(4)**10, columns=['random'])\n",
    "df"
   ]
  },
  {
   "cell_type": "code",
   "execution_count": 263,
   "metadata": {
    "ExecuteTime": {
     "end_time": "2020-05-17T06:26:18.726256Z",
     "start_time": "2020-05-17T06:26:18.716252Z"
    }
   },
   "outputs": [
    {
     "name": "stdout",
     "output_type": "stream",
     "text": [
      "   random\n",
      "0  0.0282\n",
      "1  0.0010\n",
      "2  0.0000\n",
      "3  0.0054\n"
     ]
    }
   ],
   "source": [
    "# option 1\n",
    "df.round(4)\n",
    "\n",
    "# option 2\n",
    "df.apply(lambda x: '%.4f' % x, axis=1)\n",
    "\n",
    "# Solution 3: Use set_option\n",
    "pd.set_option('display.float_format', lambda x: '%.4f' % x)\n",
    "\n",
    "# Solution 4: Assign display.float_format\n",
    "pd.options.display.float_format = '{:.4f}'.format\n",
    "print(df)\n",
    "\n",
    "# Reset/undo float formatting\n",
    "pd.options.display.float_format = None"
   ]
  },
  {
   "cell_type": "markdown",
   "metadata": {},
   "source": [
    "### How to format all the values in a dataframe as percentages?\n",
    "Format the values in column 'random' of df as percentages."
   ]
  },
  {
   "cell_type": "code",
   "execution_count": 335,
   "metadata": {
    "ExecuteTime": {
     "end_time": "2020-05-17T07:06:53.200027Z",
     "start_time": "2020-05-17T07:06:53.192221Z"
    }
   },
   "outputs": [
    {
     "data": {
      "text/html": [
       "<div>\n",
       "<style scoped>\n",
       "    .dataframe tbody tr th:only-of-type {\n",
       "        vertical-align: middle;\n",
       "    }\n",
       "\n",
       "    .dataframe tbody tr th {\n",
       "        vertical-align: top;\n",
       "    }\n",
       "\n",
       "    .dataframe thead th {\n",
       "        text-align: right;\n",
       "    }\n",
       "</style>\n",
       "<table border=\"1\" class=\"dataframe\">\n",
       "  <thead>\n",
       "    <tr style=\"text-align: right;\">\n",
       "      <th></th>\n",
       "      <th>random</th>\n",
       "    </tr>\n",
       "  </thead>\n",
       "  <tbody>\n",
       "    <tr>\n",
       "      <td>0</td>\n",
       "      <td>0.373457</td>\n",
       "    </tr>\n",
       "    <tr>\n",
       "      <td>1</td>\n",
       "      <td>0.630884</td>\n",
       "    </tr>\n",
       "    <tr>\n",
       "      <td>2</td>\n",
       "      <td>0.863410</td>\n",
       "    </tr>\n",
       "    <tr>\n",
       "      <td>3</td>\n",
       "      <td>0.845823</td>\n",
       "    </tr>\n",
       "  </tbody>\n",
       "</table>\n",
       "</div>"
      ],
      "text/plain": [
       "     random\n",
       "0  0.373457\n",
       "1  0.630884\n",
       "2  0.863410\n",
       "3  0.845823"
      ]
     },
     "execution_count": 335,
     "metadata": {},
     "output_type": "execute_result"
    }
   ],
   "source": [
    "df = pd.DataFrame(np.random.random(4), columns=['random'])\n",
    "df"
   ]
  },
  {
   "cell_type": "code",
   "execution_count": 342,
   "metadata": {
    "ExecuteTime": {
     "end_time": "2020-05-17T07:07:32.808436Z",
     "start_time": "2020-05-17T07:07:32.802552Z"
    }
   },
   "outputs": [
    {
     "data": {
      "text/html": [
       "<style  type=\"text/css\" >\n",
       "</style><table id=\"T_1422d152_980d_11ea_944c_784f439168f8\" ><thead>    <tr>        <th class=\"blank level0\" ></th>        <th class=\"col_heading level0 col0\" >random</th>    </tr></thead><tbody>\n",
       "                <tr>\n",
       "                        <th id=\"T_1422d152_980d_11ea_944c_784f439168f8level0_row0\" class=\"row_heading level0 row0\" >0</th>\n",
       "                        <td id=\"T_1422d152_980d_11ea_944c_784f439168f8row0_col0\" class=\"data row0 col0\" >37.35%</td>\n",
       "            </tr>\n",
       "            <tr>\n",
       "                        <th id=\"T_1422d152_980d_11ea_944c_784f439168f8level0_row1\" class=\"row_heading level0 row1\" >1</th>\n",
       "                        <td id=\"T_1422d152_980d_11ea_944c_784f439168f8row1_col0\" class=\"data row1 col0\" >63.09%</td>\n",
       "            </tr>\n",
       "            <tr>\n",
       "                        <th id=\"T_1422d152_980d_11ea_944c_784f439168f8level0_row2\" class=\"row_heading level0 row2\" >2</th>\n",
       "                        <td id=\"T_1422d152_980d_11ea_944c_784f439168f8row2_col0\" class=\"data row2 col0\" >86.34%</td>\n",
       "            </tr>\n",
       "            <tr>\n",
       "                        <th id=\"T_1422d152_980d_11ea_944c_784f439168f8level0_row3\" class=\"row_heading level0 row3\" >3</th>\n",
       "                        <td id=\"T_1422d152_980d_11ea_944c_784f439168f8row3_col0\" class=\"data row3 col0\" >84.58%</td>\n",
       "            </tr>\n",
       "    </tbody></table>"
      ],
      "text/plain": [
       "<pandas.io.formats.style.Styler at 0x12b4b4ad0>"
      ]
     },
     "execution_count": 342,
     "metadata": {},
     "output_type": "execute_result"
    }
   ],
   "source": [
    "# Solution\n",
    "out = df.style.format({\n",
    "    'random': '{0:.2%}'.format,\n",
    "})\n",
    "out"
   ]
  },
  {
   "cell_type": "markdown",
   "metadata": {},
   "source": [
    "### How to filter every nth row in a dataframe?"
   ]
  },
  {
   "cell_type": "code",
   "execution_count": 346,
   "metadata": {
    "ExecuteTime": {
     "end_time": "2020-05-17T07:08:39.893965Z",
     "start_time": "2020-05-17T07:08:39.716012Z"
    }
   },
   "outputs": [],
   "source": [
    "df = pd.read_csv('https://raw.githubusercontent.com/selva86/datasets/master/Cars93_miss.csv')"
   ]
  },
  {
   "cell_type": "code",
   "execution_count": 349,
   "metadata": {
    "ExecuteTime": {
     "end_time": "2020-05-17T07:09:28.238782Z",
     "start_time": "2020-05-17T07:09:28.232224Z"
    }
   },
   "outputs": [
    {
     "name": "stdout",
     "output_type": "stream",
     "text": [
      "   Manufacturer    Model     Type\n",
      "0         Acura  Integra    Small\n",
      "20     Chrysler  LeBaron  Compact\n",
      "40        Honda  Prelude   Sporty\n",
      "60      Mercury   Cougar  Midsize\n",
      "80       Subaru   Loyale    Small\n"
     ]
    }
   ],
   "source": [
    "# Solution\n",
    "print(df.iloc[::20, :][['Manufacturer', 'Model', 'Type']])"
   ]
  },
  {
   "cell_type": "markdown",
   "metadata": {},
   "source": [
    "### How to create a primary key index by combining relevant columns?"
   ]
  },
  {
   "cell_type": "code",
   "execution_count": 350,
   "metadata": {
    "ExecuteTime": {
     "end_time": "2020-05-17T07:09:53.030000Z",
     "start_time": "2020-05-17T07:09:52.877178Z"
    }
   },
   "outputs": [],
   "source": [
    "df = pd.read_csv('https://raw.githubusercontent.com/selva86/datasets/master/Cars93_miss.csv', usecols=[0,1,2,3,5])"
   ]
  },
  {
   "cell_type": "code",
   "execution_count": null,
   "metadata": {},
   "outputs": [],
   "source": []
  },
  {
   "cell_type": "markdown",
   "metadata": {},
   "source": [
    "### How to get the row number of the nth largest value in a column?"
   ]
  },
  {
   "cell_type": "code",
   "execution_count": 359,
   "metadata": {
    "ExecuteTime": {
     "end_time": "2020-05-17T07:13:16.236257Z",
     "start_time": "2020-05-17T07:13:16.232040Z"
    }
   },
   "outputs": [],
   "source": [
    "df = pd.DataFrame(np.random.randint(1, 30, 30).reshape(10,-1), columns=list('abc'))\n",
    "n=5"
   ]
  },
  {
   "cell_type": "code",
   "execution_count": 370,
   "metadata": {
    "ExecuteTime": {
     "end_time": "2020-05-17T07:18:21.775669Z",
     "start_time": "2020-05-17T07:18:21.766627Z"
    }
   },
   "outputs": [
    {
     "data": {
      "text/plain": [
       "7"
      ]
     },
     "execution_count": 370,
     "metadata": {},
     "output_type": "execute_result"
    }
   ],
   "source": [
    "df['a'].nlargest(n).index[-1]"
   ]
  },
  {
   "cell_type": "code",
   "execution_count": 365,
   "metadata": {
    "ExecuteTime": {
     "end_time": "2020-05-17T07:14:36.050555Z",
     "start_time": "2020-05-17T07:14:36.045544Z"
    }
   },
   "outputs": [
    {
     "data": {
      "text/plain": [
       "7"
      ]
     },
     "execution_count": 365,
     "metadata": {},
     "output_type": "execute_result"
    }
   ],
   "source": [
    "df['a'].argsort()[::-1][n]"
   ]
  },
  {
   "cell_type": "markdown",
   "metadata": {},
   "source": [
    "### How to find the position of the nth largest value greater than a given value?"
   ]
  },
  {
   "cell_type": "code",
   "execution_count": 374,
   "metadata": {
    "ExecuteTime": {
     "end_time": "2020-05-17T07:23:37.233078Z",
     "start_time": "2020-05-17T07:23:37.229726Z"
    }
   },
   "outputs": [],
   "source": [
    "ser = pd.Series(np.random.randint(1, 100, 15))"
   ]
  },
  {
   "cell_type": "code",
   "execution_count": 380,
   "metadata": {
    "ExecuteTime": {
     "end_time": "2020-05-17T07:24:13.177718Z",
     "start_time": "2020-05-17T07:24:13.171273Z"
    }
   },
   "outputs": [
    {
     "name": "stdout",
     "output_type": "stream",
     "text": [
      "ser:  [78, 48, 55, 80, 23, 43, 27, 51, 82, 96, 7, 80, 31, 99, 90] mean:  59\n"
     ]
    },
    {
     "name": "stderr",
     "output_type": "stream",
     "text": [
      "/opt/anaconda3/lib/python3.7/site-packages/numpy/core/fromnumeric.py:61: FutureWarning: Series.nonzero() is deprecated and will be removed in a future version.Use Series.to_numpy().nonzero() instead\n",
      "  return bound(*args, **kwds)\n"
     ]
    },
    {
     "data": {
      "text/plain": [
       "array([3])"
      ]
     },
     "execution_count": 380,
     "metadata": {},
     "output_type": "execute_result"
    }
   ],
   "source": [
    "# Solution\n",
    "print('ser: ', ser.tolist(), 'mean: ', round(ser.mean()))\n",
    "np.argwhere(ser > ser.mean())[1]"
   ]
  },
  {
   "cell_type": "markdown",
   "metadata": {},
   "source": [
    "### How to get the last n rows of a dataframe with row sum > 100?"
   ]
  },
  {
   "cell_type": "code",
   "execution_count": 381,
   "metadata": {
    "ExecuteTime": {
     "end_time": "2020-05-17T07:24:35.313575Z",
     "start_time": "2020-05-17T07:24:35.309968Z"
    }
   },
   "outputs": [],
   "source": [
    "df = pd.DataFrame(np.random.randint(10, 40, 60).reshape(-1, 4))"
   ]
  },
  {
   "cell_type": "code",
   "execution_count": null,
   "metadata": {},
   "outputs": [],
   "source": []
  },
  {
   "cell_type": "markdown",
   "metadata": {},
   "source": [
    "### How to find and cap outliers from a series or dataframe column?"
   ]
  },
  {
   "cell_type": "code",
   "execution_count": 382,
   "metadata": {
    "ExecuteTime": {
     "end_time": "2020-05-17T07:25:12.098864Z",
     "start_time": "2020-05-17T07:25:12.095550Z"
    }
   },
   "outputs": [],
   "source": [
    "ser = pd.Series(np.logspace(-2, 2, 30))"
   ]
  },
  {
   "cell_type": "code",
   "execution_count": 385,
   "metadata": {
    "ExecuteTime": {
     "end_time": "2020-05-17T07:27:22.364385Z",
     "start_time": "2020-05-17T07:27:22.359607Z"
    }
   },
   "outputs": [],
   "source": [
    "# >Q3+IQR*3   | < Q1-IQR*3\n",
    "def cap_outliers(ser, low_perc, high_perc):\n",
    "    low, high = ser.quantile([low_perc, high_perc])\n",
    "    print(low_perc, '%ile: ', low, '|', high_perc, '%ile: ', high)\n",
    "    ser[ser < low] = low\n",
    "    ser[ser > high] = high\n",
    "    return(ser)"
   ]
  },
  {
   "cell_type": "code",
   "execution_count": 384,
   "metadata": {
    "ExecuteTime": {
     "end_time": "2020-05-17T07:26:25.421619Z",
     "start_time": "2020-05-17T07:26:25.412483Z"
    }
   },
   "outputs": [
    {
     "name": "stdout",
     "output_type": "stream",
     "text": [
      "0.05 %ile:  0.016049294076965887 | 0.95 %ile:  63.876672220183934\n"
     ]
    }
   ],
   "source": [
    "capped_ser = cap_outliers(ser, .05, .95)"
   ]
  },
  {
   "cell_type": "markdown",
   "metadata": {},
   "source": [
    "### How to reshape a dataframe to the largest possible square after removing the negative values?\n",
    "Reshape df to the largest possible square with negative values removed. Drop the smallest values if need be. The order of the positive numbers in the result should remain the same as the original."
   ]
  },
  {
   "cell_type": "code",
   "execution_count": 351,
   "metadata": {
    "ExecuteTime": {
     "end_time": "2020-05-17T07:12:10.005100Z",
     "start_time": "2020-05-17T07:12:10.000981Z"
    }
   },
   "outputs": [],
   "source": [
    "df = pd.DataFrame(np.random.randint(-20, 50, 100).reshape(10,-1))"
   ]
  },
  {
   "cell_type": "code",
   "execution_count": 352,
   "metadata": {
    "ExecuteTime": {
     "end_time": "2020-05-17T07:12:11.912399Z",
     "start_time": "2020-05-17T07:12:11.902755Z"
    }
   },
   "outputs": [],
   "source": [
    "# 1. remove negative\n",
    "# 2. find # of valid numbers & maximum square \n",
    "arr=df[df>0].values.flatten()\n",
    "arr_qualified = arr[~np.isnan(arr)]"
   ]
  },
  {
   "cell_type": "code",
   "execution_count": 353,
   "metadata": {
    "ExecuteTime": {
     "end_time": "2020-05-17T07:12:13.006476Z",
     "start_time": "2020-05-17T07:12:12.991842Z"
    }
   },
   "outputs": [
    {
     "name": "stdout",
     "output_type": "stream",
     "text": [
      "[[33.  5. 30. 46. 28. 48. 38. 26.]\n",
      " [32. 21. 19. 10. 26. 34. 24.  5.]\n",
      " [48.  5. 17. 26. 37.  6.  4. 30.]\n",
      " [28. 43. 24. 19. 12. 24. 10. 12.]\n",
      " [11. 41. 25.  4.  6. 36. 21. 17.]\n",
      " [ 7. 49. 30. 29.  7. 20. 43. 27.]\n",
      " [18. 36. 17. 22. 33. 19. 20. 23.]\n",
      " [12. 41. 30. 31. 45. 14. 39.  6.]]\n"
     ]
    }
   ],
   "source": [
    "# Solution\n",
    "# Step 1: remove negative values from arr\n",
    "arr = df[df > 0].values.flatten()\n",
    "arr_qualified = arr[~np.isnan(arr)]\n",
    "\n",
    "# Step 2: find side-length of largest possible square\n",
    "n = int(np.floor(arr_qualified.shape[0]**.5))\n",
    "\n",
    "# Step 3: Take top n^2 items without changing positions\n",
    "top_indexes = np.argsort(arr_qualified)[::-1]\n",
    "output = np.take(arr_qualified, sorted(top_indexes[:n**2])).reshape(n, -1)\n",
    "print(output)"
   ]
  },
  {
   "cell_type": "markdown",
   "metadata": {},
   "source": [
    "### How to swap two rows of a dataframe?"
   ]
  },
  {
   "cell_type": "code",
   "execution_count": 298,
   "metadata": {
    "ExecuteTime": {
     "end_time": "2020-05-17T06:34:50.347428Z",
     "start_time": "2020-05-17T06:34:50.337808Z"
    }
   },
   "outputs": [
    {
     "data": {
      "text/html": [
       "<div>\n",
       "<style scoped>\n",
       "    .dataframe tbody tr th:only-of-type {\n",
       "        vertical-align: middle;\n",
       "    }\n",
       "\n",
       "    .dataframe tbody tr th {\n",
       "        vertical-align: top;\n",
       "    }\n",
       "\n",
       "    .dataframe thead th {\n",
       "        text-align: right;\n",
       "    }\n",
       "</style>\n",
       "<table border=\"1\" class=\"dataframe\">\n",
       "  <thead>\n",
       "    <tr style=\"text-align: right;\">\n",
       "      <th></th>\n",
       "      <th>0</th>\n",
       "      <th>1</th>\n",
       "      <th>2</th>\n",
       "      <th>3</th>\n",
       "      <th>4</th>\n",
       "    </tr>\n",
       "  </thead>\n",
       "  <tbody>\n",
       "    <tr>\n",
       "      <td>0</td>\n",
       "      <td>0</td>\n",
       "      <td>1</td>\n",
       "      <td>2</td>\n",
       "      <td>3</td>\n",
       "      <td>4</td>\n",
       "    </tr>\n",
       "    <tr>\n",
       "      <td>1</td>\n",
       "      <td>5</td>\n",
       "      <td>6</td>\n",
       "      <td>7</td>\n",
       "      <td>8</td>\n",
       "      <td>9</td>\n",
       "    </tr>\n",
       "    <tr>\n",
       "      <td>2</td>\n",
       "      <td>10</td>\n",
       "      <td>11</td>\n",
       "      <td>12</td>\n",
       "      <td>13</td>\n",
       "      <td>14</td>\n",
       "    </tr>\n",
       "    <tr>\n",
       "      <td>3</td>\n",
       "      <td>15</td>\n",
       "      <td>16</td>\n",
       "      <td>17</td>\n",
       "      <td>18</td>\n",
       "      <td>19</td>\n",
       "    </tr>\n",
       "    <tr>\n",
       "      <td>4</td>\n",
       "      <td>20</td>\n",
       "      <td>21</td>\n",
       "      <td>22</td>\n",
       "      <td>23</td>\n",
       "      <td>24</td>\n",
       "    </tr>\n",
       "  </tbody>\n",
       "</table>\n",
       "</div>"
      ],
      "text/plain": [
       "    0   1   2   3   4\n",
       "0   0   1   2   3   4\n",
       "1   5   6   7   8   9\n",
       "2  10  11  12  13  14\n",
       "3  15  16  17  18  19\n",
       "4  20  21  22  23  24"
      ]
     },
     "execution_count": 298,
     "metadata": {},
     "output_type": "execute_result"
    }
   ],
   "source": [
    "df = pd.DataFrame(np.arange(25).reshape(5, -1))\n",
    "df"
   ]
  },
  {
   "cell_type": "code",
   "execution_count": 299,
   "metadata": {
    "ExecuteTime": {
     "end_time": "2020-05-17T06:34:51.415540Z",
     "start_time": "2020-05-17T06:34:51.408977Z"
    }
   },
   "outputs": [],
   "source": [
    "def swap(df,i1,i2):\n",
    "    a,b=df.iloc[i1, :].copy(), df.iloc[i2, :].copy()\n",
    "    df.iloc[i1, :], df.iloc[i2, :] = b, a\n",
    "    return(df)"
   ]
  },
  {
   "cell_type": "code",
   "execution_count": 300,
   "metadata": {
    "ExecuteTime": {
     "end_time": "2020-05-17T06:34:52.845383Z",
     "start_time": "2020-05-17T06:34:52.836857Z"
    }
   },
   "outputs": [
    {
     "data": {
      "text/html": [
       "<div>\n",
       "<style scoped>\n",
       "    .dataframe tbody tr th:only-of-type {\n",
       "        vertical-align: middle;\n",
       "    }\n",
       "\n",
       "    .dataframe tbody tr th {\n",
       "        vertical-align: top;\n",
       "    }\n",
       "\n",
       "    .dataframe thead th {\n",
       "        text-align: right;\n",
       "    }\n",
       "</style>\n",
       "<table border=\"1\" class=\"dataframe\">\n",
       "  <thead>\n",
       "    <tr style=\"text-align: right;\">\n",
       "      <th></th>\n",
       "      <th>0</th>\n",
       "      <th>1</th>\n",
       "      <th>2</th>\n",
       "      <th>3</th>\n",
       "      <th>4</th>\n",
       "    </tr>\n",
       "  </thead>\n",
       "  <tbody>\n",
       "    <tr>\n",
       "      <td>0</td>\n",
       "      <td>5</td>\n",
       "      <td>6</td>\n",
       "      <td>7</td>\n",
       "      <td>8</td>\n",
       "      <td>9</td>\n",
       "    </tr>\n",
       "    <tr>\n",
       "      <td>1</td>\n",
       "      <td>0</td>\n",
       "      <td>1</td>\n",
       "      <td>2</td>\n",
       "      <td>3</td>\n",
       "      <td>4</td>\n",
       "    </tr>\n",
       "    <tr>\n",
       "      <td>2</td>\n",
       "      <td>10</td>\n",
       "      <td>11</td>\n",
       "      <td>12</td>\n",
       "      <td>13</td>\n",
       "      <td>14</td>\n",
       "    </tr>\n",
       "    <tr>\n",
       "      <td>3</td>\n",
       "      <td>15</td>\n",
       "      <td>16</td>\n",
       "      <td>17</td>\n",
       "      <td>18</td>\n",
       "      <td>19</td>\n",
       "    </tr>\n",
       "    <tr>\n",
       "      <td>4</td>\n",
       "      <td>20</td>\n",
       "      <td>21</td>\n",
       "      <td>22</td>\n",
       "      <td>23</td>\n",
       "      <td>24</td>\n",
       "    </tr>\n",
       "  </tbody>\n",
       "</table>\n",
       "</div>"
      ],
      "text/plain": [
       "    0   1   2   3   4\n",
       "0   5   6   7   8   9\n",
       "1   0   1   2   3   4\n",
       "2  10  11  12  13  14\n",
       "3  15  16  17  18  19\n",
       "4  20  21  22  23  24"
      ]
     },
     "execution_count": 300,
     "metadata": {},
     "output_type": "execute_result"
    }
   ],
   "source": [
    "swap(df,0,1)"
   ]
  },
  {
   "cell_type": "markdown",
   "metadata": {},
   "source": [
    "### How to reverse the rows of a dataframe?"
   ]
  },
  {
   "cell_type": "code",
   "execution_count": 192,
   "metadata": {
    "ExecuteTime": {
     "end_time": "2020-05-16T09:14:54.187097Z",
     "start_time": "2020-05-16T09:14:54.183822Z"
    }
   },
   "outputs": [],
   "source": [
    "df = pd.DataFrame(np.arange(25).reshape(5, -1))"
   ]
  },
  {
   "cell_type": "code",
   "execution_count": null,
   "metadata": {},
   "outputs": [],
   "source": [
    "df"
   ]
  },
  {
   "cell_type": "markdown",
   "metadata": {},
   "source": [
    "### How to create one-hot encodings of a categorical variable (dummy variables)?"
   ]
  },
  {
   "cell_type": "code",
   "execution_count": 208,
   "metadata": {
    "ExecuteTime": {
     "end_time": "2020-05-16T20:36:49.909069Z",
     "start_time": "2020-05-16T20:36:49.902381Z"
    }
   },
   "outputs": [],
   "source": [
    "df = pd.DataFrame(np.arange(25).reshape(5,-1), columns=list('abcde'))"
   ]
  },
  {
   "cell_type": "code",
   "execution_count": 194,
   "metadata": {
    "ExecuteTime": {
     "end_time": "2020-05-16T09:43:11.076461Z",
     "start_time": "2020-05-16T09:43:11.061511Z"
    }
   },
   "outputs": [
    {
     "name": "stdout",
     "output_type": "stream",
     "text": [
      "   0  5  10  15  20   b   c   d   e\n",
      "0  1  0   0   0   0   1   2   3   4\n",
      "1  0  1   0   0   0   6   7   8   9\n",
      "2  0  0   1   0   0  11  12  13  14\n",
      "3  0  0   0   1   0  16  17  18  19\n",
      "4  0  0   0   0   1  21  22  23  24\n"
     ]
    }
   ],
   "source": [
    "# Solution\n",
    "df_onehot = pd.concat([pd.get_dummies(df['a']), df[list('bcde')]], axis=1)\n",
    "print(df_onehot)"
   ]
  },
  {
   "cell_type": "markdown",
   "metadata": {},
   "source": [
    "###  Which column contains the highest number of row-wise maximum values?"
   ]
  },
  {
   "cell_type": "code",
   "execution_count": 2,
   "metadata": {
    "ExecuteTime": {
     "end_time": "2020-05-17T07:50:50.263369Z",
     "start_time": "2020-05-17T07:50:50.259678Z"
    }
   },
   "outputs": [],
   "source": [
    "df = pd.DataFrame(np.random.randint(1,100, 40).reshape(10, -1))"
   ]
  },
  {
   "cell_type": "code",
   "execution_count": 3,
   "metadata": {
    "ExecuteTime": {
     "end_time": "2020-05-17T07:50:50.852864Z",
     "start_time": "2020-05-17T07:50:50.835762Z"
    }
   },
   "outputs": [
    {
     "name": "stdout",
     "output_type": "stream",
     "text": [
      "Column with highest row maxes:  1\n"
     ]
    },
    {
     "name": "stderr",
     "output_type": "stream",
     "text": [
      "/opt/anaconda3/lib/python3.7/site-packages/numpy/core/fromnumeric.py:61: FutureWarning: \n",
      "The current behaviour of 'Series.argmax' is deprecated, use 'idxmax'\n",
      "instead.\n",
      "The behavior of 'argmax' will be corrected to return the positional\n",
      "maximum in the future. For now, use 'series.values.argmax' or\n",
      "'np.argmax(np.array(values))' to get the position of the maximum\n",
      "row.\n",
      "  return bound(*args, **kwds)\n"
     ]
    }
   ],
   "source": [
    "# Input\n",
    "df = pd.DataFrame(np.random.randint(1,100, 40).reshape(10, -1))\n",
    "\n",
    "# Solution\n",
    "print('Column with highest row maxes: ', df.apply(np.argmax, axis=1).value_counts().index[0])"
   ]
  },
  {
   "cell_type": "markdown",
   "metadata": {},
   "source": [
    "### How to create a new column that contains the row number of nearest column by euclidean distance?"
   ]
  },
  {
   "cell_type": "code",
   "execution_count": 4,
   "metadata": {
    "ExecuteTime": {
     "end_time": "2020-05-17T07:51:32.106033Z",
     "start_time": "2020-05-17T07:51:32.101791Z"
    }
   },
   "outputs": [],
   "source": [
    "df = pd.DataFrame(np.random.randint(1,100, 40).reshape(10, -1), columns=list('pqrs'), index=list('abcdefghij'))"
   ]
  },
  {
   "cell_type": "code",
   "execution_count": 6,
   "metadata": {
    "ExecuteTime": {
     "end_time": "2020-05-17T07:52:10.358032Z",
     "start_time": "2020-05-17T07:52:10.331318Z"
    }
   },
   "outputs": [],
   "source": [
    "# Solution\n",
    "import numpy as np\n",
    "\n",
    "# init outputs\n",
    "nearest_rows = []\n",
    "nearest_distance = []\n",
    "\n",
    "# iterate rows.\n",
    "for i, row in df.iterrows():\n",
    "    curr = row\n",
    "    rest = df.drop(i)\n",
    "    e_dists = {}  # init dict to store euclidean dists for current row.\n",
    "    # iterate rest of rows for current row\n",
    "    for j, contestant in rest.iterrows():\n",
    "        # compute euclidean dist and update e_dists\n",
    "        e_dists.update({j: round(np.linalg.norm(curr.values - contestant.values))})\n",
    "    # update nearest row to current row and the distance value\n",
    "    nearest_rows.append(max(e_dists, key=e_dists.get))\n",
    "    nearest_distance.append(max(e_dists.values()))\n",
    "\n",
    "df['nearest_row'] = nearest_rows\n",
    "df['dist'] = nearest_distance"
   ]
  },
  {
   "cell_type": "markdown",
   "metadata": {},
   "source": [
    "### How to know the maximum possible correlation value of each column against other columns?"
   ]
  },
  {
   "cell_type": "code",
   "execution_count": 7,
   "metadata": {
    "ExecuteTime": {
     "end_time": "2020-05-17T07:52:30.744934Z",
     "start_time": "2020-05-17T07:52:30.740998Z"
    }
   },
   "outputs": [],
   "source": [
    "df = pd.DataFrame(np.random.randint(1,100, 80).reshape(8, -1), columns=list('pqrstuvwxy'), index=list('abcdefgh'))"
   ]
  },
  {
   "cell_type": "code",
   "execution_count": 9,
   "metadata": {
    "ExecuteTime": {
     "end_time": "2020-05-17T07:52:42.761193Z",
     "start_time": "2020-05-17T07:52:42.754369Z"
    }
   },
   "outputs": [
    {
     "name": "stdout",
     "output_type": "stream",
     "text": [
      "Maximum Correlation possible for each column:  [0.94 0.61 0.77 0.64 0.94 0.64 0.65 0.81 0.65 0.81]\n"
     ]
    }
   ],
   "source": [
    "# Solution\n",
    "abs_corrmat = np.abs(df.corr())\n",
    "max_corr = abs_corrmat.apply(lambda x: sorted(x)[-2])\n",
    "print('Maximum Correlation possible for each column: ', np.round(max_corr.tolist(), 2))"
   ]
  },
  {
   "cell_type": "markdown",
   "metadata": {},
   "source": [
    "### How to create a column containing the minimum by maximum of each row?"
   ]
  },
  {
   "cell_type": "code",
   "execution_count": 10,
   "metadata": {
    "ExecuteTime": {
     "end_time": "2020-05-17T07:53:18.577744Z",
     "start_time": "2020-05-17T07:53:18.573887Z"
    }
   },
   "outputs": [],
   "source": [
    "df = pd.DataFrame(np.random.randint(1,100, 80).reshape(8, -1))"
   ]
  },
  {
   "cell_type": "code",
   "execution_count": 11,
   "metadata": {
    "ExecuteTime": {
     "end_time": "2020-05-17T07:53:37.229913Z",
     "start_time": "2020-05-17T07:53:37.218552Z"
    }
   },
   "outputs": [],
   "source": [
    "# Input\n",
    "df = pd.DataFrame(np.random.randint(1,100, 80).reshape(8, -1))\n",
    "\n",
    "# Solution 1\n",
    "min_by_max = df.apply(lambda x: np.min(x)/np.max(x), axis=1)\n",
    "\n",
    "# Solution 2\n",
    "min_by_max = np.min(df, axis=1)/np.max(df, axis=1)"
   ]
  },
  {
   "cell_type": "markdown",
   "metadata": {},
   "source": [
    "### How to create a column that contains the penultimate value in each row?\n",
    "Create a new column 'penultimate' which has the second largest value of each row of df."
   ]
  },
  {
   "cell_type": "code",
   "execution_count": 23,
   "metadata": {
    "ExecuteTime": {
     "end_time": "2020-05-17T08:01:25.353664Z",
     "start_time": "2020-05-17T08:01:25.350090Z"
    }
   },
   "outputs": [],
   "source": [
    "df = pd.DataFrame(np.random.randint(1,100, 80).reshape(8, -1))"
   ]
  },
  {
   "cell_type": "code",
   "execution_count": 20,
   "metadata": {
    "ExecuteTime": {
     "end_time": "2020-05-17T08:00:43.859178Z",
     "start_time": "2020-05-17T08:00:43.844354Z"
    }
   },
   "outputs": [
    {
     "name": "stdout",
     "output_type": "stream",
     "text": [
      "    0   1   2   3   4   5   6   7   8   9  penultimate\n",
      "0  32  79  28  76  66  46  98  77  39  80           80\n",
      "1  72  21  29  14  47  81  32  34  79  24           79\n",
      "2  81  11  65  78  21  14  44  48  70  47           78\n",
      "3  79  35  92   2   2  71  99  66  59  83           92\n",
      "4  44  29  74  53   8  33  92  91  88  50           91\n",
      "5  51  31  48  49  52  43  54   2  68  52           54\n",
      "6  81  18  55  95  83  92  70  10  21  20           92\n",
      "7  61  89  55  73  60  56  62  50  52  35           73\n"
     ]
    }
   ],
   "source": [
    "# Solution\n",
    "out = df.apply(lambda x: x.sort_values().unique()[-2], axis=1)\n",
    "df['penultimate'] = out\n",
    "print(df)"
   ]
  },
  {
   "cell_type": "markdown",
   "metadata": {},
   "source": [
    "### How to normalize all columns in a dataframe?\n",
    "Normalize all columns of df by subtracting the column mean and divide by standard deviation. <br>\n",
    "Range all columns of df such that the minimum value in each column is 0 and max is 1."
   ]
  },
  {
   "cell_type": "code",
   "execution_count": 37,
   "metadata": {
    "ExecuteTime": {
     "end_time": "2020-05-17T08:07:43.464276Z",
     "start_time": "2020-05-17T08:07:43.460701Z"
    }
   },
   "outputs": [],
   "source": [
    "df = pd.DataFrame(np.random.randint(1,100, 80).reshape(8, -1))"
   ]
  },
  {
   "cell_type": "code",
   "execution_count": 38,
   "metadata": {
    "ExecuteTime": {
     "end_time": "2020-05-17T08:07:44.009078Z",
     "start_time": "2020-05-17T08:07:43.996378Z"
    }
   },
   "outputs": [],
   "source": [
    "out2 = df.apply(lambda x: ((x.max() - x)/(x.max() - x.min())).round(2))"
   ]
  },
  {
   "cell_type": "code",
   "execution_count": 40,
   "metadata": {
    "ExecuteTime": {
     "end_time": "2020-05-17T08:07:59.864287Z",
     "start_time": "2020-05-17T08:07:59.852280Z"
    }
   },
   "outputs": [],
   "source": [
    "out1 = df.apply(lambda x: ((x - x.mean())/x.std()).round(2))"
   ]
  },
  {
   "cell_type": "markdown",
   "metadata": {},
   "source": [
    "### How to compute the correlation of each row with the suceeding row?"
   ]
  },
  {
   "cell_type": "code",
   "execution_count": 42,
   "metadata": {
    "ExecuteTime": {
     "end_time": "2020-05-17T16:45:17.861840Z",
     "start_time": "2020-05-17T16:45:17.858132Z"
    }
   },
   "outputs": [],
   "source": [
    "df = pd.DataFrame(np.random.randint(1,100, 80).reshape(8, -1))"
   ]
  },
  {
   "cell_type": "code",
   "execution_count": 43,
   "metadata": {
    "ExecuteTime": {
     "end_time": "2020-05-17T16:46:43.395860Z",
     "start_time": "2020-05-17T16:46:43.263522Z"
    }
   },
   "outputs": [
    {
     "data": {
      "text/plain": [
       "[0.22, 0.36, 0.24, 0.3, 0.15, -0.02, 0.05]"
      ]
     },
     "execution_count": 43,
     "metadata": {},
     "output_type": "execute_result"
    }
   ],
   "source": [
    "[df.iloc[i].corr(df.iloc[i+1]).round(2) for i in range(df.shape[0])[:-1]]"
   ]
  },
  {
   "cell_type": "code",
   "execution_count": null,
   "metadata": {},
   "outputs": [],
   "source": []
  },
  {
   "cell_type": "markdown",
   "metadata": {},
   "source": [
    "### How to replace both the diagonals of dataframe with 0?"
   ]
  },
  {
   "cell_type": "code",
   "execution_count": 58,
   "metadata": {
    "ExecuteTime": {
     "end_time": "2020-05-17T16:54:12.444637Z",
     "start_time": "2020-05-17T16:54:12.440923Z"
    }
   },
   "outputs": [],
   "source": [
    "df = pd.DataFrame(np.random.randint(1,100, 100).reshape(10, -1))\n",
    "# pd.series.reshape"
   ]
  },
  {
   "cell_type": "code",
   "execution_count": 66,
   "metadata": {
    "ExecuteTime": {
     "end_time": "2020-05-17T17:01:18.397654Z",
     "start_time": "2020-05-17T17:01:18.391346Z"
    }
   },
   "outputs": [],
   "source": [
    "for i in range(df.shape[0]):\n",
    "    for j in range(df.shape[1]):\n",
    "        if i==j:\n",
    "            df.iloc[i,j]=0"
   ]
  },
  {
   "cell_type": "markdown",
   "metadata": {},
   "source": [
    "There are three primary indexers for pandas. We have the indexing operator itself (the brackets []), .loc, and .iloc. Let's summarize them: <br>\n",
    "\n",
    "* [] - Primarily selects subsets of columns, but can select rows as well. Cannot simultaneously select rows and columns. <br>\n",
    "* .loc - selects subsets of rows and columns by label only <br>\n",
    "* .iloc - selects subsets of rows and columns by integer location only <br>\n",
    "I almost never use .at or .iat as they add no additional functionality and with just a small performance increase. I would discourage their use unless you have a very time-sensitive application. Regardless, we have their summary: <br>\n",
    "\n",
    "* .at selects a single scalar value in the DataFrame by label only <br>\n",
    "* .iat selects a single scalar value in the DataFrame by integer location only <br>\n",
    "In addition to selection by label and integer location, boolean selection also known as boolean indexing exists. <br>\n",
    "\n"
   ]
  },
  {
   "cell_type": "code",
   "execution_count": 67,
   "metadata": {
    "ExecuteTime": {
     "end_time": "2020-05-17T17:03:24.128937Z",
     "start_time": "2020-05-17T17:03:24.125202Z"
    }
   },
   "outputs": [],
   "source": [
    "# Solution\n",
    "for i in range(df.shape[0]):\n",
    "    df.iat[i, i] = 0\n",
    "    df.iat[df.shape[0]-i-1, i] = 0"
   ]
  },
  {
   "cell_type": "markdown",
   "metadata": {},
   "source": [
    "### How to get the particular group of a groupby dataframe by key?"
   ]
  },
  {
   "cell_type": "code",
   "execution_count": 82,
   "metadata": {
    "ExecuteTime": {
     "end_time": "2020-05-17T17:07:30.608438Z",
     "start_time": "2020-05-17T17:07:30.602826Z"
    }
   },
   "outputs": [],
   "source": [
    "df = pd.DataFrame({'col1': ['apple', 'banana', 'orange'] * 3,\n",
    "                   'col2': np.random.rand(9),\n",
    "                   'col3': np.random.randint(0, 15, 9)})\n",
    "\n",
    "df_grouped = df.groupby(['col1'])"
   ]
  },
  {
   "cell_type": "code",
   "execution_count": 84,
   "metadata": {
    "ExecuteTime": {
     "end_time": "2020-05-17T17:07:36.671813Z",
     "start_time": "2020-05-17T17:07:36.663697Z"
    }
   },
   "outputs": [
    {
     "name": "stdout",
     "output_type": "stream",
     "text": [
      "    col1      col2  col3\n",
      "0  apple  0.849714    13\n",
      "3  apple  0.375828    10\n",
      "6  apple  0.537782     0\n"
     ]
    }
   ],
   "source": [
    "for k,v in df_grouped:\n",
    "    if k=='apple':\n",
    "        print(v)"
   ]
  },
  {
   "cell_type": "code",
   "execution_count": 85,
   "metadata": {
    "ExecuteTime": {
     "end_time": "2020-05-17T17:07:37.691815Z",
     "start_time": "2020-05-17T17:07:37.683426Z"
    }
   },
   "outputs": [
    {
     "data": {
      "text/html": [
       "<div>\n",
       "<style scoped>\n",
       "    .dataframe tbody tr th:only-of-type {\n",
       "        vertical-align: middle;\n",
       "    }\n",
       "\n",
       "    .dataframe tbody tr th {\n",
       "        vertical-align: top;\n",
       "    }\n",
       "\n",
       "    .dataframe thead th {\n",
       "        text-align: right;\n",
       "    }\n",
       "</style>\n",
       "<table border=\"1\" class=\"dataframe\">\n",
       "  <thead>\n",
       "    <tr style=\"text-align: right;\">\n",
       "      <th></th>\n",
       "      <th>col1</th>\n",
       "      <th>col2</th>\n",
       "      <th>col3</th>\n",
       "    </tr>\n",
       "  </thead>\n",
       "  <tbody>\n",
       "    <tr>\n",
       "      <td>0</td>\n",
       "      <td>apple</td>\n",
       "      <td>0.849714</td>\n",
       "      <td>13</td>\n",
       "    </tr>\n",
       "    <tr>\n",
       "      <td>3</td>\n",
       "      <td>apple</td>\n",
       "      <td>0.375828</td>\n",
       "      <td>10</td>\n",
       "    </tr>\n",
       "    <tr>\n",
       "      <td>6</td>\n",
       "      <td>apple</td>\n",
       "      <td>0.537782</td>\n",
       "      <td>0</td>\n",
       "    </tr>\n",
       "  </tbody>\n",
       "</table>\n",
       "</div>"
      ],
      "text/plain": [
       "    col1      col2  col3\n",
       "0  apple  0.849714    13\n",
       "3  apple  0.375828    10\n",
       "6  apple  0.537782     0"
      ]
     },
     "execution_count": 85,
     "metadata": {},
     "output_type": "execute_result"
    }
   ],
   "source": [
    "df_grouped.get_group('apple')"
   ]
  },
  {
   "cell_type": "markdown",
   "metadata": {},
   "source": [
    "### How to get the n’th largest value of a column when grouped by another column?"
   ]
  },
  {
   "cell_type": "code",
   "execution_count": 86,
   "metadata": {
    "ExecuteTime": {
     "end_time": "2020-05-17T17:08:43.059714Z",
     "start_time": "2020-05-17T17:08:43.054533Z"
    }
   },
   "outputs": [],
   "source": [
    "# Input\n",
    "df = pd.DataFrame({'fruit': ['apple', 'banana', 'orange'] * 3,\n",
    "                   'taste': np.random.rand(9),\n",
    "                   'price': np.random.randint(0, 15, 9)})"
   ]
  },
  {
   "cell_type": "code",
   "execution_count": null,
   "metadata": {},
   "outputs": [],
   "source": []
  },
  {
   "cell_type": "code",
   "execution_count": null,
   "metadata": {},
   "outputs": [],
   "source": [
    "\n",
    "\n",
    "\n",
    "# Solution\n",
    "df_grpd = df['taste'].groupby(df.fruit)\n",
    "df_grpd.get_group('banana').sort_values().iloc[-2]"
   ]
  },
  {
   "cell_type": "markdown",
   "metadata": {},
   "source": [
    "### How to compute grouped mean on pandas dataframe and keep the grouped column as another column (not index)?"
   ]
  },
  {
   "cell_type": "code",
   "execution_count": 221,
   "metadata": {
    "ExecuteTime": {
     "end_time": "2020-05-16T21:33:44.736884Z",
     "start_time": "2020-05-16T21:33:44.731918Z"
    }
   },
   "outputs": [],
   "source": [
    "# Input\n",
    "df = pd.DataFrame({'fruit': ['apple', 'banana', 'orange'] * 3,\n",
    "                   'rating': np.random.rand(9),\n",
    "                   'price': np.random.randint(0, 15, 9)})"
   ]
  },
  {
   "cell_type": "markdown",
   "metadata": {},
   "source": [
    "### How to join two dataframes by 2 columns so they have only the common rows?"
   ]
  },
  {
   "cell_type": "code",
   "execution_count": 223,
   "metadata": {
    "ExecuteTime": {
     "end_time": "2020-05-17T03:29:33.788348Z",
     "start_time": "2020-05-17T03:29:33.780813Z"
    }
   },
   "outputs": [],
   "source": [
    "df1 = pd.DataFrame({'fruit': ['apple', 'banana', 'orange'] * 3,\n",
    "                    'weight': ['high', 'medium', 'low'] * 3,\n",
    "                    'price': np.random.randint(0, 15, 9)})\n",
    "\n",
    "df2 = pd.DataFrame({'pazham': ['apple', 'orange', 'pine'] * 2,\n",
    "                    'kilo': ['high', 'low'] * 3,\n",
    "                    'price': np.random.randint(0, 15, 6)})"
   ]
  },
  {
   "cell_type": "markdown",
   "metadata": {},
   "source": [
    "### How to get the positions where values of two columns match?"
   ]
  },
  {
   "cell_type": "code",
   "execution_count": 87,
   "metadata": {
    "ExecuteTime": {
     "end_time": "2020-05-17T18:58:28.372155Z",
     "start_time": "2020-05-17T18:58:28.364454Z"
    }
   },
   "outputs": [
    {
     "data": {
      "text/plain": [
       "(array([6, 7, 8, 9]),)"
      ]
     },
     "execution_count": 87,
     "metadata": {},
     "output_type": "execute_result"
    }
   ],
   "source": [
    "# Input\n",
    "df = pd.DataFrame({'fruit1': np.random.choice(['apple', 'orange', 'banana'], 10),\n",
    "                    'fruit2': np.random.choice(['apple', 'orange', 'banana'], 10)})\n",
    "\n",
    "# Solution\n",
    "np.where(df.fruit1==df.fruit2)"
   ]
  },
  {
   "cell_type": "markdown",
   "metadata": {},
   "source": [
    "### How to create lags and leads of a column in a dataframe?"
   ]
  },
  {
   "cell_type": "code",
   "execution_count": null,
   "metadata": {},
   "outputs": [],
   "source": []
  },
  {
   "cell_type": "markdown",
   "metadata": {},
   "source": [
    "### How to create lags and leads of a column in a dataframe?\n",
    "Create two new columns in df, one of which is a lag1 (shift column a down by 1 row) of column ‘a’ and the other is a lead1 (shift column b up by 1 row)."
   ]
  },
  {
   "cell_type": "code",
   "execution_count": 88,
   "metadata": {
    "ExecuteTime": {
     "end_time": "2020-05-17T19:00:12.369819Z",
     "start_time": "2020-05-17T19:00:12.366073Z"
    }
   },
   "outputs": [],
   "source": [
    "# Input\n",
    "df = pd.DataFrame(np.random.randint(1, 100, 20).reshape(-1, 4), columns = list('abcd'))"
   ]
  },
  {
   "cell_type": "code",
   "execution_count": 92,
   "metadata": {
    "ExecuteTime": {
     "end_time": "2020-05-17T19:01:06.475594Z",
     "start_time": "2020-05-17T19:01:06.468785Z"
    }
   },
   "outputs": [],
   "source": [
    "df['a_lead']=df.a.shift(1)\n",
    "df['a_lag']=df.a.shift(-1)"
   ]
  },
  {
   "cell_type": "markdown",
   "metadata": {},
   "source": [
    "### How to get the frequency of unique values in the entire dataframe?\n",
    "Get the frequency of unique values in the entire dataframe df."
   ]
  },
  {
   "cell_type": "code",
   "execution_count": 93,
   "metadata": {
    "ExecuteTime": {
     "end_time": "2020-05-17T19:01:45.309115Z",
     "start_time": "2020-05-17T19:01:45.304888Z"
    }
   },
   "outputs": [],
   "source": [
    "df = pd.DataFrame(np.random.randint(1, 10, 20).reshape(-1, 4), columns = list('abcd'))"
   ]
  },
  {
   "cell_type": "code",
   "execution_count": 94,
   "metadata": {
    "ExecuteTime": {
     "end_time": "2020-05-17T19:01:52.027834Z",
     "start_time": "2020-05-17T19:01:52.020284Z"
    }
   },
   "outputs": [
    {
     "data": {
      "text/plain": [
       "8    6\n",
       "6    4\n",
       "9    3\n",
       "7    2\n",
       "5    1\n",
       "4    1\n",
       "3    1\n",
       "2    1\n",
       "1    1\n",
       "dtype: int64"
      ]
     },
     "execution_count": 94,
     "metadata": {},
     "output_type": "execute_result"
    }
   ],
   "source": [
    "# Input\n",
    "df = pd.DataFrame(np.random.randint(1, 10, 20).reshape(-1, 4), columns = list('abcd'))\n",
    "\n",
    "# Solution\n",
    "pd.value_counts(df.values.ravel())"
   ]
  },
  {
   "cell_type": "markdown",
   "metadata": {},
   "source": [
    "### How to split a text column into two separate columns?"
   ]
  },
  {
   "cell_type": "code",
   "execution_count": 95,
   "metadata": {
    "ExecuteTime": {
     "end_time": "2020-05-17T19:02:29.502460Z",
     "start_time": "2020-05-17T19:02:29.498826Z"
    }
   },
   "outputs": [],
   "source": [
    "df = pd.DataFrame([\"STD, City    State\",\n",
    "\"33, Kolkata    West Bengal\",\n",
    "\"44, Chennai    Tamil Nadu\",\n",
    "\"40, Hyderabad    Telengana\",\n",
    "\"80, Bangalore    Karnataka\"], columns=['row'])"
   ]
  },
  {
   "cell_type": "code",
   "execution_count": 96,
   "metadata": {
    "ExecuteTime": {
     "end_time": "2020-05-17T19:02:33.855700Z",
     "start_time": "2020-05-17T19:02:33.851260Z"
    }
   },
   "outputs": [
    {
     "name": "stdout",
     "output_type": "stream",
     "text": [
      "                          row\n",
      "0          STD, City    State\n",
      "1  33, Kolkata    West Bengal\n",
      "2   44, Chennai    Tamil Nadu\n",
      "3  40, Hyderabad    Telengana\n",
      "4  80, Bangalore    Karnataka\n"
     ]
    }
   ],
   "source": [
    "print(df)"
   ]
  },
  {
   "cell_type": "code",
   "execution_count": null,
   "metadata": {},
   "outputs": [],
   "source": []
  }
 ],
 "metadata": {
  "hide_input": false,
  "kernelspec": {
   "display_name": "Python 3",
   "language": "python",
   "name": "python3"
  },
  "language_info": {
   "codemirror_mode": {
    "name": "ipython",
    "version": 3
   },
   "file_extension": ".py",
   "mimetype": "text/x-python",
   "name": "python",
   "nbconvert_exporter": "python",
   "pygments_lexer": "ipython3",
   "version": "3.7.4"
  },
  "toc": {
   "base_numbering": 1,
   "nav_menu": {},
   "number_sections": true,
   "sideBar": true,
   "skip_h1_title": false,
   "title_cell": "Table of Contents",
   "title_sidebar": "Contents",
   "toc_cell": false,
   "toc_position": {},
   "toc_section_display": true,
   "toc_window_display": false
  },
  "varInspector": {
   "cols": {
    "lenName": 16,
    "lenType": 16,
    "lenVar": 40
   },
   "kernels_config": {
    "python": {
     "delete_cmd_postfix": "",
     "delete_cmd_prefix": "del ",
     "library": "var_list.py",
     "varRefreshCmd": "print(var_dic_list())"
    },
    "r": {
     "delete_cmd_postfix": ") ",
     "delete_cmd_prefix": "rm(",
     "library": "var_list.r",
     "varRefreshCmd": "cat(var_dic_list()) "
    }
   },
   "types_to_exclude": [
    "module",
    "function",
    "builtin_function_or_method",
    "instance",
    "_Feature"
   ],
   "window_display": false
  }
 },
 "nbformat": 4,
 "nbformat_minor": 2
}
