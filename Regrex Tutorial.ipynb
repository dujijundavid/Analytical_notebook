{
 "cells": [
  {
   "cell_type": "markdown",
   "metadata": {},
   "source": [
    "## Table of Content\n",
    "\n",
    "**Part one: notes for Python blog Regrex  (medium level)** <br>\n",
    "\n",
    "* one sentence to summarize regrex (my understanding)\n",
    "* top used functions with Regrex\n",
    "* a test case function\n",
    "* sophiscated examples\n",
    "\n",
    "\n",
    "\n",
    "**Part two: tutorial from Machine learning plus, reorganized Structure (Easy)** <br>\n",
    "1. What is a regex pattern and how to compile one?\n",
    "2. Split string separated by a regex?\n",
    "3. Finding pattern matches using findall, search and match\n",
    "4. What does regex.findall() do?\n",
    "5. regex.search() vs regex.match()\n",
    "6. How to substitute one text with another using regex?\n",
    "7. Regex groups\n",
    "8. What is greedy matching in regex?\n",
    "9. Most common regular expression syntax and patterns\n",
    "10. Regular Expressions Examples\n",
    "11. Practice Exercises\n",
    "\n",
    "learned from： https://www.machinelearningplus.com/python/python-regex-tutorial-examples/"
   ]
  },
  {
   "cell_type": "markdown",
   "metadata": {},
   "source": [
    "## All about Regrex \n",
    "\n",
    "Regrex is really a powerful tool for extracting patterns, this document will record some tutorials and my practice in work. <br>\n",
    "What Regrex can do is:\n",
    "\n",
    "**Identify a pattern**\n",
    "    1. Find it   (re.search | re.match | re.matchall)\n",
    "    2. Replace it\n",
    "    3. Find all patterns (re.find_all)\n",
    "\n",
    "**Used with module re**\n",
    "\n",
    "match(pat, str)：pattern that match the starting position of a string  <br>\n",
    "search(pat, str)：pattern that match a string <br>\n",
    "finditer(pat, str)：find all patterns that match a string, output **iterator** <br>\n",
    "split(pat, str)：split the string based on certain pattern, output **list** <br>\n",
    "sub(pat, repl, str)：find pattern and match <br>\n",
    "compile(pat)：construct patterns into regrex object, so we can call functions upon it. <br>\n",
    "\n",
    "\n",
    "\n",
    "\n",
    "**Use Cases**\n",
    "* **data validation** (check for certain patterns: email, phone)\n",
    "* **data scraping** (In web scraping, find all pages that contain a certain set of words eventually in a specific order)\n",
    "* **data wrangling** (transform data from “raw” to another format)\n",
    "* **string parsing** (for example catch all URL GET parameters, capture text inside a set of parenthesis)\n",
    "* **string replacement** \n",
    "\n",
    "* others\n",
    "    * syntax highlightning\n",
    "    * file renaming\n",
    "    * packet sniffing\n",
    "    \n",
    "    \n",
    "    \n",
    "\n"
   ]
  },
  {
   "cell_type": "markdown",
   "metadata": {},
   "source": [
    "### Regression Test Case Function"
   ]
  },
  {
   "cell_type": "code",
   "execution_count": 49,
   "metadata": {
    "ExecuteTime": {
     "end_time": "2020-06-08T22:44:32.645234Z",
     "start_time": "2020-06-08T22:44:32.641094Z"
    }
   },
   "outputs": [],
   "source": [
    "import re\n",
    "# a function to pass test cases\n",
    "def look_for(pattern, str):\n",
    "    print_option=True   # test cases, if use then set to False\n",
    "    result=\"not found\" if re.search(pattern,str) is None else re.findall(pattern,str)\n",
    "    \n",
    "    if print_option:\n",
    "        print(result)\n",
    "    else:\n",
    "        return result\n"
   ]
  },
  {
   "cell_type": "code",
   "execution_count": 54,
   "metadata": {
    "ExecuteTime": {
     "end_time": "2020-06-08T22:52:42.436604Z",
     "start_time": "2020-06-08T22:52:42.430439Z"
    },
    "scrolled": true
   },
   "outputs": [
    {
     "name": "stdout",
     "output_type": "stream",
     "text": [
      "group1\n",
      "\n",
      "['a']\n",
      "['a', 'c']\n",
      "['c', 'b', 'a']\n",
      "not found\n",
      "group2\n",
      "\n",
      "['0', '7', '0', '5']\n",
      "not found\n",
      "['0']\n",
      "['%', '&', '(']\n"
     ]
    }
   ],
   "source": [
    "# group1: [] match with rules in the bracket\n",
    "print('group1\\n')\n",
    "pattern=r'[abc]'\n",
    "look_for(pattern,'a')\n",
    "look_for(pattern,'ac')\n",
    "look_for(pattern,'cba')\n",
    "look_for(pattern,'steven')\n",
    "\n",
    "print('group2\\n')\n",
    "\n",
    "# group 2:  negation\n",
    "pattern2=r'[^123]'\n",
    "look_for(pattern2,'0705')\n",
    "look_for(pattern2,'123')\n",
    "look_for(pattern2,'0123')\n",
    "look_for(pattern2,'%12&23(')"
   ]
  },
  {
   "cell_type": "markdown",
   "metadata": {},
   "source": [
    "### Comprehensive Examples\n",
    "* password\n",
    "* emails\n",
    "* multiple group extract\n"
   ]
  },
  {
   "cell_type": "code",
   "execution_count": 65,
   "metadata": {
    "ExecuteTime": {
     "end_time": "2020-06-08T23:09:51.257447Z",
     "start_time": "2020-06-08T23:09:51.252334Z"
    },
    "scrolled": false
   },
   "outputs": [
    {
     "name": "stdout",
     "output_type": "stream",
     "text": [
      "['Qwert12345@']\n",
      "['DaviidisAwesome']\n",
      "['steven1031']\n",
      "['steven@1031']\n",
      "['Steven@1031']\n",
      "not found\n",
      "not found\n",
      "not found\n"
     ]
    }
   ],
   "source": [
    "# a pattern contains numbers, chars, symbols [!@#$%^&*], and in 8~16 digits\n",
    "pat = r'^[0-9a-zA-Z@!$#%_-]{8,16}$' \n",
    "\n",
    "look_for(pat, 'Qwert12345@')\n",
    "look_for(pat, 'DaviidisAwesome')\n",
    "look_for(pat, 'steven1031')\n",
    "look_for(pat, 'steven@1031')\n",
    "look_for(pat, 'Steven@1031')\n",
    "look_for(pat, 's1031') # num of digits\n",
    "look_for(pat, 's@1031')\n",
    "look_for(pat, 'stevenwang@19831031')"
   ]
  },
  {
   "cell_type": "code",
   "execution_count": null,
   "metadata": {},
   "outputs": [],
   "source": []
  },
  {
   "cell_type": "code",
   "execution_count": 66,
   "metadata": {
    "ExecuteTime": {
     "end_time": "2020-06-08T23:11:07.026426Z",
     "start_time": "2020-06-08T23:11:07.019991Z"
    }
   },
   "outputs": [
    {
     "ename": "SyntaxError",
     "evalue": "invalid syntax (<ipython-input-66-8b0cc299a708>, line 16)",
     "output_type": "error",
     "traceback": [
      "\u001b[0;36m  File \u001b[0;32m\"<ipython-input-66-8b0cc299a708>\"\u001b[0;36m, line \u001b[0;32m16\u001b[0m\n\u001b[0;31m    pat='(?:[a-z0-9!#$%&'*+/=?^_`{|}~-]+(?:\\.[a-z0-9!#$%&'*+/=?^_`{|}~-]+)*|\"(?:[\\x01-\\x08\\x0b\\x0c\\x0e-\\x1f\\x21\\x23-\\x5b\\x5d-\\x7f]|\\\\[\\x01-\\x09\\x0b\\x0c\\x0e-\\x7f])*\")@(?:(?:[a-z0-9](?:[a-z0-9-]*[a-z0-9])?\\.)+[a-z0-9](?:[a-z0-9-]*[a-z0-9])?|\\[(?:(?:(2(5[0-5]|[0-4][0-9])|1[0-9][0-9]|[1-9]?[0-9]))\\.){3}(?:(2(5[0-5]|[0-4][0-9])|1[0-9][0-9]|[1-9]?[0-9])|[a-z0-9-]*[a-z0-9]:(?:[\\x01-\\x08\\x0b\\x0c\\x0e-\\x1f\\x21-\\x5a\\x53-\\x7f]|\\\\[\\x01-\\x09\\x0b\\x0c\\x0e-\\x7f])+)\\])'\u001b[0m\n\u001b[0m                            ^\u001b[0m\n\u001b[0;31mSyntaxError\u001b[0m\u001b[0;31m:\u001b[0m invalid syntax\n"
     ]
    }
   ],
   "source": [
    "# normal\n",
    "pat = r'\\S+@\\S+'\n",
    "obj = re.compile(pat)\n",
    "email_list = []\n",
    "hand = open('email.txt')\n",
    "for line in hand:\n",
    "    line = line.rstrip()\n",
    "    email_addr = obj.findall(line)\n",
    "    if len(email_addr) > 0:\n",
    "        email_list.append(email_addr[0])\n",
    "\n",
    "list(set(email_list))\n",
    "\n"
   ]
  },
  {
   "cell_type": "code",
   "execution_count": 58,
   "metadata": {
    "ExecuteTime": {
     "end_time": "2020-06-08T22:56:47.960776Z",
     "start_time": "2020-06-08T22:56:47.958248Z"
    }
   },
   "outputs": [],
   "source": [
    "news =\\\n",
    "\"\"\"\n",
    "Jack Black sold 15,000 shares in AMZN on 2019-03-06 at a price of $1044.00.\n",
    "David V.Love bought 811 shares in TLSA on 2020-01-19 at a price of $868.75.\n",
    "Steven exercised 262 shares in AAPL on 2020-02-04 at a price of $301.00.\n",
    "\"\"\""
   ]
  },
  {
   "cell_type": "code",
   "execution_count": 59,
   "metadata": {
    "ExecuteTime": {
     "end_time": "2020-06-08T22:56:54.289539Z",
     "start_time": "2020-06-08T22:56:54.284478Z"
    }
   },
   "outputs": [
    {
     "data": {
      "text/plain": [
       "[('Jack Black', 'sold', '15,000', 'AMZN', '2019-03-06', '$1044.00'),\n",
       " ('David V.Love', 'bought', '811', 'TLSA', '2020-01-19', '$868.75'),\n",
       " ('Steven', 'exercised', '262', 'AAPL', '2020-02-04', '$301.00')]"
      ]
     },
     "execution_count": 59,
     "metadata": {},
     "output_type": "execute_result"
    }
   ],
   "source": [
    "pat = r'([a-zA-Z. ]*)' \\\n",
    "        '\\s(sold|bought|exercised)' \\\n",
    "        '\\s*([\\d,]+)' \\\n",
    "        '.*in\\s([A-Z]{,5})' \\\n",
    "        '.*(\\d{4}-\\d{2}-\\d{2})' \\\n",
    "        '.*price of\\s(\\$\\d*.\\d*)'\n",
    "\n",
    "re.findall(pat,news)"
   ]
  },
  {
   "cell_type": "markdown",
   "metadata": {},
   "source": []
  },
  {
   "cell_type": "markdown",
   "metadata": {},
   "source": [
    "## What is a regex pattern and how to compile one?"
   ]
  },
  {
   "cell_type": "code",
   "execution_count": 17,
   "metadata": {
    "ExecuteTime": {
     "end_time": "2020-06-08T22:37:53.882375Z",
     "start_time": "2020-06-08T22:37:53.879599Z"
    }
   },
   "outputs": [],
   "source": [
    "text = \"\"\"101 COM    Computers\n",
    "205 MAT   Mathematics\n",
    "189 ENG   English\"\"\" "
   ]
  },
  {
   "cell_type": "code",
   "execution_count": 18,
   "metadata": {
    "ExecuteTime": {
     "end_time": "2020-06-08T22:37:54.463053Z",
     "start_time": "2020-06-08T22:37:54.460214Z"
    }
   },
   "outputs": [],
   "source": [
    "import re   \n",
    "regex = re.compile('\\s+')"
   ]
  },
  {
   "cell_type": "markdown",
   "metadata": {},
   "source": [
    "### How to split a string separated by a regex?\n",
    "1. By using the re.split method.\n",
    "2. By calling the split method of the regex object."
   ]
  },
  {
   "cell_type": "code",
   "execution_count": 19,
   "metadata": {
    "ExecuteTime": {
     "end_time": "2020-06-08T22:37:55.881540Z",
     "start_time": "2020-06-08T22:37:55.876376Z"
    }
   },
   "outputs": [
    {
     "data": {
      "text/plain": [
       "['101',\n",
       " 'COM',\n",
       " 'Computers',\n",
       " '205',\n",
       " 'MAT',\n",
       " 'Mathematics',\n",
       " '189',\n",
       " 'ENG',\n",
       " 'English']"
      ]
     },
     "execution_count": 19,
     "metadata": {},
     "output_type": "execute_result"
    }
   ],
   "source": [
    "re.split('\\s+', text)"
   ]
  },
  {
   "cell_type": "markdown",
   "metadata": {
    "ExecuteTime": {
     "end_time": "2020-05-17T19:17:21.191694Z",
     "start_time": "2020-05-17T19:17:21.189107Z"
    }
   },
   "source": [
    "## Finding pattern matches using findall, search and match"
   ]
  },
  {
   "cell_type": "markdown",
   "metadata": {},
   "source": [
    "### What does re.findall() do?"
   ]
  },
  {
   "cell_type": "code",
   "execution_count": 7,
   "metadata": {
    "ExecuteTime": {
     "end_time": "2020-05-17T19:17:51.878380Z",
     "start_time": "2020-05-17T19:17:51.873488Z"
    }
   },
   "outputs": [
    {
     "name": "stdout",
     "output_type": "stream",
     "text": [
      "101 COM    Computers\n",
      "205 MAT   Mathematics\n",
      "189 ENG   English\n"
     ]
    },
    {
     "data": {
      "text/plain": [
       "['101', '205', '189']"
      ]
     },
     "execution_count": 7,
     "metadata": {},
     "output_type": "execute_result"
    }
   ],
   "source": [
    "print(text)\n",
    "regex_num = re.compile('\\d+')\n",
    "regex_num.findall(text)"
   ]
  },
  {
   "cell_type": "markdown",
   "metadata": {},
   "source": [
    "### re.search() vs re.match()\n",
    "\n",
    "* re.search() is returning match object and implies that first match found at index 69.\n",
    "* re.match() is returning none because match exist in second line of the string and re.match() searches only in first line of string."
   ]
  },
  {
   "cell_type": "code",
   "execution_count": 8,
   "metadata": {
    "ExecuteTime": {
     "end_time": "2020-05-17T19:18:04.465042Z",
     "start_time": "2020-05-17T19:18:04.460194Z"
    }
   },
   "outputs": [
    {
     "name": "stdout",
     "output_type": "stream",
     "text": [
      "Starting Position:  17\n",
      "Ending Position:  20\n",
      "205\n"
     ]
    }
   ],
   "source": [
    "# define the text\n",
    "text2 = \"\"\"COM    Computers\n",
    "205 MAT   Mathematics 189\"\"\"\n",
    "\n",
    "# compile the regex and search the pattern\n",
    "regex_num = re.compile('\\d+')\n",
    "s = regex_num.search(text2)\n",
    "\n",
    "print('Starting Position: ', s.start())\n",
    "print('Ending Position: ', s.end())\n",
    "print(text2[s.start():s.end()])"
   ]
  },
  {
   "cell_type": "code",
   "execution_count": 9,
   "metadata": {
    "ExecuteTime": {
     "end_time": "2020-05-17T19:18:16.793493Z",
     "start_time": "2020-05-17T19:18:16.790234Z"
    }
   },
   "outputs": [
    {
     "name": "stdout",
     "output_type": "stream",
     "text": [
      "205\n"
     ]
    }
   ],
   "source": [
    "print(s.group())"
   ]
  },
  {
   "cell_type": "markdown",
   "metadata": {},
   "source": [
    "## How to substitute one text with another using regex?"
   ]
  },
  {
   "cell_type": "code",
   "execution_count": 20,
   "metadata": {
    "ExecuteTime": {
     "end_time": "2020-06-08T22:38:04.061337Z",
     "start_time": "2020-06-08T22:38:04.056908Z"
    }
   },
   "outputs": [
    {
     "name": "stdout",
     "output_type": "stream",
     "text": [
      "101 COM Computers 205 MAT Mathematics 189 ENG English\n",
      "101 COM Computers 205 MAT Mathematics 189 ENG English\n"
     ]
    }
   ],
   "source": [
    "regex = re.compile('\\s+')\n",
    "print(regex.sub(' ', text))\n",
    "# or\n",
    "print(re.sub('\\s+', ' ', text))"
   ]
  },
  {
   "cell_type": "code",
   "execution_count": 21,
   "metadata": {
    "ExecuteTime": {
     "end_time": "2020-06-08T22:38:04.594803Z",
     "start_time": "2020-06-08T22:38:04.590888Z"
    },
    "scrolled": true
   },
   "outputs": [
    {
     "name": "stdout",
     "output_type": "stream",
     "text": [
      "101 COM Computers\n",
      "205 MAT Mathematics\n",
      "189 ENG English\n"
     ]
    }
   ],
   "source": [
    "regex = re.compile('((?!\\n)\\s+)')\n",
    "print(regex.sub(' ', text))"
   ]
  },
  {
   "cell_type": "markdown",
   "metadata": {},
   "source": [
    "## Regex groups\n",
    "* extract the desired match objects as individual items."
   ]
  },
  {
   "cell_type": "code",
   "execution_count": 22,
   "metadata": {
    "ExecuteTime": {
     "end_time": "2020-06-08T22:38:05.941465Z",
     "start_time": "2020-06-08T22:38:05.935305Z"
    }
   },
   "outputs": [
    {
     "data": {
      "text/plain": [
       "['Computers', 'Mathematics', 'English']"
      ]
     },
     "execution_count": 22,
     "metadata": {},
     "output_type": "execute_result"
    }
   ],
   "source": [
    "text = \"\"\"101   COM   Computers\n",
    "205   MAT   Mathematics\n",
    "189   ENG    English\"\"\"  \n",
    "\n",
    "# 1. extract all course numbers\n",
    "re.findall('[0-9]+', text)\n",
    "\n",
    "# 2. extract all course codes\n",
    "re.findall('[A-Z]{3}', text)\n",
    "\n",
    "# 3. extract all course names\n",
    "re.findall('[A-Za-z]{4,}', text)\n",
    "\n",
    "#> ['101', '205', '189']\n",
    "#> ['COM', 'MAT', 'ENG']\n",
    "#> ['Computers', 'Mathematics', 'English']"
   ]
  },
  {
   "cell_type": "markdown",
   "metadata": {},
   "source": [
    "## What is greedy matching in regex?"
   ]
  },
  {
   "cell_type": "code",
   "execution_count": 23,
   "metadata": {
    "ExecuteTime": {
     "end_time": "2020-06-08T22:38:07.098206Z",
     "start_time": "2020-06-08T22:38:07.094045Z"
    }
   },
   "outputs": [
    {
     "data": {
      "text/plain": [
       "['< body>Regex Greedy Matching Example < /body>']"
      ]
     },
     "execution_count": 23,
     "metadata": {},
     "output_type": "execute_result"
    }
   ],
   "source": [
    "text = \"< body>Regex Greedy Matching Example < /body>\"\n",
    "re.findall('<.*>', text)"
   ]
  },
  {
   "cell_type": "code",
   "execution_count": 24,
   "metadata": {
    "ExecuteTime": {
     "end_time": "2020-06-08T22:38:07.673244Z",
     "start_time": "2020-06-08T22:38:07.669262Z"
    }
   },
   "outputs": [
    {
     "data": {
      "text/plain": [
       "['< body>', '< /body>']"
      ]
     },
     "execution_count": 24,
     "metadata": {},
     "output_type": "execute_result"
    }
   ],
   "source": [
    "# retrieve the first match\n",
    "re.findall('<.*?>', text)"
   ]
  },
  {
   "cell_type": "markdown",
   "metadata": {},
   "source": [
    "## Most common regular expression syntax and patterns\n",
    "Now that you understand the how to use the re module. Let’s see some commonly used wildcard patterns."
   ]
  },
  {
   "cell_type": "markdown",
   "metadata": {},
   "source": [
    ".             One character except new line\n",
    "\n",
    "\\.            A period. \\ escapes a special \n",
    "character.\n",
    "\n",
    "\\d            One digit\n",
    "\n",
    "\\D            One non-digit\n",
    "\n",
    "\\w            One word character including digits\n",
    "\n",
    "\\W            One non-word character\n",
    "\n",
    "\\s            One whitespace\n",
    "\n",
    "\\S            One non-whitespace\n",
    "\n",
    "\\b            Word boundary\n",
    "\n",
    "\\n            Newline\n",
    "\n",
    "\\t            Tab\n",
    "\n",
    "$             End of string\n",
    "\n",
    "^             Start of string\n",
    "\n",
    "ab|cd         Matches ab or de.\n",
    "\n",
    "[ab-d]        One character of: a, b, c, d\n",
    "\n",
    "[^ab-d]       One character except: a, b, c, d\n",
    "\n",
    "()            Items within parenthesis are \n",
    "retrieved\n",
    "\n",
    "\n",
    "(a(bc))       Items within the sub-parenthesis are retrieved\n",
    "\n",
    "\n",
    "[ab]{2}       Exactly 2 continuous occurrences of a or b\n",
    "\n",
    "[ab]{2,5}     2 to 5 continuous occurrences of a or b\n",
    "\n",
    "[ab]{2,}      2 or more continuous occurrences of a or b\n",
    "\n",
    "+             One or more\n",
    "\n",
    "*             Zero or more\n",
    "\n",
    "?             0 or 1"
   ]
  },
  {
   "cell_type": "markdown",
   "metadata": {},
   "source": [
    "## Regular Expressions Examples"
   ]
  },
  {
   "cell_type": "markdown",
   "metadata": {},
   "source": [
    "### character pattern"
   ]
  },
  {
   "cell_type": "code",
   "execution_count": 25,
   "metadata": {
    "ExecuteTime": {
     "end_time": "2020-06-08T22:38:10.290129Z",
     "start_time": "2020-06-08T22:38:10.281942Z"
    }
   },
   "outputs": [
    {
     "name": "stdout",
     "output_type": "stream",
     "text": [
      "['m', 'a', 'c', 'h', 'i', 'n', 'e', 'l', 'e', 'a', 'r', 'n', 'i', 'n', 'g', 'p', 'l', 'u', 's', '.', 'c', 'o', 'm']\n",
      "['mac', 'hin', 'ele', 'arn', 'ing', 'plu', 's.c']\n",
      "['.']\n",
      "['m', 'a', 'c', 'h', 'i', 'n', 'e', 'l', 'e', 'a', 'r', 'n', 'i', 'n', 'g', 'p', 'l', 'u', 's', 'c', 'o', 'm']\n",
      "['01', '2015']\n",
      "[', Jan ']\n",
      "['01', 'Jan', '2015']\n",
      "[', ', ' ']\n",
      "['Jan']\n"
     ]
    }
   ],
   "source": [
    "# Any character except for a new line\n",
    "text = 'machinelearningplus.com'\n",
    "print(re.findall('.', text))  # .   Any character except for a new line\n",
    "print(re.findall('...', text))\n",
    "\n",
    "# A period\n",
    "text = 'machinelearningplus.com'\n",
    "print(re.findall('\\.', text))  # matches a period\n",
    "print(re.findall('[^\\.]', text)) \n",
    "\n",
    "# Any digit\n",
    "text = '01, Jan 2015'\n",
    "print(re.findall('\\d+', text))\n",
    "\n",
    "\n",
    "#Anything but a digit\n",
    "text = '01, Jan 2015'\n",
    "print(re.findall('\\D+', text))\n",
    "\n",
    "# Any character, including digits\n",
    "text = '01, Jan 2015'\n",
    "print(re.findall('\\w+', text))\n",
    "\n",
    "#Anything but a character\n",
    "text = '01, Jan 2015'\n",
    "print(re.findall('\\W+', text))  \n",
    "\n",
    "#Collection of characters\n",
    "text = '01, Jan 2015'\n",
    "print(re.findall('[a-zA-Z]+', text)) "
   ]
  },
  {
   "cell_type": "markdown",
   "metadata": {},
   "source": [
    "### Quantifier\n",
    "* match 0,1,n times of a pattern"
   ]
  },
  {
   "cell_type": "code",
   "execution_count": 26,
   "metadata": {
    "ExecuteTime": {
     "end_time": "2020-06-08T22:38:12.323415Z",
     "start_time": "2020-06-08T22:38:12.317546Z"
    }
   },
   "outputs": [
    {
     "name": "stdout",
     "output_type": "stream",
     "text": [
      "['2015']\n",
      "['01', '2015']\n",
      "['Cooool']\n",
      "['Pilani']\n",
      "['color']\n"
     ]
    }
   ],
   "source": [
    "### Match something upto ‘n’ times\n",
    "text = '01, Jan 2015'\n",
    "print(re.findall('\\d{4}', text))  # {n} Matches repeat n times.\n",
    "print(re.findall('\\d{2,4}', text))\n",
    "\n",
    "\n",
    "### Match 1 or more occurrences\n",
    "print(re.findall(r'Co+l', 'So Cooool')) \n",
    "\n",
    "### Match any number of occurrences (0 or more times)\n",
    "\n",
    "print(re.findall(r'Pi*lani', 'Pilani'))\n",
    "\n",
    "### Match exactly zero or one occurrence\n",
    "print(re.findall(r'colou?r', 'color'))"
   ]
  },
  {
   "cell_type": "markdown",
   "metadata": {},
   "source": [
    "### Match word boundaries\n",
    "Word boundaries \\b are commonly used to detect and match the beginning or end of a word. That is, one side is a word character and the other side is whitespace and vice versa.\n",
    "<br>\n",
    "For example, the regex \\btoy will match the ‘toy’ in ‘toy cat’ and not in ‘tolstoy’. In order to match the ‘toy’ in ‘tolstoy’, you should use toy\\b"
   ]
  },
  {
   "cell_type": "code",
   "execution_count": 27,
   "metadata": {
    "ExecuteTime": {
     "end_time": "2020-06-08T22:38:17.895871Z",
     "start_time": "2020-06-08T22:38:17.891850Z"
    }
   },
   "outputs": [
    {
     "data": {
      "text/plain": [
       "['toy']"
      ]
     },
     "execution_count": 27,
     "metadata": {},
     "output_type": "execute_result"
    }
   ],
   "source": [
    "re.findall(r'\\btoy\\b', 'play toy broke toys')"
   ]
  },
  {
   "cell_type": "markdown",
   "metadata": {},
   "source": [
    "## Practice Exercises"
   ]
  },
  {
   "cell_type": "markdown",
   "metadata": {},
   "source": [
    "### Extract the user id, domain name and suffix from the following email addresses."
   ]
  },
  {
   "cell_type": "code",
   "execution_count": 28,
   "metadata": {
    "ExecuteTime": {
     "end_time": "2020-06-08T22:38:20.283729Z",
     "start_time": "2020-06-08T22:38:20.280160Z"
    }
   },
   "outputs": [],
   "source": [
    "emails = \"\"\"zuck26@facebook.com\n",
    "page33@google.com\n",
    "jeff42@amazon.com\"\"\"\n",
    "\n",
    "desired_output = [('zuck26', 'facebook', 'com'),\n",
    " ('page33', 'google', 'com'),\n",
    " ('jeff42', 'amazon', 'com')]"
   ]
  },
  {
   "cell_type": "code",
   "execution_count": null,
   "metadata": {},
   "outputs": [],
   "source": []
  }
 ],
 "metadata": {
  "hide_input": false,
  "kernelspec": {
   "display_name": "Python 3",
   "language": "python",
   "name": "python3"
  },
  "language_info": {
   "codemirror_mode": {
    "name": "ipython",
    "version": 3
   },
   "file_extension": ".py",
   "mimetype": "text/x-python",
   "name": "python",
   "nbconvert_exporter": "python",
   "pygments_lexer": "ipython3",
   "version": "3.7.4"
  },
  "toc": {
   "base_numbering": 1,
   "nav_menu": {},
   "number_sections": true,
   "sideBar": true,
   "skip_h1_title": false,
   "title_cell": "Table of Contents",
   "title_sidebar": "Contents",
   "toc_cell": false,
   "toc_position": {},
   "toc_section_display": true,
   "toc_window_display": true
  },
  "varInspector": {
   "cols": {
    "lenName": 16,
    "lenType": 16,
    "lenVar": 40
   },
   "kernels_config": {
    "python": {
     "delete_cmd_postfix": "",
     "delete_cmd_prefix": "del ",
     "library": "var_list.py",
     "varRefreshCmd": "print(var_dic_list())"
    },
    "r": {
     "delete_cmd_postfix": ") ",
     "delete_cmd_prefix": "rm(",
     "library": "var_list.r",
     "varRefreshCmd": "cat(var_dic_list()) "
    }
   },
   "types_to_exclude": [
    "module",
    "function",
    "builtin_function_or_method",
    "instance",
    "_Feature"
   ],
   "window_display": false
  }
 },
 "nbformat": 4,
 "nbformat_minor": 2
}
